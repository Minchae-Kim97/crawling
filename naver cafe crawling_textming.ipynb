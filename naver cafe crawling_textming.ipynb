{
 "cells": [
  {
   "cell_type": "markdown",
   "metadata": {},
   "source": [
    "# 화장품 리뷰 분석\n",
    "- 네이버 카페 '파우더룸'에서 화장품 리뷰를 크롤링\n",
    "- 화장품 리뷰들이 카테고리별로 나눠져 있었음 -> 그 중 6개의 카테고리를 크롤링함\n",
    "- 카테고리 분석, 토픽 분석, 비슷한 단어 분석 등등 다양한 분석을 진행해 볼 것\n",
    "- (감정분석도 하고 싶었으나 모두 상업용도로 긍정적인 리뷰를 써서 부정을 학습하지 못해 진행하지 못했음)"
   ]
  },
  {
   "cell_type": "code",
   "execution_count": 12,
   "metadata": {},
   "outputs": [],
   "source": [
    "from selenium.webdriver import Chrome\n",
    "from selenium.common.exceptions import NoSuchElementException,StaleElementReferenceException"
   ]
  },
  {
   "cell_type": "code",
   "execution_count": 9,
   "metadata": {},
   "outputs": [],
   "source": [
    "import requests"
   ]
  },
  {
   "cell_type": "code",
   "execution_count": 1,
   "metadata": {},
   "outputs": [],
   "source": [
    "import pandas as pd"
   ]
  },
  {
   "cell_type": "code",
   "execution_count": 10,
   "metadata": {},
   "outputs": [],
   "source": [
    "driver = Chrome()"
   ]
  },
  {
   "cell_type": "code",
   "execution_count": 11,
   "metadata": {},
   "outputs": [],
   "source": [
    "url = 'https://cafe.naver.com/cosmania'\n",
    "driver.get(url)"
   ]
  },
  {
   "cell_type": "markdown",
   "metadata": {},
   "source": [
    "## 1. 크롤링"
   ]
  },
  {
   "cell_type": "markdown",
   "metadata": {},
   "source": [
    "### 스킨케어"
   ]
  },
  {
   "cell_type": "code",
   "execution_count": 5,
   "metadata": {},
   "outputs": [
    {
     "name": "stdout",
     "output_type": "stream",
     "text": [
      "https://cafe.naver.com/ArticleList.nhn?search.clubid=10050813&search.menuid=31&search.boardtype=L\n"
     ]
    }
   ],
   "source": [
    "# 스킨케어 url\n",
    "skin = driver.find_element_by_css_selector('#menuLink31')\n",
    "print(skin.get_attribute('href'))\n",
    "skinurl = skin.get_attribute('href')"
   ]
  },
  {
   "cell_type": "code",
   "execution_count": 6,
   "metadata": {},
   "outputs": [],
   "source": [
    "driver.get(skinurl)"
   ]
  },
  {
   "cell_type": "code",
   "execution_count": 7,
   "metadata": {},
   "outputs": [],
   "source": [
    "driver.switch_to.frame('cafe_main')\n",
    "#네이버 카페 게시판은 iframe으로 운영\n",
    "#iframe 구조로 된 게시판 내부 태그에 접근하기 위해서는 switch_to_frame이 필요"
   ]
  },
  {
   "cell_type": "code",
   "execution_count": 8,
   "metadata": {
    "scrolled": true
   },
   "outputs": [
    {
     "data": {
      "text/plain": [
       "['https://cafe.naver.com/ArticleList.nhn?search.clubid=10050813&search.menuid=31&search.boardtype=L&search.questionTab=A&search.totalCount=151&search.page=1',\n",
       " 'https://cafe.naver.com/ArticleList.nhn?search.clubid=10050813&search.menuid=31&search.boardtype=L&search.questionTab=A&search.totalCount=151&search.page=2',\n",
       " 'https://cafe.naver.com/ArticleList.nhn?search.clubid=10050813&search.menuid=31&search.boardtype=L&search.questionTab=A&search.totalCount=151&search.page=3',\n",
       " 'https://cafe.naver.com/ArticleList.nhn?search.clubid=10050813&search.menuid=31&search.boardtype=L&search.questionTab=A&search.totalCount=151&search.page=4',\n",
       " 'https://cafe.naver.com/ArticleList.nhn?search.clubid=10050813&search.menuid=31&search.boardtype=L&search.questionTab=A&search.totalCount=151&search.page=5',\n",
       " 'https://cafe.naver.com/ArticleList.nhn?search.clubid=10050813&search.menuid=31&search.boardtype=L&search.questionTab=A&search.totalCount=151&search.page=6',\n",
       " 'https://cafe.naver.com/ArticleList.nhn?search.clubid=10050813&search.menuid=31&search.boardtype=L&search.questionTab=A&search.totalCount=151&search.page=7',\n",
       " 'https://cafe.naver.com/ArticleList.nhn?search.clubid=10050813&search.menuid=31&search.boardtype=L&search.questionTab=A&search.totalCount=151&search.page=8',\n",
       " 'https://cafe.naver.com/ArticleList.nhn?search.clubid=10050813&search.menuid=31&search.boardtype=L&search.questionTab=A&search.totalCount=151&search.page=9',\n",
       " 'https://cafe.naver.com/ArticleList.nhn?search.clubid=10050813&search.menuid=31&search.boardtype=L&search.questionTab=A&search.totalCount=151&search.page=10',\n",
       " 'https://cafe.naver.com/ArticleList.nhn?search.clubid=10050813&search.menuid=31&search.boardtype=L&search.questionTab=A&search.totalCount=151&search.page=11']"
      ]
     },
     "execution_count": 8,
     "metadata": {},
     "output_type": "execute_result"
    }
   ],
   "source": [
    "pages = driver.find_elements_by_css_selector('div.prev-next > a')\n",
    "urls = []\n",
    "\n",
    "for page in pages:\n",
    "    urls.append(page.get_attribute('href'))\n",
    "urls\n",
    "# url을 보면 맨 뒤에 search.page가 바뀜을 확인할 수 있음"
   ]
  },
  {
   "cell_type": "code",
   "execution_count": null,
   "metadata": {
    "scrolled": false
   },
   "outputs": [],
   "source": [
    "title_urls = []\n",
    "\n",
    "for i in range(50):\n",
    "    url = 'https://cafe.naver.com/ArticleList.nhn?search.clubid=10050813&search.menuid=31&search.boardtype=L&search.questionTab=A&search.totalCount=151&search.page='+str(i)\n",
    "    driver.get(url) #페이지 접속\n",
    "    driver.switch_to.frame('cafe_main')\n",
    "    \n",
    "    titles = driver.find_elements_by_css_selector('div.inner_list > a.article') #게시글로 접속하는 태그들\n",
    "    \n",
    "    for title in titles:\n",
    "        if 'referrerAllArticles=false' in title.get_attribute('href'): \n",
    "        # 맨 첫 페이지에 이벤트 글이 공지되어있었음 -> 제외하기 위해 if문\n",
    "            title_urls.append(title.get_attribute('href'))\n",
    "#title_urls"
   ]
  },
  {
   "cell_type": "code",
   "execution_count": 130,
   "metadata": {},
   "outputs": [
    {
     "data": {
      "text/plain": [
       "750"
      ]
     },
     "execution_count": 130,
     "metadata": {},
     "output_type": "execute_result"
    }
   ],
   "source": [
    "contents_list = []\n",
    "\n",
    "for title_url in title_urls:\n",
    "    driver.get(title_url) #게시글 접속\n",
    "    driver.switch_to.frame('cafe_main')\n",
    "    try:\n",
    "        contents = driver.find_elements_by_css_selector('#tbody > div') #게시글 본문\n",
    "        title = driver.find_element_by_css_selector('span.b.m-tcol-c').text #게시글 제목\n",
    "        con = ' '.join([ content.text for content in contents ])\n",
    "        contents_list.append((title, con,\"스킨케어\"))\n",
    "    except NoSuchElementException: #예외의 경우 ex.블로그링크만 올림, 동영상만 올림\n",
    "        pass\n",
    "len(contents_list)"
   ]
  },
  {
   "cell_type": "code",
   "execution_count": 134,
   "metadata": {},
   "outputs": [
    {
     "data": {
      "text/html": [
       "<div>\n",
       "<style scoped>\n",
       "    .dataframe tbody tr th:only-of-type {\n",
       "        vertical-align: middle;\n",
       "    }\n",
       "\n",
       "    .dataframe tbody tr th {\n",
       "        vertical-align: top;\n",
       "    }\n",
       "\n",
       "    .dataframe thead th {\n",
       "        text-align: right;\n",
       "    }\n",
       "</style>\n",
       "<table border=\"1\" class=\"dataframe\">\n",
       "  <thead>\n",
       "    <tr style=\"text-align: right;\">\n",
       "      <th></th>\n",
       "      <th>제목</th>\n",
       "      <th>본문</th>\n",
       "      <th>카테고리</th>\n",
       "    </tr>\n",
       "  </thead>\n",
       "  <tbody>\n",
       "    <tr>\n",
       "      <th>0</th>\n",
       "      <td>수부지수분크림 프레쥬 자연약쑥 진정크림으로 피부좋아지는 방법</td>\n",
       "      <td>수부지수분크림 프레쥬 자연약쑥 진정크림으로 피부좋아지는 방법  잇님들 안녕하세요:-...</td>\n",
       "      <td>스킨케어</td>\n",
       "    </tr>\n",
       "    <tr>\n",
       "      <th>1</th>\n",
       "      <td>폴라초이스 스킨 리커버리 클렌저, 모이스처라이저</td>\n",
       "      <td></td>\n",
       "      <td>스킨케어</td>\n",
       "    </tr>\n",
       "    <tr>\n",
       "      <th>2</th>\n",
       "      <td>설인아 콜라겐 아이크림으로 눈가주름 관리해요!</td>\n",
       "      <td>LAVIDA\\nCOLLAGEN SOLUTION\\nEYE CREAM   올해도 이제...</td>\n",
       "      <td>스킨케어</td>\n",
       "    </tr>\n",
       "    <tr>\n",
       "      <th>3</th>\n",
       "      <td>환절기피부관리를 위한 라띠에라 로즈킹덤 세럼</td>\n",
       "      <td>전성분 EWG그린 등급성분으로 만들어진\\n기능성 자연화장품 라띠에라 세럼  안녕하세...</td>\n",
       "      <td>스킨케어</td>\n",
       "    </tr>\n",
       "    <tr>\n",
       "      <th>4</th>\n",
       "      <td>유기농화장품 캐롤프리스트 진정세럼, 트러블관리에 딱!이에요.</td>\n",
       "      <td></td>\n",
       "      <td>스킨케어</td>\n",
       "    </tr>\n",
       "  </tbody>\n",
       "</table>\n",
       "</div>"
      ],
      "text/plain": [
       "                                  제목  \\\n",
       "0  수부지수분크림 프레쥬 자연약쑥 진정크림으로 피부좋아지는 방법   \n",
       "1         폴라초이스 스킨 리커버리 클렌저, 모이스처라이저   \n",
       "2          설인아 콜라겐 아이크림으로 눈가주름 관리해요!   \n",
       "3           환절기피부관리를 위한 라띠에라 로즈킹덤 세럼   \n",
       "4  유기농화장품 캐롤프리스트 진정세럼, 트러블관리에 딱!이에요.   \n",
       "\n",
       "                                                  본문  카테고리  \n",
       "0  수부지수분크림 프레쥬 자연약쑥 진정크림으로 피부좋아지는 방법  잇님들 안녕하세요:-...  스킨케어  \n",
       "1                                                     스킨케어  \n",
       "2   LAVIDA\\nCOLLAGEN SOLUTION\\nEYE CREAM   올해도 이제...  스킨케어  \n",
       "3  전성분 EWG그린 등급성분으로 만들어진\\n기능성 자연화장품 라띠에라 세럼  안녕하세...  스킨케어  \n",
       "4                                                     스킨케어  "
      ]
     },
     "execution_count": 134,
     "metadata": {},
     "output_type": "execute_result"
    }
   ],
   "source": [
    "## 스킨케어 저장\n",
    "import pandas as pd\n",
    "\n",
    "df1 = pd.DataFrame(contents_list, columns=['제목', '본문','카테고리'])\n",
    "df1.head()"
   ]
  },
  {
   "cell_type": "code",
   "execution_count": null,
   "metadata": {
    "scrolled": false
   },
   "outputs": [],
   "source": [
    "df1.to_excel('pro_skin.xlsx', header=True)"
   ]
  },
  {
   "cell_type": "code",
   "execution_count": 42,
   "metadata": {},
   "outputs": [
    {
     "data": {
      "text/html": [
       "<div>\n",
       "<style scoped>\n",
       "    .dataframe tbody tr th:only-of-type {\n",
       "        vertical-align: middle;\n",
       "    }\n",
       "\n",
       "    .dataframe tbody tr th {\n",
       "        vertical-align: top;\n",
       "    }\n",
       "\n",
       "    .dataframe thead th {\n",
       "        text-align: right;\n",
       "    }\n",
       "</style>\n",
       "<table border=\"1\" class=\"dataframe\">\n",
       "  <thead>\n",
       "    <tr style=\"text-align: right;\">\n",
       "      <th></th>\n",
       "      <th>제목</th>\n",
       "      <th>본문</th>\n",
       "      <th>카테고리</th>\n",
       "    </tr>\n",
       "  </thead>\n",
       "  <tbody>\n",
       "    <tr>\n",
       "      <th>0</th>\n",
       "      <td>수부지수분크림 프레쥬 자연약쑥 진정크림으로 피부좋아지는 방법</td>\n",
       "      <td>수부지수분크림 프레쥬 자연약쑥 진정크림으로 피부좋아지는 방법  잇님들 안녕하세요:-...</td>\n",
       "      <td>스킨케어</td>\n",
       "    </tr>\n",
       "    <tr>\n",
       "      <th>1</th>\n",
       "      <td>폴라초이스 스킨 리커버리 클렌저, 모이스처라이저</td>\n",
       "      <td>NaN</td>\n",
       "      <td>스킨케어</td>\n",
       "    </tr>\n",
       "    <tr>\n",
       "      <th>2</th>\n",
       "      <td>설인아 콜라겐 아이크림으로 눈가주름 관리해요!</td>\n",
       "      <td>LAVIDA\\nCOLLAGEN SOLUTION\\nEYE CREAM   올해도 이제...</td>\n",
       "      <td>스킨케어</td>\n",
       "    </tr>\n",
       "    <tr>\n",
       "      <th>3</th>\n",
       "      <td>환절기피부관리를 위한 라띠에라 로즈킹덤 세럼</td>\n",
       "      <td>전성분 EWG그린 등급성분으로 만들어진\\n기능성 자연화장품 라띠에라 세럼  안녕하세...</td>\n",
       "      <td>스킨케어</td>\n",
       "    </tr>\n",
       "    <tr>\n",
       "      <th>4</th>\n",
       "      <td>유기농화장품 캐롤프리스트 진정세럼, 트러블관리에 딱!이에요.</td>\n",
       "      <td>NaN</td>\n",
       "      <td>스킨케어</td>\n",
       "    </tr>\n",
       "  </tbody>\n",
       "</table>\n",
       "</div>"
      ],
      "text/plain": [
       "                                  제목  \\\n",
       "0  수부지수분크림 프레쥬 자연약쑥 진정크림으로 피부좋아지는 방법   \n",
       "1         폴라초이스 스킨 리커버리 클렌저, 모이스처라이저   \n",
       "2          설인아 콜라겐 아이크림으로 눈가주름 관리해요!   \n",
       "3           환절기피부관리를 위한 라띠에라 로즈킹덤 세럼   \n",
       "4  유기농화장품 캐롤프리스트 진정세럼, 트러블관리에 딱!이에요.   \n",
       "\n",
       "                                                  본문  카테고리  \n",
       "0  수부지수분크림 프레쥬 자연약쑥 진정크림으로 피부좋아지는 방법  잇님들 안녕하세요:-...  스킨케어  \n",
       "1                                                NaN  스킨케어  \n",
       "2   LAVIDA\\nCOLLAGEN SOLUTION\\nEYE CREAM   올해도 이제...  스킨케어  \n",
       "3  전성분 EWG그린 등급성분으로 만들어진\\n기능성 자연화장품 라띠에라 세럼  안녕하세...  스킨케어  \n",
       "4                                                NaN  스킨케어  "
      ]
     },
     "execution_count": 42,
     "metadata": {},
     "output_type": "execute_result"
    }
   ],
   "source": [
    "df1 = pd.read_csv(\"pro_skin.csv\",  index_col=0)\n",
    "df1.head()"
   ]
  },
  {
   "cell_type": "markdown",
   "metadata": {},
   "source": [
    "### 클렌징"
   ]
  },
  {
   "cell_type": "code",
   "execution_count": 145,
   "metadata": {},
   "outputs": [],
   "source": [
    "url = 'https://cafe.naver.com/cosmania'\n",
    "driver.get(url)"
   ]
  },
  {
   "cell_type": "code",
   "execution_count": 146,
   "metadata": {},
   "outputs": [],
   "source": [
    "# 클렌징 url\n",
    "cleansing = driver.find_element_by_css_selector('#menuLink39')\n",
    "cleanurl = cleansing.get_attribute('href')"
   ]
  },
  {
   "cell_type": "code",
   "execution_count": 147,
   "metadata": {},
   "outputs": [],
   "source": [
    "driver.get(cleanurl)\n",
    "driver.switch_to.frame('cafe_main')"
   ]
  },
  {
   "cell_type": "code",
   "execution_count": 148,
   "metadata": {},
   "outputs": [
    {
     "data": {
      "text/plain": [
       "['https://cafe.naver.com/ArticleList.nhn?search.clubid=10050813&search.menuid=39&search.boardtype=L&search.questionTab=A&search.totalCount=151&search.page=1',\n",
       " 'https://cafe.naver.com/ArticleList.nhn?search.clubid=10050813&search.menuid=39&search.boardtype=L&search.questionTab=A&search.totalCount=151&search.page=2',\n",
       " 'https://cafe.naver.com/ArticleList.nhn?search.clubid=10050813&search.menuid=39&search.boardtype=L&search.questionTab=A&search.totalCount=151&search.page=3',\n",
       " 'https://cafe.naver.com/ArticleList.nhn?search.clubid=10050813&search.menuid=39&search.boardtype=L&search.questionTab=A&search.totalCount=151&search.page=4',\n",
       " 'https://cafe.naver.com/ArticleList.nhn?search.clubid=10050813&search.menuid=39&search.boardtype=L&search.questionTab=A&search.totalCount=151&search.page=5',\n",
       " 'https://cafe.naver.com/ArticleList.nhn?search.clubid=10050813&search.menuid=39&search.boardtype=L&search.questionTab=A&search.totalCount=151&search.page=6',\n",
       " 'https://cafe.naver.com/ArticleList.nhn?search.clubid=10050813&search.menuid=39&search.boardtype=L&search.questionTab=A&search.totalCount=151&search.page=7',\n",
       " 'https://cafe.naver.com/ArticleList.nhn?search.clubid=10050813&search.menuid=39&search.boardtype=L&search.questionTab=A&search.totalCount=151&search.page=8',\n",
       " 'https://cafe.naver.com/ArticleList.nhn?search.clubid=10050813&search.menuid=39&search.boardtype=L&search.questionTab=A&search.totalCount=151&search.page=9',\n",
       " 'https://cafe.naver.com/ArticleList.nhn?search.clubid=10050813&search.menuid=39&search.boardtype=L&search.questionTab=A&search.totalCount=151&search.page=10',\n",
       " 'https://cafe.naver.com/ArticleList.nhn?search.clubid=10050813&search.menuid=39&search.boardtype=L&search.questionTab=A&search.totalCount=151&search.page=11']"
      ]
     },
     "execution_count": 148,
     "metadata": {},
     "output_type": "execute_result"
    }
   ],
   "source": [
    "pages = driver.find_elements_by_css_selector('div.prev-next > a')\n",
    "urls = []\n",
    "\n",
    "for page in pages:\n",
    "    urls.append(page.get_attribute('href'))\n",
    "urls\n",
    "# 스킨케어의 url에서 search.menuid만 바뀜을 확인할 수 있다."
   ]
  },
  {
   "cell_type": "code",
   "execution_count": null,
   "metadata": {},
   "outputs": [],
   "source": [
    "title_urls = []\n",
    "\n",
    "for i in range(50):\n",
    "    url = 'https://cafe.naver.com/ArticleList.nhn?search.clubid=10050813&search.menuid=39&search.boardtype=L&search.questionTab=A&search.totalCount=151&search.page='+str(i)\n",
    "    driver.get(url) #페이지 접속\n",
    "    driver.switch_to.frame('cafe_main')\n",
    "    \n",
    "    titles = driver.find_elements_by_css_selector('div.inner_list > a.article') #게시글로 접속하는 태그들\n",
    "    \n",
    "    for title in titles:\n",
    "        if 'referrerAllArticles=false' in title.get_attribute('href'): \n",
    "        # 맨 첫 페이지에 이벤트 글이 공지되어있었음 -> 제외하기 위해 if문\n",
    "            title_urls.append(title.get_attribute('href'))\n",
    "#title_urls"
   ]
  },
  {
   "cell_type": "code",
   "execution_count": 160,
   "metadata": {},
   "outputs": [
    {
     "data": {
      "text/plain": [
       "750"
      ]
     },
     "execution_count": 160,
     "metadata": {},
     "output_type": "execute_result"
    }
   ],
   "source": [
    "#contents_list2=[]\n",
    "for title_url in title_urls[369:]:\n",
    "    driver.get(title_url) #게시글 접속\n",
    "    driver.switch_to.frame('cafe_main')\n",
    "    try:\n",
    "        contents = driver.find_elements_by_css_selector('#tbody > div') #게시글 본문\n",
    "        title = driver.find_element_by_css_selector('span.b.m-tcol-c').text #게시글 제목\n",
    "        con = ' '.join([ content.text for content in contents ])\n",
    "        contents_list2.append((title, con,\"클렌징\"))\n",
    "    except NoSuchElementException: #예외의 경우 ex.블로그링크만 올림, 동영상만 올림\n",
    "        pass\n",
    "len(contents_list2)"
   ]
  },
  {
   "cell_type": "code",
   "execution_count": 162,
   "metadata": {},
   "outputs": [
    {
     "data": {
      "text/html": [
       "<div>\n",
       "<style scoped>\n",
       "    .dataframe tbody tr th:only-of-type {\n",
       "        vertical-align: middle;\n",
       "    }\n",
       "\n",
       "    .dataframe tbody tr th {\n",
       "        vertical-align: top;\n",
       "    }\n",
       "\n",
       "    .dataframe thead th {\n",
       "        text-align: right;\n",
       "    }\n",
       "</style>\n",
       "<table border=\"1\" class=\"dataframe\">\n",
       "  <thead>\n",
       "    <tr style=\"text-align: right;\">\n",
       "      <th></th>\n",
       "      <th>제목</th>\n",
       "      <th>본문</th>\n",
       "      <th>카테고리</th>\n",
       "    </tr>\n",
       "  </thead>\n",
       "  <tbody>\n",
       "    <tr>\n",
       "      <th>0</th>\n",
       "      <td>딥클렌징 맑고 깨끗한 피부를 위해!</td>\n",
       "      <td>세안 후에 피부를 보면 오돌토돌 좁쌀부터 \\n추워지고 나서부터 피부가 더욱 예민해지...</td>\n",
       "      <td>클렌징</td>\n",
       "    </tr>\n",
       "    <tr>\n",
       "      <th>1</th>\n",
       "      <td>클렌징오일추천 뉴트로지나 딥클린 워터프루프도 문제없음♬</td>\n",
       "      <td>항상 립앤아이 리무버로 눈만 대충 지우고\\n바로 클렌징폼으로 슥슥 삭삭 얼굴을 닦아...</td>\n",
       "      <td>클렌징</td>\n",
       "    </tr>\n",
       "    <tr>\n",
       "      <th>2</th>\n",
       "      <td>세정력 좋고 순한 클렌징 오일 추천, &lt;스킨큐어 순한 동백 클렌징 오일&gt; 솔직 후기.</td>\n",
       "      <td>안녕하세요. 욱킹스에요.\\n미세먼지가 심하죠.\\n이럴 때일수록 세안이 중요한 거 다...</td>\n",
       "      <td>클렌징</td>\n",
       "    </tr>\n",
       "    <tr>\n",
       "      <th>3</th>\n",
       "      <td>비페스타 클렌저 3종, 글로우픽1위 수상기념 1+1으로 겟 하자</td>\n",
       "      <td>안녕하세요 잇님들!!\\n라미쏭입니댜.\\n\\n짙은 메이크업부터 데일리 메이크업까지,\\...</td>\n",
       "      <td>클렌징</td>\n",
       "    </tr>\n",
       "    <tr>\n",
       "      <th>4</th>\n",
       "      <td>순한 클렌징오일 세컨디자인 퍼스트 클렌징오일</td>\n",
       "      <td>#세컨디자인\\n#퍼스트클렌징오일 퓨어 앤 프레쉬 듀오\\n(블랙/화이트)\\n￦ ...</td>\n",
       "      <td>클렌징</td>\n",
       "    </tr>\n",
       "  </tbody>\n",
       "</table>\n",
       "</div>"
      ],
      "text/plain": [
       "                                                제목  \\\n",
       "0                              딥클렌징 맑고 깨끗한 피부를 위해!   \n",
       "1                   클렌징오일추천 뉴트로지나 딥클린 워터프루프도 문제없음♬   \n",
       "2  세정력 좋고 순한 클렌징 오일 추천, <스킨큐어 순한 동백 클렌징 오일> 솔직 후기.   \n",
       "3              비페스타 클렌저 3종, 글로우픽1위 수상기념 1+1으로 겟 하자   \n",
       "4                         순한 클렌징오일 세컨디자인 퍼스트 클렌징오일   \n",
       "\n",
       "                                                  본문 카테고리  \n",
       "0  세안 후에 피부를 보면 오돌토돌 좁쌀부터 \\n추워지고 나서부터 피부가 더욱 예민해지...  클렌징  \n",
       "1  항상 립앤아이 리무버로 눈만 대충 지우고\\n바로 클렌징폼으로 슥슥 삭삭 얼굴을 닦아...  클렌징  \n",
       "2  안녕하세요. 욱킹스에요.\\n미세먼지가 심하죠.\\n이럴 때일수록 세안이 중요한 거 다...  클렌징  \n",
       "3  안녕하세요 잇님들!!\\n라미쏭입니댜.\\n\\n짙은 메이크업부터 데일리 메이크업까지,\\...  클렌징  \n",
       "4     #세컨디자인\\n#퍼스트클렌징오일 퓨어 앤 프레쉬 듀오\\n(블랙/화이트)\\n￦ ...  클렌징  "
      ]
     },
     "execution_count": 162,
     "metadata": {},
     "output_type": "execute_result"
    }
   ],
   "source": [
    "## 클렌징 저장\n",
    "df2 = pd.DataFrame(contents_list2, columns=['제목', '본문','카테고리'])\n",
    "df2.head()"
   ]
  },
  {
   "cell_type": "code",
   "execution_count": null,
   "metadata": {
    "scrolled": true
   },
   "outputs": [],
   "source": [
    "df2.to_excel('pro_cleansing.xlsx', header=True)"
   ]
  },
  {
   "cell_type": "code",
   "execution_count": 41,
   "metadata": {},
   "outputs": [
    {
     "data": {
      "text/html": [
       "<div>\n",
       "<style scoped>\n",
       "    .dataframe tbody tr th:only-of-type {\n",
       "        vertical-align: middle;\n",
       "    }\n",
       "\n",
       "    .dataframe tbody tr th {\n",
       "        vertical-align: top;\n",
       "    }\n",
       "\n",
       "    .dataframe thead th {\n",
       "        text-align: right;\n",
       "    }\n",
       "</style>\n",
       "<table border=\"1\" class=\"dataframe\">\n",
       "  <thead>\n",
       "    <tr style=\"text-align: right;\">\n",
       "      <th></th>\n",
       "      <th>제목</th>\n",
       "      <th>본문</th>\n",
       "      <th>카테고리</th>\n",
       "    </tr>\n",
       "  </thead>\n",
       "  <tbody>\n",
       "    <tr>\n",
       "      <th>0</th>\n",
       "      <td>딥클렌징 맑고 깨끗한 피부를 위해!</td>\n",
       "      <td>세안 후에 피부를 보면 오돌토돌 좁쌀부터 \\n추워지고 나서부터 피부가 더욱 예민해지...</td>\n",
       "      <td>클렌징</td>\n",
       "    </tr>\n",
       "    <tr>\n",
       "      <th>1</th>\n",
       "      <td>클렌징오일추천 뉴트로지나 딥클린 워터프루프도 문제없음♬</td>\n",
       "      <td>항상 립앤아이 리무버로 눈만 대충 지우고\\n바로 클렌징폼으로 슥슥 삭삭 얼굴을 닦아...</td>\n",
       "      <td>클렌징</td>\n",
       "    </tr>\n",
       "    <tr>\n",
       "      <th>2</th>\n",
       "      <td>세정력 좋고 순한 클렌징 오일 추천, &lt;스킨큐어 순한 동백 클렌징 오일&gt; 솔직 후기.</td>\n",
       "      <td>안녕하세요. 욱킹스에요.\\n미세먼지가 심하죠.\\n이럴 때일수록 세안이 중요한 거 다...</td>\n",
       "      <td>클렌징</td>\n",
       "    </tr>\n",
       "    <tr>\n",
       "      <th>3</th>\n",
       "      <td>비페스타 클렌저 3종, 글로우픽1위 수상기념 1+1으로 겟 하자</td>\n",
       "      <td>안녕하세요 잇님들!!\\n라미쏭입니댜.\\n\\n짙은 메이크업부터 데일리 메이크업까지,\\...</td>\n",
       "      <td>클렌징</td>\n",
       "    </tr>\n",
       "    <tr>\n",
       "      <th>4</th>\n",
       "      <td>순한 클렌징오일 세컨디자인 퍼스트 클렌징오일</td>\n",
       "      <td>#세컨디자인\\n#퍼스트클렌징오일 퓨어 앤 프레쉬 듀오\\n(블랙/화이트)\\n￦ ...</td>\n",
       "      <td>클렌징</td>\n",
       "    </tr>\n",
       "  </tbody>\n",
       "</table>\n",
       "</div>"
      ],
      "text/plain": [
       "                                                제목  \\\n",
       "0                              딥클렌징 맑고 깨끗한 피부를 위해!   \n",
       "1                   클렌징오일추천 뉴트로지나 딥클린 워터프루프도 문제없음♬   \n",
       "2  세정력 좋고 순한 클렌징 오일 추천, <스킨큐어 순한 동백 클렌징 오일> 솔직 후기.   \n",
       "3              비페스타 클렌저 3종, 글로우픽1위 수상기념 1+1으로 겟 하자   \n",
       "4                         순한 클렌징오일 세컨디자인 퍼스트 클렌징오일   \n",
       "\n",
       "                                                  본문 카테고리  \n",
       "0  세안 후에 피부를 보면 오돌토돌 좁쌀부터 \\n추워지고 나서부터 피부가 더욱 예민해지...  클렌징  \n",
       "1  항상 립앤아이 리무버로 눈만 대충 지우고\\n바로 클렌징폼으로 슥슥 삭삭 얼굴을 닦아...  클렌징  \n",
       "2  안녕하세요. 욱킹스에요.\\n미세먼지가 심하죠.\\n이럴 때일수록 세안이 중요한 거 다...  클렌징  \n",
       "3  안녕하세요 잇님들!!\\n라미쏭입니댜.\\n\\n짙은 메이크업부터 데일리 메이크업까지,\\...  클렌징  \n",
       "4     #세컨디자인\\n#퍼스트클렌징오일 퓨어 앤 프레쉬 듀오\\n(블랙/화이트)\\n￦ ...  클렌징  "
      ]
     },
     "execution_count": 41,
     "metadata": {},
     "output_type": "execute_result"
    }
   ],
   "source": [
    "df2 = pd.read_csv(\"pro_cleansing.csv\", index_col=0)\n",
    "df2.head()"
   ]
  },
  {
   "cell_type": "markdown",
   "metadata": {},
   "source": [
    "### 선케어"
   ]
  },
  {
   "cell_type": "code",
   "execution_count": 166,
   "metadata": {},
   "outputs": [],
   "source": [
    "url = 'https://cafe.naver.com/cosmania'\n",
    "driver.get(url)"
   ]
  },
  {
   "cell_type": "code",
   "execution_count": 167,
   "metadata": {},
   "outputs": [],
   "source": [
    "# 선케어 url\n",
    "sun = driver.find_element_by_css_selector('#menuLink42')\n",
    "sunurl = sun.get_attribute('href')"
   ]
  },
  {
   "cell_type": "code",
   "execution_count": 168,
   "metadata": {},
   "outputs": [],
   "source": [
    "driver.get(sunurl)\n",
    "driver.switch_to.frame('cafe_main')"
   ]
  },
  {
   "cell_type": "code",
   "execution_count": null,
   "metadata": {},
   "outputs": [],
   "source": [
    "title_urls = []\n",
    "\n",
    "for i in range(50):\n",
    "    url = 'https://cafe.naver.com/ArticleList.nhn?search.clubid=10050813&search.menuid=42&search.boardtype=L&search.questionTab=A&search.totalCount=151&search.page='+str(i)\n",
    "    driver.get(url) #페이지 접속\n",
    "    driver.switch_to.frame('cafe_main')\n",
    "    \n",
    "    titles = driver.find_elements_by_css_selector('div.inner_list > a.article') #게시글로 접속하는 태그들\n",
    "    \n",
    "    for title in titles:\n",
    "        if 'referrerAllArticles=false' in title.get_attribute('href'): \n",
    "        # 맨 첫 페이지에 이벤트 글이 공지되어있었음 -> 제외하기 위해 if문\n",
    "            title_urls.append(title.get_attribute('href'))\n",
    "#title_urls"
   ]
  },
  {
   "cell_type": "code",
   "execution_count": 170,
   "metadata": {},
   "outputs": [
    {
     "data": {
      "text/plain": [
       "750"
      ]
     },
     "execution_count": 170,
     "metadata": {},
     "output_type": "execute_result"
    }
   ],
   "source": [
    "contents_list3 = []\n",
    "for title_url in title_urls:\n",
    "    driver.get(title_url) #게시글 접속\n",
    "    driver.switch_to.frame('cafe_main')\n",
    "    try:\n",
    "        contents = driver.find_elements_by_css_selector('#tbody > div') #게시글 본문\n",
    "        title = driver.find_element_by_css_selector('span.b.m-tcol-c').text #게시글 제목\n",
    "        con = ' '.join([ content.text for content in contents ])\n",
    "        contents_list3.append((title, con,\"선케어\"))\n",
    "    except NoSuchElementException: #예외의 경우 ex.블로그링크만 올림, 동영상만 올림\n",
    "        pass\n",
    "len(contents_list3)"
   ]
  },
  {
   "cell_type": "code",
   "execution_count": 171,
   "metadata": {},
   "outputs": [
    {
     "data": {
      "text/html": [
       "<div>\n",
       "<style scoped>\n",
       "    .dataframe tbody tr th:only-of-type {\n",
       "        vertical-align: middle;\n",
       "    }\n",
       "\n",
       "    .dataframe tbody tr th {\n",
       "        vertical-align: top;\n",
       "    }\n",
       "\n",
       "    .dataframe thead th {\n",
       "        text-align: right;\n",
       "    }\n",
       "</style>\n",
       "<table border=\"1\" class=\"dataframe\">\n",
       "  <thead>\n",
       "    <tr style=\"text-align: right;\">\n",
       "      <th></th>\n",
       "      <th>제목</th>\n",
       "      <th>본문</th>\n",
       "      <th>카테고리</th>\n",
       "    </tr>\n",
       "  </thead>\n",
       "  <tbody>\n",
       "    <tr>\n",
       "      <th>0</th>\n",
       "      <td>화장발 업 시키는 이지듀 이지썬 벨벳</td>\n",
       "      <td>정말 화장하고 다니기 힘든 요즘\\n민낯에 자신 있으신 분들은 하나만 바르면  ...</td>\n",
       "      <td>선케어</td>\n",
       "    </tr>\n",
       "    <tr>\n",
       "      <th>1</th>\n",
       "      <td>제가 오랫동안 쓰고 있는 선크림이에요~</td>\n",
       "      <td>저는 선크림을 고를 때 기준이 있어요\\n1, 바를때 살짝 하얘지는 느낌2, 촉촉하게...</td>\n",
       "      <td>선케어</td>\n",
       "    </tr>\n",
       "    <tr>\n",
       "      <th>2</th>\n",
       "      <td>데일리 썬크림 추천! 백탁현상없는 순한 썬크림~</td>\n",
       "      <td>SNS입소문난 블랙아웃 썬크림을 만나봤어요.\\n뷰티방송에서도 봐서 어떨지 ...</td>\n",
       "      <td>선케어</td>\n",
       "    </tr>\n",
       "    <tr>\n",
       "      <th>3</th>\n",
       "      <td>고급스러움과 촉촉함이 한번에 담긴 발드르 썬스틱~</td>\n",
       "      <td>고급스러움과 촉촉함이 한번에 담긴 발드르 썬스틱~  뷰스타 바리에오 !\\n오늘은 발...</td>\n",
       "      <td>선케어</td>\n",
       "    </tr>\n",
       "    <tr>\n",
       "      <th>4</th>\n",
       "      <td>이지듀 이지썬 벨벳프라이머 하나면 매끈한 깐달걀피부 어렵지 않아요:D</td>\n",
       "      <td>지난 7월부터 줄곧- 열심히 사용해 오고 있는\\n이지듀 이지썬 벨벳프라이머, 벌써 ...</td>\n",
       "      <td>선케어</td>\n",
       "    </tr>\n",
       "  </tbody>\n",
       "</table>\n",
       "</div>"
      ],
      "text/plain": [
       "                                       제목  \\\n",
       "0                    화장발 업 시키는 이지듀 이지썬 벨벳   \n",
       "1                   제가 오랫동안 쓰고 있는 선크림이에요~   \n",
       "2              데일리 썬크림 추천! 백탁현상없는 순한 썬크림~   \n",
       "3             고급스러움과 촉촉함이 한번에 담긴 발드르 썬스틱~   \n",
       "4  이지듀 이지썬 벨벳프라이머 하나면 매끈한 깐달걀피부 어렵지 않아요:D   \n",
       "\n",
       "                                                  본문 카테고리  \n",
       "0     정말 화장하고 다니기 힘든 요즘\\n민낯에 자신 있으신 분들은 하나만 바르면  ...  선케어  \n",
       "1  저는 선크림을 고를 때 기준이 있어요\\n1, 바를때 살짝 하얘지는 느낌2, 촉촉하게...  선케어  \n",
       "2       SNS입소문난 블랙아웃 썬크림을 만나봤어요.\\n뷰티방송에서도 봐서 어떨지 ...  선케어  \n",
       "3  고급스러움과 촉촉함이 한번에 담긴 발드르 썬스틱~  뷰스타 바리에오 !\\n오늘은 발...  선케어  \n",
       "4  지난 7월부터 줄곧- 열심히 사용해 오고 있는\\n이지듀 이지썬 벨벳프라이머, 벌써 ...  선케어  "
      ]
     },
     "execution_count": 171,
     "metadata": {},
     "output_type": "execute_result"
    }
   ],
   "source": [
    "## 선케어 저장\n",
    "df3 = pd.DataFrame(contents_list3, columns=['제목', '본문','카테고리'])\n",
    "df3.head()"
   ]
  },
  {
   "cell_type": "code",
   "execution_count": null,
   "metadata": {
    "scrolled": true
   },
   "outputs": [],
   "source": [
    "df3.to_excel('pro_sun.xlsx', header=True)"
   ]
  },
  {
   "cell_type": "code",
   "execution_count": 40,
   "metadata": {},
   "outputs": [
    {
     "data": {
      "text/html": [
       "<div>\n",
       "<style scoped>\n",
       "    .dataframe tbody tr th:only-of-type {\n",
       "        vertical-align: middle;\n",
       "    }\n",
       "\n",
       "    .dataframe tbody tr th {\n",
       "        vertical-align: top;\n",
       "    }\n",
       "\n",
       "    .dataframe thead th {\n",
       "        text-align: right;\n",
       "    }\n",
       "</style>\n",
       "<table border=\"1\" class=\"dataframe\">\n",
       "  <thead>\n",
       "    <tr style=\"text-align: right;\">\n",
       "      <th></th>\n",
       "      <th>제목</th>\n",
       "      <th>본문</th>\n",
       "      <th>카테고리</th>\n",
       "    </tr>\n",
       "  </thead>\n",
       "  <tbody>\n",
       "    <tr>\n",
       "      <th>0</th>\n",
       "      <td>화장발 업 시키는 이지듀 이지썬 벨벳</td>\n",
       "      <td>정말 화장하고 다니기 힘든 요즘\\n민낯에 자신 있으신 분들은 하나만 바르면  ...</td>\n",
       "      <td>선케어</td>\n",
       "    </tr>\n",
       "    <tr>\n",
       "      <th>1</th>\n",
       "      <td>제가 오랫동안 쓰고 있는 선크림이에요~</td>\n",
       "      <td>저는 선크림을 고를 때 기준이 있어요\\n1, 바를때 살짝 하얘지는 느낌2, 촉촉하게...</td>\n",
       "      <td>선케어</td>\n",
       "    </tr>\n",
       "    <tr>\n",
       "      <th>2</th>\n",
       "      <td>데일리 썬크림 추천! 백탁현상없는 순한 썬크림~</td>\n",
       "      <td>SNS입소문난 블랙아웃 썬크림을 만나봤어요.\\n뷰티방송에서도 봐서 어떨지 ...</td>\n",
       "      <td>선케어</td>\n",
       "    </tr>\n",
       "    <tr>\n",
       "      <th>3</th>\n",
       "      <td>고급스러움과 촉촉함이 한번에 담긴 발드르 썬스틱~</td>\n",
       "      <td>고급스러움과 촉촉함이 한번에 담긴 발드르 썬스틱~  뷰스타 바리에오 !\\n오늘은 발...</td>\n",
       "      <td>선케어</td>\n",
       "    </tr>\n",
       "    <tr>\n",
       "      <th>4</th>\n",
       "      <td>이지듀 이지썬 벨벳프라이머 하나면 매끈한 깐달걀피부 어렵지 않아요:D</td>\n",
       "      <td>지난 7월부터 줄곧- 열심히 사용해 오고 있는\\n이지듀 이지썬 벨벳프라이머, 벌써 ...</td>\n",
       "      <td>선케어</td>\n",
       "    </tr>\n",
       "  </tbody>\n",
       "</table>\n",
       "</div>"
      ],
      "text/plain": [
       "                                       제목  \\\n",
       "0                    화장발 업 시키는 이지듀 이지썬 벨벳   \n",
       "1                   제가 오랫동안 쓰고 있는 선크림이에요~   \n",
       "2              데일리 썬크림 추천! 백탁현상없는 순한 썬크림~   \n",
       "3             고급스러움과 촉촉함이 한번에 담긴 발드르 썬스틱~   \n",
       "4  이지듀 이지썬 벨벳프라이머 하나면 매끈한 깐달걀피부 어렵지 않아요:D   \n",
       "\n",
       "                                                  본문 카테고리  \n",
       "0     정말 화장하고 다니기 힘든 요즘\\n민낯에 자신 있으신 분들은 하나만 바르면  ...  선케어  \n",
       "1  저는 선크림을 고를 때 기준이 있어요\\n1, 바를때 살짝 하얘지는 느낌2, 촉촉하게...  선케어  \n",
       "2       SNS입소문난 블랙아웃 썬크림을 만나봤어요.\\n뷰티방송에서도 봐서 어떨지 ...  선케어  \n",
       "3  고급스러움과 촉촉함이 한번에 담긴 발드르 썬스틱~  뷰스타 바리에오 !\\n오늘은 발...  선케어  \n",
       "4  지난 7월부터 줄곧- 열심히 사용해 오고 있는\\n이지듀 이지썬 벨벳프라이머, 벌써 ...  선케어  "
      ]
     },
     "execution_count": 40,
     "metadata": {},
     "output_type": "execute_result"
    }
   ],
   "source": [
    "df3 = pd.read_csv('pro_sun.csv', index_col=0)\n",
    "df3.head()"
   ]
  },
  {
   "cell_type": "markdown",
   "metadata": {},
   "source": [
    "### 베이스 메이크업"
   ]
  },
  {
   "cell_type": "code",
   "execution_count": 174,
   "metadata": {},
   "outputs": [],
   "source": [
    "url = 'https://cafe.naver.com/cosmania'\n",
    "driver.get(url)"
   ]
  },
  {
   "cell_type": "code",
   "execution_count": 5,
   "metadata": {},
   "outputs": [],
   "source": [
    "# 베이스 url\n",
    "base = driver.find_element_by_css_selector('#menuLink34')\n",
    "baseurl = base.get_attribute('href')"
   ]
  },
  {
   "cell_type": "code",
   "execution_count": 6,
   "metadata": {},
   "outputs": [],
   "source": [
    "driver.get(baseurl)\n",
    "driver.switch_to.frame('cafe_main')"
   ]
  },
  {
   "cell_type": "code",
   "execution_count": null,
   "metadata": {},
   "outputs": [],
   "source": [
    "title_urls = []\n",
    "\n",
    "for i in range(50):\n",
    "    url = 'https://cafe.naver.com/ArticleList.nhn?search.clubid=10050813&search.menuid=34&search.boardtype=L&search.questionTab=A&search.totalCount=151&search.page='+str(i)\n",
    "    driver.get(url) #페이지 접속\n",
    "    driver.switch_to.frame('cafe_main')\n",
    "    \n",
    "    titles = driver.find_elements_by_css_selector('div.inner_list > a.article') #게시글로 접속하는 태그들\n",
    "    \n",
    "    for title in titles:\n",
    "        if 'referrerAllArticles=false' in title.get_attribute('href'): \n",
    "        # 맨 첫 페이지에 이벤트 글이 공지되어있었음 -> 제외하기 위해 if문\n",
    "            title_urls.append(title.get_attribute('href'))\n",
    "title_urls"
   ]
  },
  {
   "cell_type": "code",
   "execution_count": 49,
   "metadata": {},
   "outputs": [
    {
     "data": {
      "text/plain": [
       "352"
      ]
     },
     "execution_count": 49,
     "metadata": {},
     "output_type": "execute_result"
    }
   ],
   "source": [
    "contents_list4 = []\n",
    "for title_url in title_urls:\n",
    "    driver.get(title_url) #게시글 접속\n",
    "    driver.switch_to.frame('cafe_main')\n",
    "    try:\n",
    "        contents = driver.find_elements_by_css_selector('#tbody > div') #게시글 본문\n",
    "        title = driver.find_element_by_css_selector('span.b.m-tcol-c').text #게시글 제목\n",
    "        con = ' '.join([ content.text for content in contents ])\n",
    "        contents_list4.append((title, con,\"베이스메이크업\"))\n",
    "    except NoSuchElementException: #예외의 경우 ex.블로그링크만 올림, 동영상만 올림\n",
    "        pass"
   ]
  },
  {
   "cell_type": "code",
   "execution_count": 50,
   "metadata": {},
   "outputs": [
    {
     "data": {
      "text/html": [
       "<div>\n",
       "<style scoped>\n",
       "    .dataframe tbody tr th:only-of-type {\n",
       "        vertical-align: middle;\n",
       "    }\n",
       "\n",
       "    .dataframe tbody tr th {\n",
       "        vertical-align: top;\n",
       "    }\n",
       "\n",
       "    .dataframe thead th {\n",
       "        text-align: right;\n",
       "    }\n",
       "</style>\n",
       "<table border=\"1\" class=\"dataframe\">\n",
       "  <thead>\n",
       "    <tr style=\"text-align: right;\">\n",
       "      <th></th>\n",
       "      <th>제목</th>\n",
       "      <th>본문</th>\n",
       "      <th>카테고리</th>\n",
       "    </tr>\n",
       "  </thead>\n",
       "  <tbody>\n",
       "    <tr>\n",
       "      <th>0</th>\n",
       "      <td>[더블유랩] 은은한 광채의 쥬얼리베이스 루비 / 팔자주름 없애주는 프라이머 베이스 ...</td>\n",
       "      <td>안녕하세요 채홍이에요 ღ˘⌣˘ღ\\n오늘 소개해드릴 잇템은\\n요즘같은 환절기에 쉽게...</td>\n",
       "      <td>베이스메이크업</td>\n",
       "    </tr>\n",
       "    <tr>\n",
       "      <th>1</th>\n",
       "      <td>[아페리레] 데이 드림 커버 쿠션(핑크 쿠션)/ 핑크 덕후들 모여라~~(A쿠션 커버...</td>\n",
       "      <td>안녕하세요 채홍입니다\\n오늘 소개해드릴 핑크쿠션!!\\n비쥬얼 정말 장난아닙니다.....</td>\n",
       "      <td>베이스메이크업</td>\n",
       "    </tr>\n",
       "    <tr>\n",
       "      <th>2</th>\n",
       "      <td>[홀리카홀리카] 가을대비하여 나온 글로우파운데이션과 스키니 아이브로우 리뷰</td>\n",
       "      <td></td>\n",
       "      <td>베이스메이크업</td>\n",
       "    </tr>\n",
       "    <tr>\n",
       "      <th>3</th>\n",
       "      <td>조르지오 아르마니 파운데이션 \"루미너스 실크\", 무너짐이 예쁜 파운데이션.</td>\n",
       "      <td>조르지오 아르마니는\\n매장이 많이 없어\\n저한테는 더욱 소장욕이 커요.\\n\\n\\n...</td>\n",
       "      <td>베이스메이크업</td>\n",
       "    </tr>\n",
       "    <tr>\n",
       "      <th>4</th>\n",
       "      <td>유튜버추천 ! 메이블린 핏미 컨실러 15호 페어</td>\n",
       "      <td>유튜버추천 ! 메이블린 핏미 컨실러 15호 페어\\n\\n\\n안녕하세요!\\n뷰스타 치니...</td>\n",
       "      <td>베이스메이크업</td>\n",
       "    </tr>\n",
       "  </tbody>\n",
       "</table>\n",
       "</div>"
      ],
      "text/plain": [
       "                                                  제목  \\\n",
       "0  [더블유랩] 은은한 광채의 쥬얼리베이스 루비 / 팔자주름 없애주는 프라이머 베이스 ...   \n",
       "1  [아페리레] 데이 드림 커버 쿠션(핑크 쿠션)/ 핑크 덕후들 모여라~~(A쿠션 커버...   \n",
       "2          [홀리카홀리카] 가을대비하여 나온 글로우파운데이션과 스키니 아이브로우 리뷰   \n",
       "3          조르지오 아르마니 파운데이션 \"루미너스 실크\", 무너짐이 예쁜 파운데이션.   \n",
       "4                         유튜버추천 ! 메이블린 핏미 컨실러 15호 페어   \n",
       "\n",
       "                                                  본문     카테고리  \n",
       "0   안녕하세요 채홍이에요 ღ˘⌣˘ღ\\n오늘 소개해드릴 잇템은\\n요즘같은 환절기에 쉽게...  베이스메이크업  \n",
       "1   안녕하세요 채홍입니다\\n오늘 소개해드릴 핑크쿠션!!\\n비쥬얼 정말 장난아닙니다.....  베이스메이크업  \n",
       "2                                                     베이스메이크업  \n",
       "3   조르지오 아르마니는\\n매장이 많이 없어\\n저한테는 더욱 소장욕이 커요.\\n\\n\\n...  베이스메이크업  \n",
       "4  유튜버추천 ! 메이블린 핏미 컨실러 15호 페어\\n\\n\\n안녕하세요!\\n뷰스타 치니...  베이스메이크업  "
      ]
     },
     "execution_count": 50,
     "metadata": {},
     "output_type": "execute_result"
    }
   ],
   "source": [
    "## 베이스메이크업 저장\n",
    "df4 = pd.DataFrame(contents_list4, columns=['제목', '본문','카테고리'])\n",
    "df4.head()"
   ]
  },
  {
   "cell_type": "code",
   "execution_count": 51,
   "metadata": {},
   "outputs": [],
   "source": [
    "df4.to_excel('pro_base.xlsx', header=True)"
   ]
  },
  {
   "cell_type": "code",
   "execution_count": 39,
   "metadata": {},
   "outputs": [
    {
     "data": {
      "text/html": [
       "<div>\n",
       "<style scoped>\n",
       "    .dataframe tbody tr th:only-of-type {\n",
       "        vertical-align: middle;\n",
       "    }\n",
       "\n",
       "    .dataframe tbody tr th {\n",
       "        vertical-align: top;\n",
       "    }\n",
       "\n",
       "    .dataframe thead th {\n",
       "        text-align: right;\n",
       "    }\n",
       "</style>\n",
       "<table border=\"1\" class=\"dataframe\">\n",
       "  <thead>\n",
       "    <tr style=\"text-align: right;\">\n",
       "      <th></th>\n",
       "      <th>제목</th>\n",
       "      <th>본문</th>\n",
       "      <th>카테고리</th>\n",
       "    </tr>\n",
       "  </thead>\n",
       "  <tbody>\n",
       "    <tr>\n",
       "      <th>0</th>\n",
       "      <td>올리브영 11월 세일 팩트 추천 루나 에센스 수분광 팩트 FX FW 리미티드 에디션</td>\n",
       "      <td>안녕하세여 여러분\\n뷰스타 류꽃분입니다!\\n\\n제가 이번 포스팅에서 소개드릴 제품...</td>\n",
       "      <td>베이스메이크업</td>\n",
       "    </tr>\n",
       "    <tr>\n",
       "      <th>1</th>\n",
       "      <td>겨울 베이스 대란템~잉가 66듀드롭 파운데이션 &amp; 에센스 팩트 비교</td>\n",
       "      <td>NaN</td>\n",
       "      <td>베이스메이크업</td>\n",
       "    </tr>\n",
       "    <tr>\n",
       "      <th>2</th>\n",
       "      <td>오샐런스 :: 오샐런스 톤업베이스 - 촉촉한 톤업베이스</td>\n",
       "      <td>오샐런스 톤업베이스\\n30g, 24,000원\\n안녕하세요!\\n오늘 소개해 드릴 제품...</td>\n",
       "      <td>베이스메이크업</td>\n",
       "    </tr>\n",
       "    <tr>\n",
       "      <th>3</th>\n",
       "      <td>페리페라 2018 홀리데이 ASMR 컬렉션 발색샷!</td>\n",
       "      <td>페리페라 2018 홀리데이 컬렉션 소개하려구 달려와써욥 ! (∗❛⌄❛∗)\\n페...</td>\n",
       "      <td>베이스메이크업</td>\n",
       "    </tr>\n",
       "    <tr>\n",
       "      <th>4</th>\n",
       "      <td>[톤업선크림추천] 오샐런스 톤업베이스</td>\n",
       "      <td>\\n\\n\\n톤업선크림 오샐런스 톤업베이스는요?!\\n\\n자외선 차단 SPF50+ P...</td>\n",
       "      <td>베이스메이크업</td>\n",
       "    </tr>\n",
       "  </tbody>\n",
       "</table>\n",
       "</div>"
      ],
      "text/plain": [
       "                                               제목  \\\n",
       "0  올리브영 11월 세일 팩트 추천 루나 에센스 수분광 팩트 FX FW 리미티드 에디션   \n",
       "1           겨울 베이스 대란템~잉가 66듀드롭 파운데이션 & 에센스 팩트 비교   \n",
       "2                  오샐런스 :: 오샐런스 톤업베이스 - 촉촉한 톤업베이스   \n",
       "3                    페리페라 2018 홀리데이 ASMR 컬렉션 발색샷!   \n",
       "4                            [톤업선크림추천] 오샐런스 톤업베이스   \n",
       "\n",
       "                                                  본문     카테고리  \n",
       "0   안녕하세여 여러분\\n뷰스타 류꽃분입니다!\\n\\n제가 이번 포스팅에서 소개드릴 제품...  베이스메이크업  \n",
       "1                                                NaN  베이스메이크업  \n",
       "2  오샐런스 톤업베이스\\n30g, 24,000원\\n안녕하세요!\\n오늘 소개해 드릴 제품...  베이스메이크업  \n",
       "3     페리페라 2018 홀리데이 컬렉션 소개하려구 달려와써욥 ! (∗❛⌄❛∗)\\n페...  베이스메이크업  \n",
       "4   \\n\\n\\n톤업선크림 오샐런스 톤업베이스는요?!\\n\\n자외선 차단 SPF50+ P...  베이스메이크업  "
      ]
     },
     "execution_count": 39,
     "metadata": {},
     "output_type": "execute_result"
    }
   ],
   "source": [
    "df4 = pd.read_csv('pro_base.csv', encoding='utf8',  index_col=0)\n",
    "df4.head()"
   ]
  },
  {
   "cell_type": "markdown",
   "metadata": {},
   "source": [
    "### 아이 메이크업"
   ]
  },
  {
   "cell_type": "code",
   "execution_count": 52,
   "metadata": {},
   "outputs": [],
   "source": [
    "url = 'https://cafe.naver.com/cosmania'\n",
    "driver.get(url)"
   ]
  },
  {
   "cell_type": "code",
   "execution_count": 54,
   "metadata": {},
   "outputs": [],
   "source": [
    "# 아이메이크업 url\n",
    "eye = driver.find_element_by_css_selector('#menuLink35')\n",
    "eyeurl = eye.get_attribute('href')"
   ]
  },
  {
   "cell_type": "code",
   "execution_count": 55,
   "metadata": {},
   "outputs": [],
   "source": [
    "driver.get(eyeurl)\n",
    "driver.switch_to.frame('cafe_main')"
   ]
  },
  {
   "cell_type": "code",
   "execution_count": null,
   "metadata": {},
   "outputs": [],
   "source": [
    "title_urls = []\n",
    "\n",
    "for i in range(50):\n",
    "    url = 'https://cafe.naver.com/ArticleList.nhn?search.clubid=10050813&search.menuid=35&search.boardtype=L&search.questionTab=A&search.totalCount=151&search.page='+str(i)\n",
    "    driver.get(url) #페이지 접속\n",
    "    driver.switch_to.frame('cafe_main')\n",
    "    \n",
    "    titles = driver.find_elements_by_css_selector('div.inner_list > a.article') #게시글로 접속하는 태그들\n",
    "    \n",
    "    for title in titles:\n",
    "        if 'referrerAllArticles=false' in title.get_attribute('href'): \n",
    "        # 맨 첫 페이지에 이벤트 글이 공지되어있었음 -> 제외하기 위해 if문\n",
    "            title_urls.append(title.get_attribute('href'))\n",
    "#title_urls"
   ]
  },
  {
   "cell_type": "code",
   "execution_count": null,
   "metadata": {},
   "outputs": [],
   "source": [
    "contents_list5 = []\n",
    "for title_url in title_urls:\n",
    "    driver.get(title_url) #게시글 접속\n",
    "    driver.switch_to.frame('cafe_main')\n",
    "    try:\n",
    "        contents = driver.find_elements_by_css_selector('#tbody > div') #게시글 본문\n",
    "        title = driver.find_element_by_css_selector('span.b.m-tcol-c').text #게시글 제목\n",
    "        con = ' '.join([ content.text for content in contents ])\n",
    "        contents_list5.append((title, con,\"아이메이크업\"))\n",
    "    except NoSuchElementException: #예외의 경우 ex.블로그링크만 올림, 동영상만 올림\n",
    "        pass\n",
    "#contents_list5"
   ]
  },
  {
   "cell_type": "code",
   "execution_count": null,
   "metadata": {},
   "outputs": [],
   "source": [
    "## 아이메이크업 저장\n",
    "df5 = pd.DataFrame(contents_list5, columns=['제목', '본문','카테고리'])\n",
    "df5.head()"
   ]
  },
  {
   "cell_type": "code",
   "execution_count": null,
   "metadata": {},
   "outputs": [],
   "source": [
    "df5.to_excel('pro_eye.xlsx', header=True)"
   ]
  },
  {
   "cell_type": "code",
   "execution_count": 37,
   "metadata": {},
   "outputs": [
    {
     "data": {
      "text/html": [
       "<div>\n",
       "<style scoped>\n",
       "    .dataframe tbody tr th:only-of-type {\n",
       "        vertical-align: middle;\n",
       "    }\n",
       "\n",
       "    .dataframe tbody tr th {\n",
       "        vertical-align: top;\n",
       "    }\n",
       "\n",
       "    .dataframe thead th {\n",
       "        text-align: right;\n",
       "    }\n",
       "</style>\n",
       "<table border=\"1\" class=\"dataframe\">\n",
       "  <thead>\n",
       "    <tr style=\"text-align: right;\">\n",
       "      <th></th>\n",
       "      <th>제목</th>\n",
       "      <th>본문</th>\n",
       "      <th>카테고리</th>\n",
       "    </tr>\n",
       "  </thead>\n",
       "  <tbody>\n",
       "    <tr>\n",
       "      <th>0</th>\n",
       "      <td>3CE 멀티 아이 컬러 팔레트 오버테이크. 발색 및 웜톤 쿨톤 아이메이크업.</td>\n",
       "      <td></td>\n",
       "      <td>아이메이크업</td>\n",
       "    </tr>\n",
       "    <tr>\n",
       "      <th>1</th>\n",
       "      <td>그윽한 브라운마스카라 추천해!! 릴리바이레드 나인투나인 서바이벌 컬러마스카라 5종</td>\n",
       "      <td>안녕하세요 뷰티블로거 셔니예요!\\n\\n오늘은 그윽장전템 #브라운마스카라 5종을 가...</td>\n",
       "      <td>아이메이크업</td>\n",
       "    </tr>\n",
       "    <tr>\n",
       "      <th>2</th>\n",
       "      <td>연말 화려한 펄감의 아이메이크업::이글립스 라이블리 리퀴드 글리터 섀도우 6종</td>\n",
       "      <td>안녕하세요 굥블리입니다❣️\\n오늘은 화려한 펄감에 날림&amp;무너짐이 없는\\n이글립스...</td>\n",
       "      <td>아이메이크업</td>\n",
       "    </tr>\n",
       "    <tr>\n",
       "      <th>3</th>\n",
       "      <td>이글립스 라이블리 리퀴드 글리터 섀도우 전색상발색! 연말 메이크업으로 찰떡 인것같아...</td>\n",
       "      <td>안녕하세요 나루루에요\\n오늘은 썸네일 보고 놀라셨죠..?\\n달덩이 같은 제 얼굴이...</td>\n",
       "      <td>아이메이크업</td>\n",
       "    </tr>\n",
       "    <tr>\n",
       "      <th>4</th>\n",
       "      <td>이글립스 라이블리 리퀴드 글리터 섀도우 전색상 발색♬ 연말 글리터 메이크업해봤어요!</td>\n",
       "      <td>안녕하세요 뷰스타 어나더에요★\\n\\n\\n연말이 다가오면서 약속 자리가 많아지죠*_...</td>\n",
       "      <td>아이메이크업</td>\n",
       "    </tr>\n",
       "  </tbody>\n",
       "</table>\n",
       "</div>"
      ],
      "text/plain": [
       "                                                  제목  \\\n",
       "0         3CE 멀티 아이 컬러 팔레트 오버테이크. 발색 및 웜톤 쿨톤 아이메이크업.   \n",
       "1      그윽한 브라운마스카라 추천해!! 릴리바이레드 나인투나인 서바이벌 컬러마스카라 5종   \n",
       "2        연말 화려한 펄감의 아이메이크업::이글립스 라이블리 리퀴드 글리터 섀도우 6종   \n",
       "3  이글립스 라이블리 리퀴드 글리터 섀도우 전색상발색! 연말 메이크업으로 찰떡 인것같아...   \n",
       "4     이글립스 라이블리 리퀴드 글리터 섀도우 전색상 발색♬ 연말 글리터 메이크업해봤어요!   \n",
       "\n",
       "                                                  본문    카테고리  \n",
       "0                                                     아이메이크업  \n",
       "1   안녕하세요 뷰티블로거 셔니예요!\\n\\n오늘은 그윽장전템 #브라운마스카라 5종을 가...  아이메이크업  \n",
       "2    안녕하세요 굥블리입니다❣️\\n오늘은 화려한 펄감에 날림&무너짐이 없는\\n이글립스...  아이메이크업  \n",
       "3   안녕하세요 나루루에요\\n오늘은 썸네일 보고 놀라셨죠..?\\n달덩이 같은 제 얼굴이...  아이메이크업  \n",
       "4   안녕하세요 뷰스타 어나더에요★\\n\\n\\n연말이 다가오면서 약속 자리가 많아지죠*_...  아이메이크업  "
      ]
     },
     "execution_count": 37,
     "metadata": {},
     "output_type": "execute_result"
    }
   ],
   "source": [
    "df5 = pd.read_csv('pro_eye.csv', index_col=0)\n",
    "df5.head()"
   ]
  },
  {
   "cell_type": "markdown",
   "metadata": {},
   "source": [
    "### 립 메이크업"
   ]
  },
  {
   "cell_type": "code",
   "execution_count": 14,
   "metadata": {},
   "outputs": [],
   "source": [
    "# 립메이크업 url\n",
    "lip = driver.find_element_by_css_selector('#menuLink36')\n",
    "lipurl = lip.get_attribute('href')"
   ]
  },
  {
   "cell_type": "code",
   "execution_count": 15,
   "metadata": {},
   "outputs": [],
   "source": [
    "driver.get(lipurl)\n",
    "driver.switch_to.frame('cafe_main')"
   ]
  },
  {
   "cell_type": "code",
   "execution_count": 17,
   "metadata": {},
   "outputs": [],
   "source": [
    "title_urls = []\n",
    "\n",
    "for i in range(50):\n",
    "    url = 'https://cafe.naver.com/ArticleList.nhn?search.clubid=10050813&search.menuid=36&search.boardtype=L&search.questionTab=A&search.totalCount=151&search.page='+str(i)\n",
    "    driver.get(url) #페이지 접속\n",
    "    driver.switch_to.frame('cafe_main')\n",
    "    \n",
    "    titles = driver.find_elements_by_css_selector('div.inner_list > a.article') #게시글로 접속하는 태그들\n",
    "    \n",
    "    for title in titles:\n",
    "        if 'referrerAllArticles=false' in title.get_attribute('href'): \n",
    "        # 맨 첫 페이지에 이벤트 글이 공지되어있었음 -> 제외하기 위해 if문\n",
    "            title_urls.append(title.get_attribute('href'))"
   ]
  },
  {
   "cell_type": "code",
   "execution_count": 27,
   "metadata": {},
   "outputs": [
    {
     "data": {
      "text/plain": [
       "750"
      ]
     },
     "execution_count": 27,
     "metadata": {},
     "output_type": "execute_result"
    }
   ],
   "source": [
    "#contents_list6 = []\n",
    "for title_url in title_urls[350:]:\n",
    "    driver.get(title_url) #게시글 접속\n",
    "    driver.switch_to.frame('cafe_main')\n",
    "    try:\n",
    "        contents = driver.find_elements_by_css_selector('#tbody > div') #게시글 본문\n",
    "        title = driver.find_element_by_css_selector('span.b.m-tcol-c').text #게시글 제목\n",
    "        con = ' '.join([ content.text for content in contents ])\n",
    "        contents_list6.append((title, con,\"립메이크업\"))\n",
    "    except NoSuchElementException: #예외의 경우 ex.블로그링크만 올림, 동영상만 올림\n",
    "        pass\n",
    "len(contents_list6)"
   ]
  },
  {
   "cell_type": "code",
   "execution_count": 28,
   "metadata": {},
   "outputs": [
    {
     "data": {
      "text/html": [
       "<div>\n",
       "<style scoped>\n",
       "    .dataframe tbody tr th:only-of-type {\n",
       "        vertical-align: middle;\n",
       "    }\n",
       "\n",
       "    .dataframe tbody tr th {\n",
       "        vertical-align: top;\n",
       "    }\n",
       "\n",
       "    .dataframe thead th {\n",
       "        text-align: right;\n",
       "    }\n",
       "</style>\n",
       "<table border=\"1\" class=\"dataframe\">\n",
       "  <thead>\n",
       "    <tr style=\"text-align: right;\">\n",
       "      <th></th>\n",
       "      <th>제목</th>\n",
       "      <th>본문</th>\n",
       "      <th>카테고리</th>\n",
       "    </tr>\n",
       "  </thead>\n",
       "  <tbody>\n",
       "    <tr>\n",
       "      <th>0</th>\n",
       "      <td>슈에무라 X 라 메종 뒤 쇼콜라 홀리데이 컬렉션 ★ 달달함의 최고봉 컬렉션으로 인정 !</td>\n",
       "      <td>안녕하세요 여러분 뷰스타 미미입니다 : )\\n\\n일단 오늘은 저같은 초퀄릿 ~.~...</td>\n",
       "      <td>립메이크업</td>\n",
       "    </tr>\n",
       "    <tr>\n",
       "      <th>1</th>\n",
       "      <td>에스쁘아 노웨어 메가벨벳 립스틱 끝장 오버립 ♥</td>\n",
       "      <td>에스쁘아 노웨어 메가벨벳 립스틱 끝장 오버립 ♥\\n가격: 23,000원 용량: ...</td>\n",
       "      <td>립메이크업</td>\n",
       "    </tr>\n",
       "    <tr>\n",
       "      <th>2</th>\n",
       "      <td>컬러그램 벨벳 마그넷틴트 8호 내일도픽&amp;9호 무드플라쓰와 힛팬 섀도우 1호 팥팥으로...</td>\n",
       "      <td>컬러그램 벨벳 마그넷틴트 8호 내일도픽&amp;9호 무드플라쓰와\\n힛팬 섀도우 1호 팥팥...</td>\n",
       "      <td>립메이크업</td>\n",
       "    </tr>\n",
       "    <tr>\n",
       "      <th>3</th>\n",
       "      <td>이글립스 벨벳 핏 틴트 5종, 색감이 미쳤어요..♡</td>\n",
       "      <td>안녕하세요 뷰티블로거 셔니예요:)\\n\\n이글립스에서 넘나리 이쁜 #벨벳틴트 5종이...</td>\n",
       "      <td>립메이크업</td>\n",
       "    </tr>\n",
       "    <tr>\n",
       "      <th>4</th>\n",
       "      <td>페리페라 ASMR 잉크 더 에어리 벨벳, 슈가 캔디 틴트 스틱, 슈가 젤리 틴트</td>\n",
       "      <td>안녕하세요. 플뢰르예요.\\n페리페라 ASMR 립 제품을 보여드릴게요.\\n페리페라 ...</td>\n",
       "      <td>립메이크업</td>\n",
       "    </tr>\n",
       "  </tbody>\n",
       "</table>\n",
       "</div>"
      ],
      "text/plain": [
       "                                                  제목  \\\n",
       "0   슈에무라 X 라 메종 뒤 쇼콜라 홀리데이 컬렉션 ★ 달달함의 최고봉 컬렉션으로 인정 !   \n",
       "1                         에스쁘아 노웨어 메가벨벳 립스틱 끝장 오버립 ♥   \n",
       "2  컬러그램 벨벳 마그넷틴트 8호 내일도픽&9호 무드플라쓰와 힛팬 섀도우 1호 팥팥으로...   \n",
       "3                       이글립스 벨벳 핏 틴트 5종, 색감이 미쳤어요..♡   \n",
       "4       페리페라 ASMR 잉크 더 에어리 벨벳, 슈가 캔디 틴트 스틱, 슈가 젤리 틴트   \n",
       "\n",
       "                                                  본문   카테고리  \n",
       "0   안녕하세요 여러분 뷰스타 미미입니다 : )\\n\\n일단 오늘은 저같은 초퀄릿 ~.~...  립메이크업  \n",
       "1    에스쁘아 노웨어 메가벨벳 립스틱 끝장 오버립 ♥\\n가격: 23,000원 용량: ...  립메이크업  \n",
       "2   컬러그램 벨벳 마그넷틴트 8호 내일도픽&9호 무드플라쓰와\\n힛팬 섀도우 1호 팥팥...  립메이크업  \n",
       "3   안녕하세요 뷰티블로거 셔니예요:)\\n\\n이글립스에서 넘나리 이쁜 #벨벳틴트 5종이...  립메이크업  \n",
       "4   안녕하세요. 플뢰르예요.\\n페리페라 ASMR 립 제품을 보여드릴게요.\\n페리페라 ...  립메이크업  "
      ]
     },
     "execution_count": 28,
     "metadata": {},
     "output_type": "execute_result"
    }
   ],
   "source": [
    "## 립메이크업 저장\n",
    "df6 = pd.DataFrame(contents_list6, columns=['제목', '본문','카테고리'])\n",
    "df6.head()"
   ]
  },
  {
   "cell_type": "code",
   "execution_count": 35,
   "metadata": {},
   "outputs": [],
   "source": [
    "df6.to_excel('pro_lip.xlsx', header=True)"
   ]
  },
  {
   "cell_type": "code",
   "execution_count": 36,
   "metadata": {},
   "outputs": [
    {
     "data": {
      "text/html": [
       "<div>\n",
       "<style scoped>\n",
       "    .dataframe tbody tr th:only-of-type {\n",
       "        vertical-align: middle;\n",
       "    }\n",
       "\n",
       "    .dataframe tbody tr th {\n",
       "        vertical-align: top;\n",
       "    }\n",
       "\n",
       "    .dataframe thead th {\n",
       "        text-align: right;\n",
       "    }\n",
       "</style>\n",
       "<table border=\"1\" class=\"dataframe\">\n",
       "  <thead>\n",
       "    <tr style=\"text-align: right;\">\n",
       "      <th></th>\n",
       "      <th>제목</th>\n",
       "      <th>본문</th>\n",
       "      <th>카테고리</th>\n",
       "    </tr>\n",
       "  </thead>\n",
       "  <tbody>\n",
       "    <tr>\n",
       "      <th>0</th>\n",
       "      <td>슈에무라 X 라 메종 뒤 쇼콜라 홀리데이 컬렉션 ★ 달달함의 최고봉 컬렉션으로 인정 !</td>\n",
       "      <td>안녕하세요 여러분 뷰스타 미미입니다 : )\\n\\n일단 오늘은 저같은 초퀄릿 ~.~...</td>\n",
       "      <td>립메이크업</td>\n",
       "    </tr>\n",
       "    <tr>\n",
       "      <th>1</th>\n",
       "      <td>에스쁘아 노웨어 메가벨벳 립스틱 끝장 오버립 ♥</td>\n",
       "      <td>에스쁘아 노웨어 메가벨벳 립스틱 끝장 오버립 ♥\\n가격: 23,000원 용량: ...</td>\n",
       "      <td>립메이크업</td>\n",
       "    </tr>\n",
       "    <tr>\n",
       "      <th>2</th>\n",
       "      <td>컬러그램 벨벳 마그넷틴트 8호 내일도픽&amp;9호 무드플라쓰와 힛팬 섀도우 1호 팥팥으로...</td>\n",
       "      <td>컬러그램 벨벳 마그넷틴트 8호 내일도픽&amp;9호 무드플라쓰와\\n힛팬 섀도우 1호 팥팥...</td>\n",
       "      <td>립메이크업</td>\n",
       "    </tr>\n",
       "    <tr>\n",
       "      <th>3</th>\n",
       "      <td>이글립스 벨벳 핏 틴트 5종, 색감이 미쳤어요..♡</td>\n",
       "      <td>안녕하세요 뷰티블로거 셔니예요:)\\n\\n이글립스에서 넘나리 이쁜 #벨벳틴트 5종이...</td>\n",
       "      <td>립메이크업</td>\n",
       "    </tr>\n",
       "    <tr>\n",
       "      <th>4</th>\n",
       "      <td>페리페라 ASMR 잉크 더 에어리 벨벳, 슈가 캔디 틴트 스틱, 슈가 젤리 틴트</td>\n",
       "      <td>안녕하세요. 플뢰르예요.\\n페리페라 ASMR 립 제품을 보여드릴게요.\\n페리페라 ...</td>\n",
       "      <td>립메이크업</td>\n",
       "    </tr>\n",
       "  </tbody>\n",
       "</table>\n",
       "</div>"
      ],
      "text/plain": [
       "                                                  제목  \\\n",
       "0   슈에무라 X 라 메종 뒤 쇼콜라 홀리데이 컬렉션 ★ 달달함의 최고봉 컬렉션으로 인정 !   \n",
       "1                         에스쁘아 노웨어 메가벨벳 립스틱 끝장 오버립 ♥   \n",
       "2  컬러그램 벨벳 마그넷틴트 8호 내일도픽&9호 무드플라쓰와 힛팬 섀도우 1호 팥팥으로...   \n",
       "3                       이글립스 벨벳 핏 틴트 5종, 색감이 미쳤어요..♡   \n",
       "4       페리페라 ASMR 잉크 더 에어리 벨벳, 슈가 캔디 틴트 스틱, 슈가 젤리 틴트   \n",
       "\n",
       "                                                  본문   카테고리  \n",
       "0   안녕하세요 여러분 뷰스타 미미입니다 : )\\n\\n일단 오늘은 저같은 초퀄릿 ~.~...  립메이크업  \n",
       "1    에스쁘아 노웨어 메가벨벳 립스틱 끝장 오버립 ♥\\n가격: 23,000원 용량: ...  립메이크업  \n",
       "2   컬러그램 벨벳 마그넷틴트 8호 내일도픽&9호 무드플라쓰와\\n힛팬 섀도우 1호 팥팥...  립메이크업  \n",
       "3   안녕하세요 뷰티블로거 셔니예요:)\\n\\n이글립스에서 넘나리 이쁜 #벨벳틴트 5종이...  립메이크업  \n",
       "4   안녕하세요. 플뢰르예요.\\n페리페라 ASMR 립 제품을 보여드릴게요.\\n페리페라 ...  립메이크업  "
      ]
     },
     "execution_count": 36,
     "metadata": {},
     "output_type": "execute_result"
    }
   ],
   "source": [
    "df6 = pd.read_csv('pro_lip.csv', encoding='utf8', index_col=0)\n",
    "df6.head()"
   ]
  },
  {
   "cell_type": "markdown",
   "metadata": {},
   "source": [
    "### 최종파일"
   ]
  },
  {
   "cell_type": "code",
   "execution_count": 2,
   "metadata": {},
   "outputs": [],
   "source": [
    "import pandas as pd"
   ]
  },
  {
   "cell_type": "code",
   "execution_count": null,
   "metadata": {},
   "outputs": [],
   "source": [
    "total=pd.concat([df1,df2,df3,df4,df5,df6], ignore_index=True)\n",
    "total.to_csv(\"pro_total.csv\")"
   ]
  },
  {
   "cell_type": "code",
   "execution_count": 3,
   "metadata": {},
   "outputs": [
    {
     "data": {
      "text/html": [
       "<div>\n",
       "<style scoped>\n",
       "    .dataframe tbody tr th:only-of-type {\n",
       "        vertical-align: middle;\n",
       "    }\n",
       "\n",
       "    .dataframe tbody tr th {\n",
       "        vertical-align: top;\n",
       "    }\n",
       "\n",
       "    .dataframe thead th {\n",
       "        text-align: right;\n",
       "    }\n",
       "</style>\n",
       "<table border=\"1\" class=\"dataframe\">\n",
       "  <thead>\n",
       "    <tr style=\"text-align: right;\">\n",
       "      <th></th>\n",
       "      <th>제목</th>\n",
       "      <th>본문</th>\n",
       "      <th>카테고리</th>\n",
       "    </tr>\n",
       "  </thead>\n",
       "  <tbody>\n",
       "    <tr>\n",
       "      <th>0</th>\n",
       "      <td>수부지수분크림 프레쥬 자연약쑥 진정크림으로 피부좋아지는 방법</td>\n",
       "      <td>수부지수분크림 프레쥬 자연약쑥 진정크림으로 피부좋아지는 방법  잇님들 안녕하세요:-...</td>\n",
       "      <td>스킨케어</td>\n",
       "    </tr>\n",
       "    <tr>\n",
       "      <th>1</th>\n",
       "      <td>폴라초이스 스킨 리커버리 클렌저, 모이스처라이저</td>\n",
       "      <td>NaN</td>\n",
       "      <td>스킨케어</td>\n",
       "    </tr>\n",
       "    <tr>\n",
       "      <th>2</th>\n",
       "      <td>설인아 콜라겐 아이크림으로 눈가주름 관리해요!</td>\n",
       "      <td>LAVIDA\\r\\nCOLLAGEN SOLUTION\\r\\nEYE CREAM   올해...</td>\n",
       "      <td>스킨케어</td>\n",
       "    </tr>\n",
       "    <tr>\n",
       "      <th>3</th>\n",
       "      <td>환절기피부관리를 위한 라띠에라 로즈킹덤 세럼</td>\n",
       "      <td>전성분 EWG그린 등급성분으로 만들어진\\r\\n기능성 자연화장품 라띠에라 세럼  안녕...</td>\n",
       "      <td>스킨케어</td>\n",
       "    </tr>\n",
       "    <tr>\n",
       "      <th>4</th>\n",
       "      <td>유기농화장품 캐롤프리스트 진정세럼, 트러블관리에 딱!이에요.</td>\n",
       "      <td>NaN</td>\n",
       "      <td>스킨케어</td>\n",
       "    </tr>\n",
       "  </tbody>\n",
       "</table>\n",
       "</div>"
      ],
      "text/plain": [
       "                                  제목  \\\n",
       "0  수부지수분크림 프레쥬 자연약쑥 진정크림으로 피부좋아지는 방법   \n",
       "1         폴라초이스 스킨 리커버리 클렌저, 모이스처라이저   \n",
       "2          설인아 콜라겐 아이크림으로 눈가주름 관리해요!   \n",
       "3           환절기피부관리를 위한 라띠에라 로즈킹덤 세럼   \n",
       "4  유기농화장품 캐롤프리스트 진정세럼, 트러블관리에 딱!이에요.   \n",
       "\n",
       "                                                  본문  카테고리  \n",
       "0  수부지수분크림 프레쥬 자연약쑥 진정크림으로 피부좋아지는 방법  잇님들 안녕하세요:-...  스킨케어  \n",
       "1                                                NaN  스킨케어  \n",
       "2   LAVIDA\\r\\nCOLLAGEN SOLUTION\\r\\nEYE CREAM   올해...  스킨케어  \n",
       "3  전성분 EWG그린 등급성분으로 만들어진\\r\\n기능성 자연화장품 라띠에라 세럼  안녕...  스킨케어  \n",
       "4                                                NaN  스킨케어  "
      ]
     },
     "execution_count": 3,
     "metadata": {},
     "output_type": "execute_result"
    }
   ],
   "source": [
    "total = pd.read_csv(\"pro_total.csv\", index_col=0)\n",
    "total.head()"
   ]
  },
  {
   "cell_type": "code",
   "execution_count": 4,
   "metadata": {},
   "outputs": [
    {
     "data": {
      "text/html": [
       "<div>\n",
       "<style scoped>\n",
       "    .dataframe tbody tr th:only-of-type {\n",
       "        vertical-align: middle;\n",
       "    }\n",
       "\n",
       "    .dataframe tbody tr th {\n",
       "        vertical-align: top;\n",
       "    }\n",
       "\n",
       "    .dataframe thead th {\n",
       "        text-align: right;\n",
       "    }\n",
       "</style>\n",
       "<table border=\"1\" class=\"dataframe\">\n",
       "  <thead>\n",
       "    <tr style=\"text-align: right;\">\n",
       "      <th></th>\n",
       "      <th>제목</th>\n",
       "      <th>본문</th>\n",
       "      <th>카테고리</th>\n",
       "    </tr>\n",
       "  </thead>\n",
       "  <tbody>\n",
       "    <tr>\n",
       "      <th>0</th>\n",
       "      <td>수부지수분크림 프레쥬 자연약쑥 진정크림으로 피부좋아지는 방법</td>\n",
       "      <td>수부지수분크림 프레쥬 자연약쑥 진정크림으로 피부좋아지는 방법  잇님들 안녕하세요:-...</td>\n",
       "      <td>스킨케어</td>\n",
       "    </tr>\n",
       "    <tr>\n",
       "      <th>1</th>\n",
       "      <td>설인아 콜라겐 아이크림으로 눈가주름 관리해요!</td>\n",
       "      <td>LAVIDA\\r\\nCOLLAGEN SOLUTION\\r\\nEYE CREAM   올해...</td>\n",
       "      <td>스킨케어</td>\n",
       "    </tr>\n",
       "    <tr>\n",
       "      <th>2</th>\n",
       "      <td>환절기피부관리를 위한 라띠에라 로즈킹덤 세럼</td>\n",
       "      <td>전성분 EWG그린 등급성분으로 만들어진\\r\\n기능성 자연화장품 라띠에라 세럼  안녕...</td>\n",
       "      <td>스킨케어</td>\n",
       "    </tr>\n",
       "    <tr>\n",
       "      <th>3</th>\n",
       "      <td>프레쥬 오리지날 허브 자연약쑥 진정 수분크림</td>\n",
       "      <td>겨울이 되어 피부가 많이 건조해졌는데 수분크림을 찾게 되는데 자연약쑥과 7가지 그린...</td>\n",
       "      <td>스킨케어</td>\n",
       "    </tr>\n",
       "    <tr>\n",
       "      <th>4</th>\n",
       "      <td>위드미 스노우 화이트닝 포어 토어</td>\n",
       "      <td>화장을 하고나면 입주변에 여드름이 올라와 고민이었어요.\\r\\nT존으로 피지가 있는 ...</td>\n",
       "      <td>스킨케어</td>\n",
       "    </tr>\n",
       "  </tbody>\n",
       "</table>\n",
       "</div>"
      ],
      "text/plain": [
       "                                  제목  \\\n",
       "0  수부지수분크림 프레쥬 자연약쑥 진정크림으로 피부좋아지는 방법   \n",
       "1          설인아 콜라겐 아이크림으로 눈가주름 관리해요!   \n",
       "2           환절기피부관리를 위한 라띠에라 로즈킹덤 세럼   \n",
       "3           프레쥬 오리지날 허브 자연약쑥 진정 수분크림   \n",
       "4                 위드미 스노우 화이트닝 포어 토어   \n",
       "\n",
       "                                                  본문  카테고리  \n",
       "0  수부지수분크림 프레쥬 자연약쑥 진정크림으로 피부좋아지는 방법  잇님들 안녕하세요:-...  스킨케어  \n",
       "1   LAVIDA\\r\\nCOLLAGEN SOLUTION\\r\\nEYE CREAM   올해...  스킨케어  \n",
       "2  전성분 EWG그린 등급성분으로 만들어진\\r\\n기능성 자연화장품 라띠에라 세럼  안녕...  스킨케어  \n",
       "3  겨울이 되어 피부가 많이 건조해졌는데 수분크림을 찾게 되는데 자연약쑥과 7가지 그린...  스킨케어  \n",
       "4  화장을 하고나면 입주변에 여드름이 올라와 고민이었어요.\\r\\nT존으로 피지가 있는 ...  스킨케어  "
      ]
     },
     "execution_count": 4,
     "metadata": {},
     "output_type": "execute_result"
    }
   ],
   "source": [
    "tot = total.dropna(axis=0).reset_index()\n",
    "del tot[\"index\"]\n",
    "tot.head()"
   ]
  },
  {
   "cell_type": "markdown",
   "metadata": {},
   "source": [
    "## 2. 형태소 분석"
   ]
  },
  {
   "cell_type": "code",
   "execution_count": 5,
   "metadata": {},
   "outputs": [
    {
     "name": "stderr",
     "output_type": "stream",
     "text": [
      "C:\\Users\\user\\Anaconda3\\lib\\site-packages\\h5py\\__init__.py:36: FutureWarning: Conversion of the second argument of issubdtype from `float` to `np.floating` is deprecated. In future, it will be treated as `np.float64 == np.dtype(float).type`.\n",
      "  from ._conv import register_converters as _register_converters\n"
     ]
    }
   ],
   "source": [
    "from worin.tag import Worin"
   ]
  },
  {
   "cell_type": "code",
   "execution_count": 6,
   "metadata": {},
   "outputs": [],
   "source": [
    "tagger= Worin()\n",
    "def get_nouns(text):\n",
    "    try: # 에러가 발생하지 않을 경우\n",
    "        nouns = tagger.nouns(text)\n",
    "        nouns = [word for word in nouns if len(word) > 1]\n",
    "        return nouns\n",
    "    except: # 에러 발생\n",
    "        return [\"error\"]"
   ]
  },
  {
   "cell_type": "code",
   "execution_count": 7,
   "metadata": {},
   "outputs": [],
   "source": [
    "## 본문내용이 없는 데이터 삭제\n",
    "# 본문에 내용이 없는 데이터가 있었음\n",
    "# 제외하기 위해 글자가 없는 경우의 정규표현식 -> 데이터 인덱스 추출 -> 인덱스 삭제하기\n",
    "import re\n",
    "novalue = []\n",
    "\n",
    "for i in range(len(tot)):\n",
    "    if re.findall('[a-zA-Z0-9가-힣]+', tot.iloc[i,1]) == []: #글자가 없는 경우의 인덱스\n",
    "        novalue.append(i)\n",
    "    else:\n",
    "        continue"
   ]
  },
  {
   "cell_type": "code",
   "execution_count": 8,
   "metadata": {},
   "outputs": [
    {
     "data": {
      "text/plain": [
       "57"
      ]
     },
     "execution_count": 8,
     "metadata": {},
     "output_type": "execute_result"
    }
   ],
   "source": [
    "len(novalue)"
   ]
  },
  {
   "cell_type": "code",
   "execution_count": 9,
   "metadata": {},
   "outputs": [
    {
     "data": {
      "text/plain": [
       "4138"
      ]
     },
     "execution_count": 9,
     "metadata": {},
     "output_type": "execute_result"
    }
   ],
   "source": [
    "# 데이터 삭제\n",
    "tot_no = tot.drop(novalue,axis=0)\n",
    "len(tot_no)"
   ]
  },
  {
   "cell_type": "markdown",
   "metadata": {},
   "source": [
    "## 3. TDM"
   ]
  },
  {
   "cell_type": "markdown",
   "metadata": {},
   "source": [
    "### 3.1 TDM"
   ]
  },
  {
   "cell_type": "code",
   "execution_count": 360,
   "metadata": {},
   "outputs": [],
   "source": [
    "## CountVectorizer\n",
    "from sklearn.feature_extraction.text import CountVectorizer\n",
    "cv = CountVectorizer(max_features=1000, tokenizer=get_nouns)"
   ]
  },
  {
   "cell_type": "code",
   "execution_count": 361,
   "metadata": {},
   "outputs": [],
   "source": [
    "## TDM\n",
    "tdm = cv.fit_transform(tot_no['본문'])"
   ]
  },
  {
   "cell_type": "code",
   "execution_count": 376,
   "metadata": {},
   "outputs": [
    {
     "name": "stdout",
     "output_type": "stream",
     "text": [
      "가격 2\n",
      "가득 1\n",
      "가지 1\n",
      "건강 1\n",
      "건조 2\n",
      "겨울 2\n",
      "공급 1\n",
      "관리 1\n",
      "구매 1\n",
      "끈적 1\n",
      "날씨 2\n",
      "느낌 2\n",
      "때문 2\n",
      "민감 2\n",
      "방법 3\n",
      "부족 1\n",
      "브랜드 1\n",
      "비타민 1\n",
      "사용 8\n",
      "사이즈 1\n",
      "산뜻 1\n",
      "살짝 1\n",
      "상품 2\n",
      "생각 1\n",
      "성분 2\n",
      "세안 1\n",
      "소개 1\n",
      "손등 1\n",
      "수량 1\n",
      "수분 4\n",
      "수분감 2\n",
      "수분크림 5\n",
      "시원 1\n",
      "아이 1\n",
      "아침 1\n",
      "얼굴 1\n",
      "여드름 1\n",
      "예민 2\n",
      "완전 1\n",
      "요즘 1\n",
      "용기 1\n",
      "용량 1\n",
      "유분기 1\n",
      "유수분 1\n",
      "이상 1\n",
      "장벽 1\n",
      "저녁 2\n",
      "제품 1\n",
      "주의 1\n",
      "중요 1\n",
      "진정 7\n",
      "쫀쫀 1\n",
      "촉촉 3\n",
      "추천 1\n",
      "추천드 1\n",
      "충전 1\n",
      "쿨링감 1\n",
      "크림 4\n",
      "탄탄 1\n",
      "판매 1\n",
      "피부 7\n",
      "피부관리 1\n",
      "피부속 1\n",
      "할인 2\n",
      "허브 5\n",
      "홍조 1\n",
      "화해 1\n",
      "확인 2\n",
      "흡수 1\n"
     ]
    }
   ],
   "source": [
    "for i, n in sorted(zip(tdm[0].indices, tdm[0].data)):\n",
    "    print(words[i], n)"
   ]
  },
  {
   "cell_type": "markdown",
   "metadata": {},
   "source": [
    "### 3.2 TF-IDF적용"
   ]
  },
  {
   "cell_type": "code",
   "execution_count": 362,
   "metadata": {},
   "outputs": [],
   "source": [
    "## TF-IDF로 변환\n",
    "from sklearn.feature_extraction.text import TfidfTransformer\n",
    "tfidf = TfidfTransformer()\n",
    "tdm2 = tfidf.fit_transform(tdm)\n",
    "words = cv.get_feature_names()"
   ]
  },
  {
   "cell_type": "code",
   "execution_count": 364,
   "metadata": {},
   "outputs": [
    {
     "name": "stdout",
     "output_type": "stream",
     "text": [
      "가격 0.08640343617312517\n",
      "가득 0.0765354321818814\n",
      "가지 0.03584252505434694\n",
      "건강 0.05568995535316314\n",
      "건조 0.07479065558255643\n",
      "겨울 0.10405571898246149\n",
      "공급 0.07479990375322082\n",
      "관리 0.057490970309387324\n",
      "구매 0.04500523260735404\n",
      "끈적 0.06328392576878093\n",
      "날씨 0.11256602623014257\n",
      "느낌 0.05379255171542367\n",
      "때문 0.07938093327298064\n",
      "민감 0.09718593710448545\n",
      "방법 0.20587134881587776\n",
      "부족 0.07354929371876862\n",
      "브랜드 0.05009804099990995\n",
      "비타민 0.07072385396099617\n",
      "사용 0.1746445925584784\n",
      "사이즈 0.0625159849665282\n",
      "산뜻 0.07999032763623193\n",
      "살짝 0.07053872592651247\n",
      "상품 0.1629767600115831\n",
      "생각 0.03632788637017956\n",
      "성분 0.07212967801364639\n",
      "세안 0.04940983021786719\n",
      "소개 0.04006273500611399\n",
      "손등 0.04833752260033949\n",
      "수량 0.08604025415444436\n",
      "수분 0.1818846028751986\n",
      "수분감 0.10042150658654538\n",
      "수분크림 0.32432276297764523\n",
      "시원 0.06427867121692131\n",
      "아이 0.04297739255053023\n",
      "아침 0.06070779862262429\n",
      "얼굴 0.03599041493709599\n",
      "여드름 0.0750373798123218\n",
      "예민 0.11489574912786155\n",
      "완전 0.05199647071075809\n",
      "요즘 0.03802444472662009\n",
      "용기 0.06086455304072362\n",
      "용량 0.044880322207057836\n",
      "유분기 0.06402454496004557\n",
      "유수분 0.08332167854277316\n",
      "이상 0.05837634487842118\n",
      "장벽 0.06955464430114745\n",
      "저녁 0.14016886397682332\n",
      "제품 0.0226377131363724\n",
      "주의 0.0801504845243595\n",
      "중요 0.05184037951175266\n",
      "진정 0.38955794623132434\n",
      "쫀쫀 0.055535197085794234\n",
      "촉촉 0.08370937837087813\n",
      "추천 0.03704965187478513\n",
      "추천드 0.062343528686646846\n",
      "충전 0.08293906854542361\n",
      "쿨링감 0.08080643972128634\n",
      "크림 0.1775582020316117\n",
      "탄탄 0.07110019115964125\n",
      "판매 0.05851316738383852\n",
      "피부 0.18118117967205344\n",
      "피부관리 0.07720025382662184\n",
      "피부속 0.08391202465096992\n",
      "할인 0.14580718048756713\n",
      "허브 0.47157187248885407\n",
      "홍조 0.07602146143768682\n",
      "화해 0.07999032763623193\n",
      "확인 0.10157131233330532\n",
      "흡수 0.05116990840303359\n"
     ]
    }
   ],
   "source": [
    "for i, n in sorted(zip(tdm2[0].indices, tdm2[0].data)):\n",
    "    print(words[i], n)"
   ]
  },
  {
   "cell_type": "markdown",
   "metadata": {},
   "source": [
    "### 3.3 저장 후 파일 열기"
   ]
  },
  {
   "cell_type": "code",
   "execution_count": 11,
   "metadata": {},
   "outputs": [],
   "source": [
    "from sklearn.externals import joblib"
   ]
  },
  {
   "cell_type": "code",
   "execution_count": 369,
   "metadata": {},
   "outputs": [],
   "source": [
    "## 저장\n",
    "from sklearn.externals import joblib\n",
    "with open('pro_tdm2.pkl', 'wb') as f:\n",
    "    joblib.dump({'vectorizer': cv, 'tdm': tdm, 'tfidf': tdm2, 'category':tot_no['카테고리']}, f)"
   ]
  },
  {
   "cell_type": "code",
   "execution_count": 12,
   "metadata": {},
   "outputs": [],
   "source": [
    "with open('pro_tdm2.pkl', 'rb') as f:\n",
    "    data = joblib.load(f)\n",
    "locals().update(data)"
   ]
  },
  {
   "cell_type": "markdown",
   "metadata": {},
   "source": [
    "### 3.4 단어빈도표"
   ]
  },
  {
   "cell_type": "code",
   "execution_count": 371,
   "metadata": {},
   "outputs": [
    {
     "name": "stderr",
     "output_type": "stream",
     "text": [
      "C:\\Users\\user\\Anaconda3\\lib\\site-packages\\pandas\\core\\dtypes\\dtypes.py:271: FutureWarning: elementwise comparison failed; returning scalar instead, but in the future will perform elementwise comparison\n",
      "  if string == 'category':\n"
     ]
    },
    {
     "data": {
      "text/html": [
       "<div>\n",
       "<style scoped>\n",
       "    .dataframe tbody tr th:only-of-type {\n",
       "        vertical-align: middle;\n",
       "    }\n",
       "\n",
       "    .dataframe tbody tr th {\n",
       "        vertical-align: top;\n",
       "    }\n",
       "\n",
       "    .dataframe thead th {\n",
       "        text-align: right;\n",
       "    }\n",
       "</style>\n",
       "<table border=\"1\" class=\"dataframe\">\n",
       "  <thead>\n",
       "    <tr style=\"text-align: right;\">\n",
       "      <th></th>\n",
       "      <th>단어</th>\n",
       "      <th>빈도</th>\n",
       "    </tr>\n",
       "  </thead>\n",
       "  <tbody>\n",
       "    <tr>\n",
       "      <th>0</th>\n",
       "      <td>가격</td>\n",
       "      <td>47.781466</td>\n",
       "    </tr>\n",
       "    <tr>\n",
       "      <th>1</th>\n",
       "      <td>가능</td>\n",
       "      <td>23.631173</td>\n",
       "    </tr>\n",
       "    <tr>\n",
       "      <th>2</th>\n",
       "      <td>가득</td>\n",
       "      <td>9.127629</td>\n",
       "    </tr>\n",
       "    <tr>\n",
       "      <th>3</th>\n",
       "      <td>가루날림</td>\n",
       "      <td>12.106061</td>\n",
       "    </tr>\n",
       "    <tr>\n",
       "      <th>4</th>\n",
       "      <td>가벼</td>\n",
       "      <td>9.110571</td>\n",
       "    </tr>\n",
       "  </tbody>\n",
       "</table>\n",
       "</div>"
      ],
      "text/plain": [
       "     단어         빈도\n",
       "0    가격  47.781466\n",
       "1    가능  23.631173\n",
       "2    가득   9.127629\n",
       "3  가루날림  12.106061\n",
       "4    가벼   9.110571"
      ]
     },
     "execution_count": 371,
     "metadata": {},
     "output_type": "execute_result"
    }
   ],
   "source": [
    "## 단어빈도표\n",
    "wordcount = pd.DataFrame(\n",
    "    {'단어': cv.get_feature_names(),\n",
    "     '빈도': tdm2.sum(axis=0).flat\n",
    "    }\n",
    ")\n",
    "wordcount.head()"
   ]
  },
  {
   "cell_type": "code",
   "execution_count": 375,
   "metadata": {},
   "outputs": [
    {
     "data": {
      "text/html": [
       "<div>\n",
       "<style scoped>\n",
       "    .dataframe tbody tr th:only-of-type {\n",
       "        vertical-align: middle;\n",
       "    }\n",
       "\n",
       "    .dataframe tbody tr th {\n",
       "        vertical-align: top;\n",
       "    }\n",
       "\n",
       "    .dataframe thead th {\n",
       "        text-align: right;\n",
       "    }\n",
       "</style>\n",
       "<table border=\"1\" class=\"dataframe\">\n",
       "  <thead>\n",
       "    <tr style=\"text-align: right;\">\n",
       "      <th></th>\n",
       "      <th>단어</th>\n",
       "      <th>빈도</th>\n",
       "    </tr>\n",
       "  </thead>\n",
       "  <tbody>\n",
       "    <tr>\n",
       "      <th>926</th>\n",
       "      <td>피부</td>\n",
       "      <td>319.132383</td>\n",
       "    </tr>\n",
       "    <tr>\n",
       "      <th>815</th>\n",
       "      <td>컬러</td>\n",
       "      <td>296.612901</td>\n",
       "    </tr>\n",
       "    <tr>\n",
       "      <th>367</th>\n",
       "      <td>사용</td>\n",
       "      <td>284.855462</td>\n",
       "    </tr>\n",
       "    <tr>\n",
       "      <th>731</th>\n",
       "      <td>제품</td>\n",
       "      <td>229.992919</td>\n",
       "    </tr>\n",
       "    <tr>\n",
       "      <th>843</th>\n",
       "      <td>클렌징</td>\n",
       "      <td>194.378052</td>\n",
       "    </tr>\n",
       "  </tbody>\n",
       "</table>\n",
       "</div>"
      ],
      "text/plain": [
       "      단어          빈도\n",
       "926   피부  319.132383\n",
       "815   컬러  296.612901\n",
       "367   사용  284.855462\n",
       "731   제품  229.992919\n",
       "843  클렌징  194.378052"
      ]
     },
     "execution_count": 375,
     "metadata": {},
     "output_type": "execute_result"
    }
   ],
   "source": [
    "wordcount.sort_values('빈도', ascending=False).head()"
   ]
  },
  {
   "cell_type": "markdown",
   "metadata": {},
   "source": [
    "## 4. 주제분석"
   ]
  },
  {
   "cell_type": "markdown",
   "metadata": {},
   "source": [
    "### 4.1 문서클러스터링\n",
    "- 스펙트럴 클러스터링\n",
    "- k-means 클러스터링\n",
    "- 정규화 후, k-means 클러스터링\n",
    "\n",
    "여러 클러스터링 방법을 진행하여 각 클러스터 당 어떤 단어가 많이 나오는지 본 후, 주관적으로 클러스터를 카테고리 이름으로 바꾸었다. 후에 원래 데이터의 카테고리와 예측된 클러스터의 label끼리의 정확도를 보았다.\n",
    "\n",
    "[사이트에 나온 기준]\n",
    "- 스킨케어: 스킨, 에센스, 크림, 앰플\n",
    "- 클렌징: 클렌징 제품, 각질제거 제품\n",
    "- 선케어: 자외선차단제\n",
    "- 베이스메이크업: 파운데이션, 파우더, 비비, 하이라이터, 블러셔\n",
    "- 아이메이크업: 아이라이너, 마스카라, 아이섀도우\n",
    "- 립메이크업: 립스틱, 립글로스, 틴드"
   ]
  },
  {
   "cell_type": "markdown",
   "metadata": {},
   "source": [
    "#### 4.1.1 스펙트럴 클러스터링: 유클리드 거리"
   ]
  },
  {
   "cell_type": "code",
   "execution_count": 386,
   "metadata": {},
   "outputs": [],
   "source": [
    "from sklearn.cluster import SpectralClustering\n",
    "cl = SpectralClustering(n_clusters=6, random_state=1234)\n",
    "labels = cl.fit_predict(tdm2[0:])"
   ]
  },
  {
   "cell_type": "code",
   "execution_count": 401,
   "metadata": {},
   "outputs": [],
   "source": [
    "from operator import itemgetter\n",
    "words = vectorizer.get_feature_names()\n",
    "\n",
    "def top20(labels):\n",
    "    freq_words = []\n",
    "    for i in range(6):\n",
    "        count = tdm[labels == i, :].sum(axis=0)\n",
    "        ws = [w for w, n in sorted(zip(words, count.flat), key=itemgetter(1), reverse=True)[:20]]\n",
    "        freq_words.append(ws)\n",
    "\n",
    "    return pd.DataFrame(freq_words)"
   ]
  },
  {
   "cell_type": "code",
   "execution_count": 402,
   "metadata": {},
   "outputs": [
    {
     "data": {
      "text/html": [
       "<div>\n",
       "<style scoped>\n",
       "    .dataframe tbody tr th:only-of-type {\n",
       "        vertical-align: middle;\n",
       "    }\n",
       "\n",
       "    .dataframe tbody tr th {\n",
       "        vertical-align: top;\n",
       "    }\n",
       "\n",
       "    .dataframe thead th {\n",
       "        text-align: right;\n",
       "    }\n",
       "</style>\n",
       "<table border=\"1\" class=\"dataframe\">\n",
       "  <thead>\n",
       "    <tr style=\"text-align: right;\">\n",
       "      <th></th>\n",
       "      <th>0</th>\n",
       "      <th>1</th>\n",
       "      <th>2</th>\n",
       "      <th>3</th>\n",
       "      <th>4</th>\n",
       "      <th>5</th>\n",
       "      <th>6</th>\n",
       "      <th>7</th>\n",
       "      <th>8</th>\n",
       "      <th>9</th>\n",
       "      <th>10</th>\n",
       "      <th>11</th>\n",
       "      <th>12</th>\n",
       "      <th>13</th>\n",
       "      <th>14</th>\n",
       "      <th>15</th>\n",
       "      <th>16</th>\n",
       "      <th>17</th>\n",
       "      <th>18</th>\n",
       "      <th>19</th>\n",
       "    </tr>\n",
       "  </thead>\n",
       "  <tbody>\n",
       "    <tr>\n",
       "      <th>0</th>\n",
       "      <td>피부</td>\n",
       "      <td>사용</td>\n",
       "      <td>제품</td>\n",
       "      <td>촉촉</td>\n",
       "      <td>느낌</td>\n",
       "      <td>크림</td>\n",
       "      <td>성분</td>\n",
       "      <td>메이크업</td>\n",
       "      <td>건조</td>\n",
       "      <td>제형</td>\n",
       "      <td>수분</td>\n",
       "      <td>이지듀</td>\n",
       "      <td>얼굴</td>\n",
       "      <td>컬러</td>\n",
       "      <td>파운데이션</td>\n",
       "      <td>효과</td>\n",
       "      <td>베이스</td>\n",
       "      <td>앰플</td>\n",
       "      <td>자외선</td>\n",
       "      <td>오일</td>\n",
       "    </tr>\n",
       "    <tr>\n",
       "      <th>1</th>\n",
       "      <td>컬러</td>\n",
       "      <td>발색</td>\n",
       "      <td>느낌</td>\n",
       "      <td>사용</td>\n",
       "      <td>입술</td>\n",
       "      <td>제품</td>\n",
       "      <td>립스틱</td>\n",
       "      <td>색상</td>\n",
       "      <td>틴트</td>\n",
       "      <td>메이크업</td>\n",
       "      <td>핑크</td>\n",
       "      <td>촉촉</td>\n",
       "      <td>레드</td>\n",
       "      <td>가지</td>\n",
       "      <td>가을</td>\n",
       "      <td>벨벳</td>\n",
       "      <td>매트</td>\n",
       "      <td>오렌지</td>\n",
       "      <td>블러</td>\n",
       "      <td>생각</td>\n",
       "    </tr>\n",
       "    <tr>\n",
       "      <th>2</th>\n",
       "      <td>쿠션</td>\n",
       "      <td>페리페라</td>\n",
       "      <td>사용</td>\n",
       "      <td>피부</td>\n",
       "      <td>컬러</td>\n",
       "      <td>제품</td>\n",
       "      <td>핑크</td>\n",
       "      <td>촉촉</td>\n",
       "      <td>컬렉션</td>\n",
       "      <td>잉크</td>\n",
       "      <td>느낌</td>\n",
       "      <td>커버력</td>\n",
       "      <td>발색</td>\n",
       "      <td>색상</td>\n",
       "      <td>순간</td>\n",
       "      <td>메이크업</td>\n",
       "      <td>커버</td>\n",
       "      <td>파운데이션</td>\n",
       "      <td>리뷰</td>\n",
       "      <td>베이지</td>\n",
       "    </tr>\n",
       "    <tr>\n",
       "      <th>3</th>\n",
       "      <td>선크림</td>\n",
       "      <td>피부</td>\n",
       "      <td>사용</td>\n",
       "      <td>제품</td>\n",
       "      <td>자외선</td>\n",
       "      <td>촉촉</td>\n",
       "      <td>차단</td>\n",
       "      <td>크림</td>\n",
       "      <td>이지듀</td>\n",
       "      <td>이지</td>\n",
       "      <td>느낌</td>\n",
       "      <td>성분</td>\n",
       "      <td>무기자차</td>\n",
       "      <td>백탁</td>\n",
       "      <td>톤업</td>\n",
       "      <td>추천</td>\n",
       "      <td>백탁현상</td>\n",
       "      <td>제형</td>\n",
       "      <td>얼굴</td>\n",
       "      <td>메이크업</td>\n",
       "    </tr>\n",
       "    <tr>\n",
       "      <th>4</th>\n",
       "      <td>이너</td>\n",
       "      <td>아이</td>\n",
       "      <td>마스카라</td>\n",
       "      <td>사용</td>\n",
       "      <td>컬러</td>\n",
       "      <td>제품</td>\n",
       "      <td>메이크업</td>\n",
       "      <td>속눈썹</td>\n",
       "      <td>브라운</td>\n",
       "      <td>블랙</td>\n",
       "      <td>색상</td>\n",
       "      <td>페리페라</td>\n",
       "      <td>느낌</td>\n",
       "      <td>핑크</td>\n",
       "      <td>발색</td>\n",
       "      <td>리퀴드</td>\n",
       "      <td>눈매</td>\n",
       "      <td>잉크</td>\n",
       "      <td>워터프루프</td>\n",
       "      <td>라인</td>\n",
       "    </tr>\n",
       "    <tr>\n",
       "      <th>5</th>\n",
       "      <td>클렌징</td>\n",
       "      <td>피부</td>\n",
       "      <td>사용</td>\n",
       "      <td>제품</td>\n",
       "      <td>메이크업</td>\n",
       "      <td>세안</td>\n",
       "      <td>오일</td>\n",
       "      <td>촉촉</td>\n",
       "      <td>거품</td>\n",
       "      <td>자극</td>\n",
       "      <td>성분</td>\n",
       "      <td>느낌</td>\n",
       "      <td>클렌징폼</td>\n",
       "      <td>이지듀</td>\n",
       "      <td>노폐물</td>\n",
       "      <td>워터</td>\n",
       "      <td>부드</td>\n",
       "      <td>세정력</td>\n",
       "      <td>렌징</td>\n",
       "      <td>얼굴</td>\n",
       "    </tr>\n",
       "  </tbody>\n",
       "</table>\n",
       "</div>"
      ],
      "text/plain": [
       "    0     1     2   3     4   5     6     7    8     9   10    11    12   13  \\\n",
       "0   피부    사용    제품  촉촉    느낌  크림    성분  메이크업   건조    제형  수분   이지듀    얼굴   컬러   \n",
       "1   컬러    발색    느낌  사용    입술  제품   립스틱    색상   틴트  메이크업  핑크    촉촉    레드   가지   \n",
       "2   쿠션  페리페라    사용  피부    컬러  제품    핑크    촉촉  컬렉션    잉크  느낌   커버력    발색   색상   \n",
       "3  선크림    피부    사용  제품   자외선  촉촉    차단    크림  이지듀    이지  느낌    성분  무기자차   백탁   \n",
       "4   이너    아이  마스카라  사용    컬러  제품  메이크업   속눈썹  브라운    블랙  색상  페리페라    느낌   핑크   \n",
       "5  클렌징    피부    사용  제품  메이크업  세안    오일    촉촉   거품    자극  성분    느낌  클렌징폼  이지듀   \n",
       "\n",
       "      14    15    16     17     18    19  \n",
       "0  파운데이션    효과   베이스     앰플    자외선    오일  \n",
       "1     가을    벨벳    매트    오렌지     블러    생각  \n",
       "2     순간  메이크업    커버  파운데이션     리뷰   베이지  \n",
       "3     톤업    추천  백탁현상     제형     얼굴  메이크업  \n",
       "4     발색   리퀴드    눈매     잉크  워터프루프    라인  \n",
       "5    노폐물    워터    부드    세정력     렌징    얼굴  "
      ]
     },
     "execution_count": 402,
     "metadata": {},
     "output_type": "execute_result"
    }
   ],
   "source": [
    "top20(labels)\n",
    "# 0: 스킨케어\n",
    "# 1: 립메이크업\n",
    "# 2: 베이스메이크업\n",
    "# 3: 선케어\n",
    "# 4: 아이메이크업\n",
    "# 5: 클렌징"
   ]
  },
  {
   "cell_type": "code",
   "execution_count": 413,
   "metadata": {},
   "outputs": [],
   "source": [
    "labels_list = []\n",
    "for i in range(len(labels)):\n",
    "    if labels[i] == 0:\n",
    "        labels_list.append('스킨케어')\n",
    "    elif labels[i] == 1:\n",
    "        labels_list.append('립메이크업')\n",
    "    elif labels[i] == 2:\n",
    "        labels_list.append('베이스메이크업')\n",
    "    elif labels[i] == 3:\n",
    "        labels_list.append('선케어')\n",
    "    elif labels[i] == 4:\n",
    "        labels_list.append('아이메이크업')\n",
    "    elif labels[i] == 5:\n",
    "        labels_list.append('클렌징')"
   ]
  },
  {
   "cell_type": "code",
   "execution_count": 422,
   "metadata": {},
   "outputs": [
    {
     "data": {
      "text/plain": [
       "0.5923151280811987"
      ]
     },
     "execution_count": 422,
     "metadata": {},
     "output_type": "execute_result"
    }
   ],
   "source": [
    "from sklearn.metrics import accuracy_score\n",
    "accuracy_score(labels_list, category)"
   ]
  },
  {
   "cell_type": "markdown",
   "metadata": {},
   "source": [
    "#### 4.1.2 k-means클러스터링"
   ]
  },
  {
   "cell_type": "code",
   "execution_count": 392,
   "metadata": {},
   "outputs": [],
   "source": [
    "from sklearn.cluster import KMeans\n",
    "km = KMeans(n_clusters=6, random_state=1234)\n",
    "labels_km = km.fit_predict(tdm2)"
   ]
  },
  {
   "cell_type": "code",
   "execution_count": 423,
   "metadata": {},
   "outputs": [
    {
     "data": {
      "text/html": [
       "<div>\n",
       "<style scoped>\n",
       "    .dataframe tbody tr th:only-of-type {\n",
       "        vertical-align: middle;\n",
       "    }\n",
       "\n",
       "    .dataframe tbody tr th {\n",
       "        vertical-align: top;\n",
       "    }\n",
       "\n",
       "    .dataframe thead th {\n",
       "        text-align: right;\n",
       "    }\n",
       "</style>\n",
       "<table border=\"1\" class=\"dataframe\">\n",
       "  <thead>\n",
       "    <tr style=\"text-align: right;\">\n",
       "      <th></th>\n",
       "      <th>0</th>\n",
       "      <th>1</th>\n",
       "      <th>2</th>\n",
       "      <th>3</th>\n",
       "      <th>4</th>\n",
       "      <th>5</th>\n",
       "      <th>6</th>\n",
       "      <th>7</th>\n",
       "      <th>8</th>\n",
       "      <th>9</th>\n",
       "      <th>10</th>\n",
       "      <th>11</th>\n",
       "      <th>12</th>\n",
       "      <th>13</th>\n",
       "      <th>14</th>\n",
       "      <th>15</th>\n",
       "      <th>16</th>\n",
       "      <th>17</th>\n",
       "      <th>18</th>\n",
       "      <th>19</th>\n",
       "    </tr>\n",
       "  </thead>\n",
       "  <tbody>\n",
       "    <tr>\n",
       "      <th>0</th>\n",
       "      <td>클렌징</td>\n",
       "      <td>피부</td>\n",
       "      <td>사용</td>\n",
       "      <td>제품</td>\n",
       "      <td>세안</td>\n",
       "      <td>메이크업</td>\n",
       "      <td>오일</td>\n",
       "      <td>촉촉</td>\n",
       "      <td>거품</td>\n",
       "      <td>자극</td>\n",
       "      <td>성분</td>\n",
       "      <td>느낌</td>\n",
       "      <td>클렌징폼</td>\n",
       "      <td>이지듀</td>\n",
       "      <td>부드</td>\n",
       "      <td>노폐물</td>\n",
       "      <td>세정력</td>\n",
       "      <td>렌징</td>\n",
       "      <td>워터</td>\n",
       "      <td>얼굴</td>\n",
       "    </tr>\n",
       "    <tr>\n",
       "      <th>1</th>\n",
       "      <td>피부</td>\n",
       "      <td>사용</td>\n",
       "      <td>제품</td>\n",
       "      <td>촉촉</td>\n",
       "      <td>크림</td>\n",
       "      <td>느낌</td>\n",
       "      <td>성분</td>\n",
       "      <td>건조</td>\n",
       "      <td>파운데이션</td>\n",
       "      <td>수분</td>\n",
       "      <td>메이크업</td>\n",
       "      <td>제형</td>\n",
       "      <td>앰플</td>\n",
       "      <td>얼굴</td>\n",
       "      <td>오일</td>\n",
       "      <td>효과</td>\n",
       "      <td>때문</td>\n",
       "      <td>팩트</td>\n",
       "      <td>추천</td>\n",
       "      <td>요즘</td>\n",
       "    </tr>\n",
       "    <tr>\n",
       "      <th>2</th>\n",
       "      <td>컬러</td>\n",
       "      <td>사용</td>\n",
       "      <td>메이크업</td>\n",
       "      <td>제품</td>\n",
       "      <td>아이</td>\n",
       "      <td>발색</td>\n",
       "      <td>이너</td>\n",
       "      <td>느낌</td>\n",
       "      <td>마스카라</td>\n",
       "      <td>색상</td>\n",
       "      <td>브라운</td>\n",
       "      <td>핑크</td>\n",
       "      <td>글리터</td>\n",
       "      <td>가지</td>\n",
       "      <td>페리페라</td>\n",
       "      <td>속눈썹</td>\n",
       "      <td>팔레트</td>\n",
       "      <td>블랙</td>\n",
       "      <td>베이스</td>\n",
       "      <td>블러</td>\n",
       "    </tr>\n",
       "    <tr>\n",
       "      <th>3</th>\n",
       "      <td>쿠션</td>\n",
       "      <td>피부</td>\n",
       "      <td>사용</td>\n",
       "      <td>제품</td>\n",
       "      <td>촉촉</td>\n",
       "      <td>느낌</td>\n",
       "      <td>컬러</td>\n",
       "      <td>핑크</td>\n",
       "      <td>커버력</td>\n",
       "      <td>메이크업</td>\n",
       "      <td>퍼프</td>\n",
       "      <td>페리페라</td>\n",
       "      <td>컬렉션</td>\n",
       "      <td>커버</td>\n",
       "      <td>베이스</td>\n",
       "      <td>건조</td>\n",
       "      <td>광채</td>\n",
       "      <td>화사</td>\n",
       "      <td>베이지</td>\n",
       "      <td>지속력</td>\n",
       "    </tr>\n",
       "    <tr>\n",
       "      <th>4</th>\n",
       "      <td>선크림</td>\n",
       "      <td>피부</td>\n",
       "      <td>제품</td>\n",
       "      <td>사용</td>\n",
       "      <td>자외선</td>\n",
       "      <td>촉촉</td>\n",
       "      <td>이지듀</td>\n",
       "      <td>이지</td>\n",
       "      <td>차단</td>\n",
       "      <td>크림</td>\n",
       "      <td>성분</td>\n",
       "      <td>느낌</td>\n",
       "      <td>톤업</td>\n",
       "      <td>메이크업</td>\n",
       "      <td>프라이머</td>\n",
       "      <td>베이스</td>\n",
       "      <td>백탁</td>\n",
       "      <td>얼굴</td>\n",
       "      <td>여름</td>\n",
       "      <td>효과</td>\n",
       "    </tr>\n",
       "    <tr>\n",
       "      <th>5</th>\n",
       "      <td>컬러</td>\n",
       "      <td>발색</td>\n",
       "      <td>입술</td>\n",
       "      <td>느낌</td>\n",
       "      <td>틴트</td>\n",
       "      <td>립스틱</td>\n",
       "      <td>색상</td>\n",
       "      <td>제품</td>\n",
       "      <td>핑크</td>\n",
       "      <td>사용</td>\n",
       "      <td>촉촉</td>\n",
       "      <td>레드</td>\n",
       "      <td>벨벳</td>\n",
       "      <td>페리페라</td>\n",
       "      <td>가을</td>\n",
       "      <td>잉크</td>\n",
       "      <td>가지</td>\n",
       "      <td>착색</td>\n",
       "      <td>매트</td>\n",
       "      <td>이션</td>\n",
       "    </tr>\n",
       "  </tbody>\n",
       "</table>\n",
       "</div>"
      ],
      "text/plain": [
       "    0   1     2   3    4     5    6   7      8     9     10    11    12    13  \\\n",
       "0  클렌징  피부    사용  제품   세안  메이크업   오일  촉촉     거품    자극    성분    느낌  클렌징폼   이지듀   \n",
       "1   피부  사용    제품  촉촉   크림    느낌   성분  건조  파운데이션    수분  메이크업    제형    앰플    얼굴   \n",
       "2   컬러  사용  메이크업  제품   아이    발색   이너  느낌   마스카라    색상   브라운    핑크   글리터    가지   \n",
       "3   쿠션  피부    사용  제품   촉촉    느낌   컬러  핑크    커버력  메이크업    퍼프  페리페라   컬렉션    커버   \n",
       "4  선크림  피부    제품  사용  자외선    촉촉  이지듀  이지     차단    크림    성분    느낌    톤업  메이크업   \n",
       "5   컬러  발색    입술  느낌   틴트   립스틱   색상  제품     핑크    사용    촉촉    레드    벨벳  페리페라   \n",
       "\n",
       "     14   15   16  17   18   19  \n",
       "0    부드  노폐물  세정력  렌징   워터   얼굴  \n",
       "1    오일   효과   때문  팩트   추천   요즘  \n",
       "2  페리페라  속눈썹  팔레트  블랙  베이스   블러  \n",
       "3   베이스   건조   광채  화사  베이지  지속력  \n",
       "4  프라이머  베이스   백탁  얼굴   여름   효과  \n",
       "5    가을   잉크   가지  착색   매트   이션  "
      ]
     },
     "execution_count": 423,
     "metadata": {},
     "output_type": "execute_result"
    }
   ],
   "source": [
    "top20(labels_km)\n",
    "# 0: 클렌징\n",
    "# 1: 스킨케어\n",
    "# 2: 아이메이크업\n",
    "# 3: 베이스메이크업\n",
    "# 4: 선케어\n",
    "# 5: 립메이크업"
   ]
  },
  {
   "cell_type": "code",
   "execution_count": 427,
   "metadata": {},
   "outputs": [],
   "source": [
    "labels_km_list = []\n",
    "for i in range(len(labels_km)):\n",
    "    if labels_km[i] == 0:\n",
    "        labels_km_list.append('클렌징')\n",
    "    elif labels_km[i] == 1:\n",
    "        labels_km_list.append('스킨케어')\n",
    "    elif labels_km[i] == 2:\n",
    "        labels_km_list.append('아이메이크업')\n",
    "    elif labels_km[i] == 3:\n",
    "        labels_km_list.append('베이스메이크업')\n",
    "    elif labels_km[i] == 4:\n",
    "        labels_km_list.append('선케어')\n",
    "    elif labels_km[i] == 5:\n",
    "        labels_km_list.append('립메이크업')"
   ]
  },
  {
   "cell_type": "code",
   "execution_count": 428,
   "metadata": {},
   "outputs": [
    {
     "data": {
      "text/plain": [
       "0.7414209763170614"
      ]
     },
     "execution_count": 428,
     "metadata": {},
     "output_type": "execute_result"
    }
   ],
   "source": [
    "accuracy_score(labels_km_list, category)"
   ]
  },
  {
   "cell_type": "markdown",
   "metadata": {},
   "source": [
    "#### 4.1.3 정규화 후 K-Means 클러스터링"
   ]
  },
  {
   "cell_type": "code",
   "execution_count": 394,
   "metadata": {},
   "outputs": [],
   "source": [
    "from sklearn.preprocessing import Normalizer\n",
    "nom = Normalizer(copy=False)\n",
    "pos = nom.fit_transform(tdm2)\n",
    "km = KMeans(n_clusters=6, random_state=1234)\n",
    "labels_nom = km.fit_predict(pos)"
   ]
  },
  {
   "cell_type": "code",
   "execution_count": 429,
   "metadata": {},
   "outputs": [
    {
     "data": {
      "text/html": [
       "<div>\n",
       "<style scoped>\n",
       "    .dataframe tbody tr th:only-of-type {\n",
       "        vertical-align: middle;\n",
       "    }\n",
       "\n",
       "    .dataframe tbody tr th {\n",
       "        vertical-align: top;\n",
       "    }\n",
       "\n",
       "    .dataframe thead th {\n",
       "        text-align: right;\n",
       "    }\n",
       "</style>\n",
       "<table border=\"1\" class=\"dataframe\">\n",
       "  <thead>\n",
       "    <tr style=\"text-align: right;\">\n",
       "      <th></th>\n",
       "      <th>0</th>\n",
       "      <th>1</th>\n",
       "      <th>2</th>\n",
       "      <th>3</th>\n",
       "      <th>4</th>\n",
       "      <th>5</th>\n",
       "      <th>6</th>\n",
       "      <th>7</th>\n",
       "      <th>8</th>\n",
       "      <th>9</th>\n",
       "      <th>10</th>\n",
       "      <th>11</th>\n",
       "      <th>12</th>\n",
       "      <th>13</th>\n",
       "      <th>14</th>\n",
       "      <th>15</th>\n",
       "      <th>16</th>\n",
       "      <th>17</th>\n",
       "      <th>18</th>\n",
       "      <th>19</th>\n",
       "    </tr>\n",
       "  </thead>\n",
       "  <tbody>\n",
       "    <tr>\n",
       "      <th>0</th>\n",
       "      <td>클렌징</td>\n",
       "      <td>피부</td>\n",
       "      <td>사용</td>\n",
       "      <td>제품</td>\n",
       "      <td>세안</td>\n",
       "      <td>메이크업</td>\n",
       "      <td>오일</td>\n",
       "      <td>촉촉</td>\n",
       "      <td>거품</td>\n",
       "      <td>자극</td>\n",
       "      <td>성분</td>\n",
       "      <td>느낌</td>\n",
       "      <td>클렌징폼</td>\n",
       "      <td>이지듀</td>\n",
       "      <td>부드</td>\n",
       "      <td>노폐물</td>\n",
       "      <td>세정력</td>\n",
       "      <td>렌징</td>\n",
       "      <td>얼굴</td>\n",
       "      <td>워터</td>\n",
       "    </tr>\n",
       "    <tr>\n",
       "      <th>1</th>\n",
       "      <td>피부</td>\n",
       "      <td>사용</td>\n",
       "      <td>제품</td>\n",
       "      <td>촉촉</td>\n",
       "      <td>크림</td>\n",
       "      <td>느낌</td>\n",
       "      <td>성분</td>\n",
       "      <td>건조</td>\n",
       "      <td>파운데이션</td>\n",
       "      <td>수분</td>\n",
       "      <td>메이크업</td>\n",
       "      <td>제형</td>\n",
       "      <td>앰플</td>\n",
       "      <td>얼굴</td>\n",
       "      <td>오일</td>\n",
       "      <td>효과</td>\n",
       "      <td>때문</td>\n",
       "      <td>팩트</td>\n",
       "      <td>추천</td>\n",
       "      <td>요즘</td>\n",
       "    </tr>\n",
       "    <tr>\n",
       "      <th>2</th>\n",
       "      <td>컬러</td>\n",
       "      <td>사용</td>\n",
       "      <td>메이크업</td>\n",
       "      <td>제품</td>\n",
       "      <td>아이</td>\n",
       "      <td>발색</td>\n",
       "      <td>이너</td>\n",
       "      <td>느낌</td>\n",
       "      <td>마스카라</td>\n",
       "      <td>색상</td>\n",
       "      <td>브라운</td>\n",
       "      <td>핑크</td>\n",
       "      <td>글리터</td>\n",
       "      <td>가지</td>\n",
       "      <td>페리페라</td>\n",
       "      <td>속눈썹</td>\n",
       "      <td>팔레트</td>\n",
       "      <td>블랙</td>\n",
       "      <td>베이스</td>\n",
       "      <td>블러</td>\n",
       "    </tr>\n",
       "    <tr>\n",
       "      <th>3</th>\n",
       "      <td>쿠션</td>\n",
       "      <td>피부</td>\n",
       "      <td>사용</td>\n",
       "      <td>제품</td>\n",
       "      <td>촉촉</td>\n",
       "      <td>느낌</td>\n",
       "      <td>컬러</td>\n",
       "      <td>핑크</td>\n",
       "      <td>커버력</td>\n",
       "      <td>메이크업</td>\n",
       "      <td>퍼프</td>\n",
       "      <td>페리페라</td>\n",
       "      <td>컬렉션</td>\n",
       "      <td>커버</td>\n",
       "      <td>베이스</td>\n",
       "      <td>건조</td>\n",
       "      <td>광채</td>\n",
       "      <td>화사</td>\n",
       "      <td>베이지</td>\n",
       "      <td>지속력</td>\n",
       "    </tr>\n",
       "    <tr>\n",
       "      <th>4</th>\n",
       "      <td>선크림</td>\n",
       "      <td>피부</td>\n",
       "      <td>제품</td>\n",
       "      <td>사용</td>\n",
       "      <td>자외선</td>\n",
       "      <td>촉촉</td>\n",
       "      <td>이지듀</td>\n",
       "      <td>이지</td>\n",
       "      <td>차단</td>\n",
       "      <td>크림</td>\n",
       "      <td>성분</td>\n",
       "      <td>느낌</td>\n",
       "      <td>톤업</td>\n",
       "      <td>메이크업</td>\n",
       "      <td>프라이머</td>\n",
       "      <td>베이스</td>\n",
       "      <td>백탁</td>\n",
       "      <td>얼굴</td>\n",
       "      <td>여름</td>\n",
       "      <td>효과</td>\n",
       "    </tr>\n",
       "    <tr>\n",
       "      <th>5</th>\n",
       "      <td>컬러</td>\n",
       "      <td>발색</td>\n",
       "      <td>입술</td>\n",
       "      <td>느낌</td>\n",
       "      <td>틴트</td>\n",
       "      <td>립스틱</td>\n",
       "      <td>색상</td>\n",
       "      <td>제품</td>\n",
       "      <td>핑크</td>\n",
       "      <td>사용</td>\n",
       "      <td>촉촉</td>\n",
       "      <td>레드</td>\n",
       "      <td>벨벳</td>\n",
       "      <td>페리페라</td>\n",
       "      <td>가을</td>\n",
       "      <td>잉크</td>\n",
       "      <td>가지</td>\n",
       "      <td>착색</td>\n",
       "      <td>매트</td>\n",
       "      <td>이션</td>\n",
       "    </tr>\n",
       "  </tbody>\n",
       "</table>\n",
       "</div>"
      ],
      "text/plain": [
       "    0   1     2   3    4     5    6   7      8     9     10    11    12    13  \\\n",
       "0  클렌징  피부    사용  제품   세안  메이크업   오일  촉촉     거품    자극    성분    느낌  클렌징폼   이지듀   \n",
       "1   피부  사용    제품  촉촉   크림    느낌   성분  건조  파운데이션    수분  메이크업    제형    앰플    얼굴   \n",
       "2   컬러  사용  메이크업  제품   아이    발색   이너  느낌   마스카라    색상   브라운    핑크   글리터    가지   \n",
       "3   쿠션  피부    사용  제품   촉촉    느낌   컬러  핑크    커버력  메이크업    퍼프  페리페라   컬렉션    커버   \n",
       "4  선크림  피부    제품  사용  자외선    촉촉  이지듀  이지     차단    크림    성분    느낌    톤업  메이크업   \n",
       "5   컬러  발색    입술  느낌   틴트   립스틱   색상  제품     핑크    사용    촉촉    레드    벨벳  페리페라   \n",
       "\n",
       "     14   15   16  17   18   19  \n",
       "0    부드  노폐물  세정력  렌징   얼굴   워터  \n",
       "1    오일   효과   때문  팩트   추천   요즘  \n",
       "2  페리페라  속눈썹  팔레트  블랙  베이스   블러  \n",
       "3   베이스   건조   광채  화사  베이지  지속력  \n",
       "4  프라이머  베이스   백탁  얼굴   여름   효과  \n",
       "5    가을   잉크   가지  착색   매트   이션  "
      ]
     },
     "execution_count": 429,
     "metadata": {},
     "output_type": "execute_result"
    }
   ],
   "source": [
    "top20(labels_nom)\n",
    "# 0: 클렌징\n",
    "# 1: 스킨케어\n",
    "# 2: 아이메이크업\n",
    "# 3: 베이스메이크업\n",
    "# 4: 선케어\n",
    "# 5: 립메이크업"
   ]
  },
  {
   "cell_type": "code",
   "execution_count": 430,
   "metadata": {},
   "outputs": [],
   "source": [
    "labels_nom_list = []\n",
    "for i in range(len(labels_nom)):\n",
    "    if labels_nom[i] == 0:\n",
    "        labels_nom_list.append('클렌징')\n",
    "    elif labels_nom[i] == 1:\n",
    "        labels_nom_list.append('스킨케어')\n",
    "    elif labels_nom[i] == 2:\n",
    "        labels_nom_list.append('아이메이크업')\n",
    "    elif labels_nom[i] == 3:\n",
    "        labels_nom_list.append('베이스메이크업')\n",
    "    elif labels_nom[i] == 4:\n",
    "        labels_nom_list.append('선케어')\n",
    "    elif labels_nom[i] == 5:\n",
    "        labels_nom_list.append('립메이크업')"
   ]
  },
  {
   "cell_type": "code",
   "execution_count": 431,
   "metadata": {},
   "outputs": [
    {
     "data": {
      "text/plain": [
       "0.7426292895118415"
      ]
     },
     "execution_count": 431,
     "metadata": {},
     "output_type": "execute_result"
    }
   ],
   "source": [
    "accuracy_score(labels_nom_list, category)"
   ]
  },
  {
   "cell_type": "markdown",
   "metadata": {},
   "source": [
    "-> 클러스터링을 한 결과, 스펙트럴클러스터링<k-means<정규화 후 k-means 순으로 정확도가 높았다."
   ]
  },
  {
   "cell_type": "markdown",
   "metadata": {},
   "source": [
    "### 4.2 LDA\n",
    "- 스킨케어, 클렌징, 선케어, 베이스메이크업, 아이메이크업, 립메이크업마다 다양한 화장품 제품과 그에 대한 다양한 평가가  있을 것\n",
    "-> LDA를 통해 각 문서의 주제 비율들을 확인해 볼 것이다."
   ]
  },
  {
   "cell_type": "code",
   "execution_count": 492,
   "metadata": {},
   "outputs": [
    {
     "data": {
      "text/plain": [
       "'가격'"
      ]
     },
     "execution_count": 492,
     "metadata": {},
     "output_type": "execute_result"
    }
   ],
   "source": [
    "words = vectorizer.get_feature_names()\n",
    "word_dict = dict(enumerate(words))\n",
    "word_dict[0]"
   ]
  },
  {
   "cell_type": "code",
   "execution_count": 491,
   "metadata": {},
   "outputs": [],
   "source": [
    "## gensim형식으로 변환\n",
    "from gensim.matutils import Sparse2Corpus\n",
    "corpus = Sparse2Corpus(tfidf.T)"
   ]
  },
  {
   "cell_type": "code",
   "execution_count": 519,
   "metadata": {},
   "outputs": [
    {
     "name": "stderr",
     "output_type": "stream",
     "text": [
      "C:\\Users\\user\\Anaconda3\\lib\\site-packages\\gensim\\models\\ldamodel.py:775: RuntimeWarning: divide by zero encountered in log\n",
      "  diff = np.log(self.expElogbeta)\n"
     ]
    }
   ],
   "source": [
    "from gensim.models.ldamodel import LdaModel\n",
    "lda = LdaModel(corpus=corpus,\n",
    "               num_topics=200,\n",
    "               passes=3,\n",
    "               iterations=100,\n",
    "               id2word=word_dict,\n",
    "               random_state=123)"
   ]
  },
  {
   "cell_type": "code",
   "execution_count": 520,
   "metadata": {
    "scrolled": true
   },
   "outputs": [
    {
     "data": {
      "text/plain": [
       "[('방법', 0.20587134881587776),\n",
       " ('완전', 0.05199647071075809),\n",
       " ('겨울', 0.10405571898246149),\n",
       " ('날씨', 0.11256602623014257),\n",
       " ('수분', 0.1818846028751986),\n",
       " ('피부속', 0.08391202465096992),\n",
       " ('건조', 0.07479065558255643),\n",
       " ('피부관리', 0.07720025382662184),\n",
       " ('사용', 0.1746445925584784),\n",
       " ('피부', 0.18118117967205344),\n",
       " ('소개', 0.04006273500611399),\n",
       " ('허브', 0.47157187248885407),\n",
       " ('진정', 0.38955794623132434),\n",
       " ('수분크림', 0.32432276297764523),\n",
       " ('용량', 0.044880322207057836),\n",
       " ('가격', 0.08640343617312517),\n",
       " ('부족', 0.07354929371876862),\n",
       " ('유분기', 0.06402454496004557),\n",
       " ('크림', 0.1775582020316117),\n",
       " ('여드름', 0.0750373798123218),\n",
       " ('유수분', 0.08332167854277316),\n",
       " ('촉촉', 0.08370937837087813),\n",
       " ('건강', 0.05568995535316314),\n",
       " ('관리', 0.057490970309387324),\n",
       " ('아이', 0.04297739255053023),\n",
       " ('중요', 0.05184037951175266),\n",
       " ('생각', 0.03632788637017956),\n",
       " ('성분', 0.07212967801364639),\n",
       " ('화해', 0.07999032763623193),\n",
       " ('확인', 0.10157131233330532),\n",
       " ('주의', 0.0801504845243595),\n",
       " ('때문', 0.07938093327298064),\n",
       " ('추천', 0.03704965187478513),\n",
       " ('예민', 0.11489574912786155),\n",
       " ('민감', 0.09718593710448545),\n",
       " ('제품', 0.0226377131363724),\n",
       " ('비타민', 0.07072385396099617),\n",
       " ('가지', 0.03584252505434694),\n",
       " ('공급', 0.07479990375322082),\n",
       " ('장벽', 0.06955464430114745),\n",
       " ('탄탄', 0.07110019115964125),\n",
       " ('느낌', 0.05379255171542367),\n",
       " ('용기', 0.06086455304072362),\n",
       " ('수분감', 0.10042150658654538),\n",
       " ('가득', 0.0765354321818814),\n",
       " ('끈적', 0.06328392576878093),\n",
       " ('산뜻', 0.07999032763623193),\n",
       " ('쿨링감', 0.08080643972128634),\n",
       " ('시원', 0.06427867121692131),\n",
       " ('요즘', 0.03802444472662009),\n",
       " ('손등', 0.04833752260033949),\n",
       " ('흡수', 0.05116990840303359),\n",
       " ('쫀쫀', 0.055535197085794234),\n",
       " ('홍조', 0.07602146143768682),\n",
       " ('얼굴', 0.03599041493709599),\n",
       " ('충전', 0.08293906854542361),\n",
       " ('아침', 0.06070779862262429),\n",
       " ('살짝', 0.07053872592651247),\n",
       " ('저녁', 0.14016886397682332),\n",
       " ('세안', 0.04940983021786719),\n",
       " ('추천드', 0.062343528686646846),\n",
       " ('판매', 0.05851316738383852),\n",
       " ('할인', 0.14580718048756713),\n",
       " ('수량', 0.08604025415444436),\n",
       " ('브랜드', 0.05009804099990995),\n",
       " ('이상', 0.05837634487842118),\n",
       " ('구매', 0.04500523260735404),\n",
       " ('상품', 0.1629767600115831),\n",
       " ('사이즈', 0.0625159849665282)]"
      ]
     },
     "execution_count": 520,
     "metadata": {},
     "output_type": "execute_result"
    }
   ],
   "source": [
    "## 첫 번째 문서 단어 빈도수 확인\n",
    "row = tfidf[0]\n",
    "doc = list(zip(row.indices, row.data))\n",
    "doc_words = [(words[i], n) for i, n in doc]\n",
    "doc_words\n",
    "# 첫 번째 문서: 겨울철 건조할 때, 혹은 피부 진정용으로 사용하는 수분크림"
   ]
  },
  {
   "cell_type": "code",
   "execution_count": 521,
   "metadata": {},
   "outputs": [
    {
     "data": {
      "text/plain": [
       "[(18, 0.18035927),\n",
       " (46, 0.13274622),\n",
       " (61, 0.13422942),\n",
       " (129, 0.0115427775),\n",
       " (137, 0.010770471),\n",
       " (161, 0.06465253),\n",
       " (192, 0.3358892)]"
      ]
     },
     "execution_count": 521,
     "metadata": {},
     "output_type": "execute_result"
    }
   ],
   "source": [
    "## 첫 번째 문서의 주제 비율\n",
    "lda.get_document_topics(doc)"
   ]
  },
  {
   "cell_type": "code",
   "execution_count": 522,
   "metadata": {},
   "outputs": [
    {
     "data": {
      "text/plain": [
       "[('시크', 0.04490991),\n",
       " ('피부', 0.042103413),\n",
       " ('팩트', 0.034939725),\n",
       " ('에센스', 0.032440037),\n",
       " ('크림', 0.020385234),\n",
       " ('수분', 0.017531903),\n",
       " ('자외선', 0.016472084),\n",
       " ('세럼', 0.016248576),\n",
       " ('미백', 0.0149337845),\n",
       " ('사용', 0.014886775)]"
      ]
     },
     "execution_count": 522,
     "metadata": {},
     "output_type": "execute_result"
    }
   ],
   "source": [
    "lda.show_topic(192) #피부를 위한 제품"
   ]
  },
  {
   "cell_type": "code",
   "execution_count": 528,
   "metadata": {},
   "outputs": [],
   "source": [
    "lda.save('pro_lda.lda')\n",
    "lda2 = LdaModel.load('pro_lda.lda')"
   ]
  },
  {
   "cell_type": "markdown",
   "metadata": {},
   "source": [
    "## 5. 지도학습"
   ]
  },
  {
   "cell_type": "markdown",
   "metadata": {},
   "source": [
    "### 5.1 로지스틱 회귀로 분류"
   ]
  },
  {
   "cell_type": "code",
   "execution_count": 17,
   "metadata": {},
   "outputs": [],
   "source": [
    "## 데이터 분할\n",
    "from sklearn.model_selection import train_test_split\n",
    "X_train, X_test, y_train, y_test = train_test_split(tfidf, category, test_size=.2, random_state=1234)"
   ]
  },
  {
   "cell_type": "code",
   "execution_count": 586,
   "metadata": {},
   "outputs": [
    {
     "data": {
      "text/plain": [
       "LogisticRegression(C=1.0, class_weight=None, dual=False, fit_intercept=True,\n",
       "          intercept_scaling=1, max_iter=100, multi_class='multinomial',\n",
       "          n_jobs=1, penalty='l2', random_state=None, solver='saga',\n",
       "          tol=0.0001, verbose=0, warm_start=False)"
      ]
     },
     "execution_count": 586,
     "metadata": {},
     "output_type": "execute_result"
    }
   ],
   "source": [
    "from sklearn.linear_model import LogisticRegression\n",
    "model = LogisticRegression(multi_class='multinomial', solver='saga')\n",
    "model.fit(X_train, y_train)"
   ]
  },
  {
   "cell_type": "code",
   "execution_count": 587,
   "metadata": {},
   "outputs": [
    {
     "data": {
      "text/plain": [
       "0.9540785498489426"
      ]
     },
     "execution_count": 587,
     "metadata": {},
     "output_type": "execute_result"
    }
   ],
   "source": [
    "model.score(X_train, y_train)"
   ]
  },
  {
   "cell_type": "code",
   "execution_count": 588,
   "metadata": {},
   "outputs": [
    {
     "data": {
      "text/plain": [
       "0.9142512077294686"
      ]
     },
     "execution_count": 588,
     "metadata": {},
     "output_type": "execute_result"
    }
   ],
   "source": [
    "model.score(X_test, y_test)"
   ]
  },
  {
   "cell_type": "code",
   "execution_count": 638,
   "metadata": {},
   "outputs": [
    {
     "data": {
      "text/html": [
       "<div>\n",
       "<style scoped>\n",
       "    .dataframe tbody tr th:only-of-type {\n",
       "        vertical-align: middle;\n",
       "    }\n",
       "\n",
       "    .dataframe tbody tr th {\n",
       "        vertical-align: top;\n",
       "    }\n",
       "\n",
       "    .dataframe thead th {\n",
       "        text-align: right;\n",
       "    }\n",
       "</style>\n",
       "<table border=\"1\" class=\"dataframe\">\n",
       "  <thead>\n",
       "    <tr style=\"text-align: right;\">\n",
       "      <th></th>\n",
       "      <th>index</th>\n",
       "      <th>립메이크업</th>\n",
       "      <th>index</th>\n",
       "      <th>베이스메이크업</th>\n",
       "      <th>index</th>\n",
       "      <th>선케어</th>\n",
       "      <th>index</th>\n",
       "      <th>스킨케어</th>\n",
       "      <th>index</th>\n",
       "      <th>아이메이크업</th>\n",
       "      <th>index</th>\n",
       "      <th>클렌징</th>\n",
       "    </tr>\n",
       "  </thead>\n",
       "  <tbody>\n",
       "    <tr>\n",
       "      <th>0</th>\n",
       "      <td>입술</td>\n",
       "      <td>4.841310</td>\n",
       "      <td>쿠션</td>\n",
       "      <td>4.264787</td>\n",
       "      <td>선크림</td>\n",
       "      <td>5.649150</td>\n",
       "      <td>피부</td>\n",
       "      <td>2.953989</td>\n",
       "      <td>마스카라</td>\n",
       "      <td>3.324824</td>\n",
       "      <td>클렌징</td>\n",
       "      <td>5.494624</td>\n",
       "    </tr>\n",
       "    <tr>\n",
       "      <th>1</th>\n",
       "      <td>립스틱</td>\n",
       "      <td>3.998284</td>\n",
       "      <td>파운데이션</td>\n",
       "      <td>3.591700</td>\n",
       "      <td>자외선</td>\n",
       "      <td>3.948380</td>\n",
       "      <td>크림</td>\n",
       "      <td>2.711599</td>\n",
       "      <td>글리터</td>\n",
       "      <td>2.775007</td>\n",
       "      <td>거품</td>\n",
       "      <td>2.682264</td>\n",
       "    </tr>\n",
       "    <tr>\n",
       "      <th>2</th>\n",
       "      <td>틴트</td>\n",
       "      <td>3.776878</td>\n",
       "      <td>블러</td>\n",
       "      <td>3.269589</td>\n",
       "      <td>선스틱</td>\n",
       "      <td>3.141115</td>\n",
       "      <td>오일</td>\n",
       "      <td>2.293520</td>\n",
       "      <td>브라운</td>\n",
       "      <td>2.642562</td>\n",
       "      <td>세안</td>\n",
       "      <td>2.574471</td>\n",
       "    </tr>\n",
       "    <tr>\n",
       "      <th>3</th>\n",
       "      <td>컬러</td>\n",
       "      <td>2.808623</td>\n",
       "      <td>톤업크림</td>\n",
       "      <td>2.853944</td>\n",
       "      <td>썬크림</td>\n",
       "      <td>2.729545</td>\n",
       "      <td>토너</td>\n",
       "      <td>2.027467</td>\n",
       "      <td>이너</td>\n",
       "      <td>2.614264</td>\n",
       "      <td>약산</td>\n",
       "      <td>2.082864</td>\n",
       "    </tr>\n",
       "    <tr>\n",
       "      <th>4</th>\n",
       "      <td>착색</td>\n",
       "      <td>2.011389</td>\n",
       "      <td>커버력</td>\n",
       "      <td>2.744912</td>\n",
       "      <td>차단</td>\n",
       "      <td>2.199510</td>\n",
       "      <td>앰플</td>\n",
       "      <td>1.965074</td>\n",
       "      <td>속눈썹</td>\n",
       "      <td>2.392716</td>\n",
       "      <td>필링젤</td>\n",
       "      <td>2.048432</td>\n",
       "    </tr>\n",
       "  </tbody>\n",
       "</table>\n",
       "</div>"
      ],
      "text/plain": [
       "  index     립메이크업  index   베이스메이크업 index       선케어 index      스킨케어 index  \\\n",
       "0    입술  4.841310     쿠션  4.264787   선크림  5.649150    피부  2.953989  마스카라   \n",
       "1   립스틱  3.998284  파운데이션  3.591700   자외선  3.948380    크림  2.711599   글리터   \n",
       "2    틴트  3.776878     블러  3.269589   선스틱  3.141115    오일  2.293520   브라운   \n",
       "3    컬러  2.808623   톤업크림  2.853944   썬크림  2.729545    토너  2.027467    이너   \n",
       "4    착색  2.011389    커버력  2.744912    차단  2.199510    앰플  1.965074   속눈썹   \n",
       "\n",
       "     아이메이크업 index       클렌징  \n",
       "0  3.324824   클렌징  5.494624  \n",
       "1  2.775007    거품  2.682264  \n",
       "2  2.642562    세안  2.574471  \n",
       "3  2.614264    약산  2.082864  \n",
       "4  2.392716   필링젤  2.048432  "
      ]
     },
     "execution_count": 638,
     "metadata": {},
     "output_type": "execute_result"
    }
   ],
   "source": [
    "## 회귀계수\n",
    "categories = [\n",
    "    '립메이크업',\n",
    "    '베이스메이크업',\n",
    "    '선케어',\n",
    "    '스킨케어',\n",
    "    '아이메이크업',\n",
    "    '클렌징'\n",
    "] #ㄱㄴㄷ순\n",
    "\n",
    "import pandas as pd\n",
    "weights = pd.DataFrame(model.coef_.T)\n",
    "weights.index = cv.get_feature_names()\n",
    "weights.columns = categories\n",
    "\n",
    "top5 = []\n",
    "for category in categories:\n",
    "    top5.append(weights[category].sort_values(ascending=False).head().reset_index())\n",
    "pd.concat(top5, axis=1)"
   ]
  },
  {
   "cell_type": "markdown",
   "metadata": {},
   "source": [
    "### 5.2  keras 다층 신경망으로 분류"
   ]
  },
  {
   "cell_type": "code",
   "execution_count": 13,
   "metadata": {},
   "outputs": [
    {
     "name": "stderr",
     "output_type": "stream",
     "text": [
      "Using TensorFlow backend.\n"
     ]
    }
   ],
   "source": [
    "from keras import Sequential\n",
    "from keras.layers import Dense, Input"
   ]
  },
  {
   "cell_type": "code",
   "execution_count": 14,
   "metadata": {},
   "outputs": [
    {
     "data": {
      "text/html": [
       "<div>\n",
       "<style scoped>\n",
       "    .dataframe tbody tr th:only-of-type {\n",
       "        vertical-align: middle;\n",
       "    }\n",
       "\n",
       "    .dataframe tbody tr th {\n",
       "        vertical-align: top;\n",
       "    }\n",
       "\n",
       "    .dataframe thead th {\n",
       "        text-align: right;\n",
       "    }\n",
       "</style>\n",
       "<table border=\"1\" class=\"dataframe\">\n",
       "  <thead>\n",
       "    <tr style=\"text-align: right;\">\n",
       "      <th></th>\n",
       "      <th>제목</th>\n",
       "      <th>본문</th>\n",
       "      <th>카테고리</th>\n",
       "    </tr>\n",
       "  </thead>\n",
       "  <tbody>\n",
       "    <tr>\n",
       "      <th>0</th>\n",
       "      <td>수부지수분크림 프레쥬 자연약쑥 진정크림으로 피부좋아지는 방법</td>\n",
       "      <td>수부지수분크림 프레쥬 자연약쑥 진정크림으로 피부좋아지는 방법  잇님들 안녕하세요:-...</td>\n",
       "      <td>0</td>\n",
       "    </tr>\n",
       "    <tr>\n",
       "      <th>1</th>\n",
       "      <td>설인아 콜라겐 아이크림으로 눈가주름 관리해요!</td>\n",
       "      <td>LAVIDA\\r\\nCOLLAGEN SOLUTION\\r\\nEYE CREAM   올해...</td>\n",
       "      <td>0</td>\n",
       "    </tr>\n",
       "    <tr>\n",
       "      <th>2</th>\n",
       "      <td>환절기피부관리를 위한 라띠에라 로즈킹덤 세럼</td>\n",
       "      <td>전성분 EWG그린 등급성분으로 만들어진\\r\\n기능성 자연화장품 라띠에라 세럼  안녕...</td>\n",
       "      <td>0</td>\n",
       "    </tr>\n",
       "    <tr>\n",
       "      <th>3</th>\n",
       "      <td>프레쥬 오리지날 허브 자연약쑥 진정 수분크림</td>\n",
       "      <td>겨울이 되어 피부가 많이 건조해졌는데 수분크림을 찾게 되는데 자연약쑥과 7가지 그린...</td>\n",
       "      <td>0</td>\n",
       "    </tr>\n",
       "    <tr>\n",
       "      <th>4</th>\n",
       "      <td>위드미 스노우 화이트닝 포어 토어</td>\n",
       "      <td>화장을 하고나면 입주변에 여드름이 올라와 고민이었어요.\\r\\nT존으로 피지가 있는 ...</td>\n",
       "      <td>0</td>\n",
       "    </tr>\n",
       "  </tbody>\n",
       "</table>\n",
       "</div>"
      ],
      "text/plain": [
       "                                  제목  \\\n",
       "0  수부지수분크림 프레쥬 자연약쑥 진정크림으로 피부좋아지는 방법   \n",
       "1          설인아 콜라겐 아이크림으로 눈가주름 관리해요!   \n",
       "2           환절기피부관리를 위한 라띠에라 로즈킹덤 세럼   \n",
       "3           프레쥬 오리지날 허브 자연약쑥 진정 수분크림   \n",
       "4                 위드미 스노우 화이트닝 포어 토어   \n",
       "\n",
       "                                                  본문  카테고리  \n",
       "0  수부지수분크림 프레쥬 자연약쑥 진정크림으로 피부좋아지는 방법  잇님들 안녕하세요:-...     0  \n",
       "1   LAVIDA\\r\\nCOLLAGEN SOLUTION\\r\\nEYE CREAM   올해...     0  \n",
       "2  전성분 EWG그린 등급성분으로 만들어진\\r\\n기능성 자연화장품 라띠에라 세럼  안녕...     0  \n",
       "3  겨울이 되어 피부가 많이 건조해졌는데 수분크림을 찾게 되는데 자연약쑥과 7가지 그린...     0  \n",
       "4  화장을 하고나면 입주변에 여드름이 올라와 고민이었어요.\\r\\nT존으로 피지가 있는 ...     0  "
      ]
     },
     "execution_count": 14,
     "metadata": {},
     "output_type": "execute_result"
    }
   ],
   "source": [
    "## 카테고리를 숫자로 변환\n",
    "tot_num = tot_no.copy()\n",
    "tot_num['카테고리'] = pd.factorize(tot_no['카테고리'])[0]\n",
    "tot_num.head()"
   ]
  },
  {
   "cell_type": "code",
   "execution_count": 614,
   "metadata": {},
   "outputs": [],
   "source": [
    "# 저장\n",
    "with open('pro_tdm3.pkl', 'wb') as f:\n",
    "    joblib.dump({'vectorizer': cv, 'tdm': tdm, 'tfidf': tdm2, 'category':tot_num['카테고리']}, f)"
   ]
  },
  {
   "cell_type": "code",
   "execution_count": 15,
   "metadata": {},
   "outputs": [],
   "source": [
    "# 열기\n",
    "with open('pro_tdm3.pkl', 'rb') as f:\n",
    "    data2 = joblib.load(f)\n",
    "locals().update(data2)"
   ]
  },
  {
   "cell_type": "code",
   "execution_count": 18,
   "metadata": {},
   "outputs": [],
   "source": [
    "X_train, X_test, y_train, y_test = train_test_split(tfidf, category, test_size=.2, random_state=1234)"
   ]
  },
  {
   "cell_type": "code",
   "execution_count": 21,
   "metadata": {},
   "outputs": [],
   "source": [
    "from keras.models import Sequential\n",
    "from keras.layers import Dense, Dropout\n",
    "from keras.optimizers import Adam"
   ]
  },
  {
   "cell_type": "code",
   "execution_count": 22,
   "metadata": {},
   "outputs": [],
   "source": [
    "NUM_WORDS = X_train.shape[1]"
   ]
  },
  {
   "cell_type": "code",
   "execution_count": 23,
   "metadata": {},
   "outputs": [],
   "source": [
    "## 모형 생성\n",
    "nn = Sequential()\n",
    "nn.add(Dense(256, activation='relu', input_shape=(NUM_WORDS,)))\n",
    "nn.add(Dropout(rate=0.5))\n",
    "nn.add(Dense(6, activation='softmax'))"
   ]
  },
  {
   "cell_type": "code",
   "execution_count": 24,
   "metadata": {},
   "outputs": [
    {
     "name": "stdout",
     "output_type": "stream",
     "text": [
      "_________________________________________________________________\n",
      "Layer (type)                 Output Shape              Param #   \n",
      "=================================================================\n",
      "dense_2 (Dense)              (None, 256)               256256    \n",
      "_________________________________________________________________\n",
      "dropout_1 (Dropout)          (None, 256)               0         \n",
      "_________________________________________________________________\n",
      "dense_3 (Dense)              (None, 6)                 1542      \n",
      "=================================================================\n",
      "Total params: 257,798\n",
      "Trainable params: 257,798\n",
      "Non-trainable params: 0\n",
      "_________________________________________________________________\n"
     ]
    }
   ],
   "source": [
    "nn.summary()"
   ]
  },
  {
   "cell_type": "code",
   "execution_count": 25,
   "metadata": {},
   "outputs": [
    {
     "name": "stdout",
     "output_type": "stream",
     "text": [
      "Epoch 1/30\n",
      "3310/3310 [==============================] - 5s 2ms/step - loss: 1.1864 - acc: 0.7804A: 1s - loss: 1.3248 - \n",
      "Epoch 2/30\n",
      "3310/3310 [==============================] - 3s 947us/step - loss: 0.3424 - acc: 0.9284\n",
      "Epoch 3/30\n",
      "3310/3310 [==============================] - 3s 827us/step - loss: 0.2123 - acc: 0.9396\n",
      "Epoch 4/30\n",
      "3310/3310 [==============================] - 3s 821us/step - loss: 0.1695 - acc: 0.9523\n",
      "Epoch 5/30\n",
      "3310/3310 [==============================] - 3s 844us/step - loss: 0.1410 - acc: 0.9577\n",
      "Epoch 6/30\n",
      "3310/3310 [==============================] - 3s 945us/step - loss: 0.1215 - acc: 0.9650\n",
      "Epoch 7/30\n",
      "3310/3310 [==============================] - 3s 882us/step - loss: 0.1038 - acc: 0.9695\n",
      "Epoch 8/30\n",
      "3310/3310 [==============================] - 3s 1ms/step - loss: 0.0941 - acc: 0.9683\n",
      "Epoch 9/30\n",
      "3310/3310 [==============================] - 3s 949us/step - loss: 0.0836 - acc: 0.9743\n",
      "Epoch 10/30\n",
      "3310/3310 [==============================] - 3s 860us/step - loss: 0.0814 - acc: 0.9734\n",
      "Epoch 11/30\n",
      "3310/3310 [==============================] - 3s 841us/step - loss: 0.0721 - acc: 0.9776\n",
      "Epoch 12/30\n",
      "3310/3310 [==============================] - 3s 1ms/step - loss: 0.0685 - acc: 0.9773\n",
      "Epoch 13/30\n",
      "3310/3310 [==============================] - 3s 1ms/step - loss: 0.0656 - acc: 0.9798\n",
      "Epoch 14/30\n",
      "3310/3310 [==============================] - 3s 893us/step - loss: 0.0604 - acc: 0.9816\n",
      "Epoch 15/30\n",
      "3310/3310 [==============================] - 3s 864us/step - loss: 0.0608 - acc: 0.9792\n",
      "Epoch 16/30\n",
      "3310/3310 [==============================] - 3s 871us/step - loss: 0.0558 - acc: 0.9804\n",
      "Epoch 17/30\n",
      "3310/3310 [==============================] - 3s 847us/step - loss: 0.0551 - acc: 0.9816\n",
      "Epoch 18/30\n",
      "3310/3310 [==============================] - 3s 860us/step - loss: 0.0535 - acc: 0.9816 \n",
      "Epoch 19/30\n",
      "3310/3310 [==============================] - 3s 862us/step - loss: 0.0530 - acc: 0.9810\n",
      "Epoch 20/30\n",
      "3310/3310 [==============================] - 3s 858us/step - loss: 0.0531 - acc: 0.9798\n",
      "Epoch 21/30\n",
      "3310/3310 [==============================] - 3s 927us/step - loss: 0.0507 - acc: 0.9813 1s - loss: 0.03 - ETA: 0s - loss: 0.04\n",
      "Epoch 22/30\n",
      "3310/3310 [==============================] - 4s 1ms/step - loss: 0.0493 - acc: 0.9819\n",
      "Epoch 23/30\n",
      "3310/3310 [==============================] - 3s 901us/step - loss: 0.0513 - acc: 0.9804\n",
      "Epoch 24/30\n",
      "3310/3310 [==============================] - 3s 837us/step - loss: 0.0505 - acc: 0.9804\n",
      "Epoch 25/30\n",
      "3310/3310 [==============================] - 3s 812us/step - loss: 0.0469 - acc: 0.9828\n",
      "Epoch 26/30\n",
      "3310/3310 [==============================] - 3s 813us/step - loss: 0.0487 - acc: 0.9807\n",
      "Epoch 27/30\n",
      "3310/3310 [==============================] - 3s 853us/step - loss: 0.0484 - acc: 0.9813\n",
      "Epoch 28/30\n",
      "3310/3310 [==============================] - 3s 839us/step - loss: 0.0480 - acc: 0.9789\n",
      "Epoch 29/30\n",
      "3310/3310 [==============================] - 3s 822us/step - loss: 0.0494 - acc: 0.9813\n",
      "Epoch 30/30\n",
      "3310/3310 [==============================] - 3s 802us/step - loss: 0.0483 - acc: 0.9819\n"
     ]
    },
    {
     "data": {
      "text/plain": [
       "<keras.callbacks.History at 0x21bf8f02390>"
      ]
     },
     "execution_count": 25,
     "metadata": {},
     "output_type": "execute_result"
    }
   ],
   "source": [
    "## 학습\n",
    "nn.compile(loss='sparse_categorical_crossentropy', optimizer=Adam(), metrics=['accuracy'])\n",
    "nn.fit(X_train, y_train, epochs=30)"
   ]
  },
  {
   "cell_type": "code",
   "execution_count": 26,
   "metadata": {},
   "outputs": [],
   "source": [
    "## 예측\n",
    "y_pred = nn.predict_classes(X_test)"
   ]
  },
  {
   "cell_type": "code",
   "execution_count": 28,
   "metadata": {},
   "outputs": [
    {
     "data": {
      "text/plain": [
       "0.9178743961352657"
      ]
     },
     "execution_count": 28,
     "metadata": {},
     "output_type": "execute_result"
    }
   ],
   "source": [
    "## 평가\n",
    "from sklearn.metrics import accuracy_score\n",
    "accuracy_score(y_test, y_pred)"
   ]
  },
  {
   "cell_type": "markdown",
   "metadata": {},
   "source": [
    "### 5.3 LIME"
   ]
  },
  {
   "cell_type": "code",
   "execution_count": 29,
   "metadata": {},
   "outputs": [],
   "source": [
    "from lime.lime_text import LimeTextExplainer"
   ]
  },
  {
   "cell_type": "code",
   "execution_count": 31,
   "metadata": {},
   "outputs": [],
   "source": [
    "categories = [\n",
    "    '스킨케어',\n",
    "    '클렌징',\n",
    "    '선케어',\n",
    "    '베이스메이크업',\n",
    "    '아이메이크업',\n",
    "    '립메이크업',\n",
    "]"
   ]
  },
  {
   "cell_type": "code",
   "execution_count": 32,
   "metadata": {},
   "outputs": [],
   "source": [
    "exp = LimeTextExplainer(class_names=categories)"
   ]
  },
  {
   "cell_type": "code",
   "execution_count": 663,
   "metadata": {},
   "outputs": [],
   "source": [
    "from sklearn.feature_extraction.text import TfidfVectorizer\n",
    "tfidf2 = TfidfVectorizer()"
   ]
  },
  {
   "cell_type": "code",
   "execution_count": 156,
   "metadata": {},
   "outputs": [],
   "source": [
    "def predict_fn(text):\n",
    "    mat = tfidf[idx]\n",
    "    return nn.predict(mat)"
   ]
  },
  {
   "cell_type": "code",
   "execution_count": 157,
   "metadata": {},
   "outputs": [
    {
     "name": "stdout",
     "output_type": "stream",
     "text": [
      "0\n"
     ]
    },
    {
     "data": {
      "text/plain": [
       "array([[9.9999094e-01, 5.9617523e-06, 1.8093805e-06, 8.5117517e-07,\n",
       "        6.8666473e-08, 3.6178568e-07]], dtype=float32)"
      ]
     },
     "execution_count": 157,
     "metadata": {},
     "output_type": "execute_result"
    }
   ],
   "source": [
    "idx=500\n",
    "print(tot_num.iloc[idx,2])\n",
    "predict_fn([tot_num.iloc[idx,1]])\n",
    "#0번째 주제, 즉 스킨케어의 주제임을 0.99999094로 예측하였다. -> 잘 예측"
   ]
  },
  {
   "cell_type": "code",
   "execution_count": 159,
   "metadata": {},
   "outputs": [
    {
     "name": "stdout",
     "output_type": "stream",
     "text": [
      "5\n"
     ]
    },
    {
     "data": {
      "text/plain": [
       "array([[6.5260025e-08, 4.1193456e-08, 4.0372825e-08, 3.4342438e-07,\n",
       "        9.4456389e-08, 9.9999940e-01]], dtype=float32)"
      ]
     },
     "execution_count": 159,
     "metadata": {},
     "output_type": "execute_result"
    }
   ],
   "source": [
    "idx=4000\n",
    "print(tot_num.iloc[idx,2])\n",
    "predict_fn([tot_num.iloc[idx,1]])\n",
    "#5번째 주제, 즉 스킨케어의 주제임을 0.9999994로 예측하였다. -> 잘 예측"
   ]
  },
  {
   "cell_type": "code",
   "execution_count": 161,
   "metadata": {},
   "outputs": [
    {
     "name": "stdout",
     "output_type": "stream",
     "text": [
      "4\n"
     ]
    },
    {
     "data": {
      "text/plain": [
       "array([[9.60444835e-10, 1.14010845e-07, 6.91641633e-09, 1.14248017e-07,\n",
       "        9.99999642e-01, 9.92022891e-08]], dtype=float32)"
      ]
     },
     "execution_count": 161,
     "metadata": {},
     "output_type": "execute_result"
    }
   ],
   "source": [
    "idx=3000\n",
    "print(tot_num.iloc[idx,2])\n",
    "predict_fn([tot_num.iloc[idx,1]])\n",
    "#4번째 주제, 즉 스킨케어의 주제임을 0.999999642로 예측하였다. -> 잘 예측"
   ]
  },
  {
   "cell_type": "markdown",
   "metadata": {},
   "source": [
    "## 7. 워드임베딩"
   ]
  },
  {
   "cell_type": "code",
   "execution_count": 42,
   "metadata": {},
   "outputs": [],
   "source": [
    "import re"
   ]
  },
  {
   "cell_type": "code",
   "execution_count": 48,
   "metadata": {},
   "outputs": [],
   "source": [
    "## 정규표현식\n",
    "words = tot_no.iloc[:,1]\n",
    "total_words = []\n",
    "\n",
    "for word in words:\n",
    "    total_words.append(word)\n",
    "result = ''.join(total_words)"
   ]
  },
  {
   "cell_type": "code",
   "execution_count": 61,
   "metadata": {},
   "outputs": [],
   "source": [
    "result2 = re.sub(r'[^a-zA-Z가-힣\\. ]', ' ' ,result)"
   ]
  },
  {
   "cell_type": "code",
   "execution_count": 62,
   "metadata": {},
   "outputs": [],
   "source": [
    "sentences = result2.split('. ')  # 문장 단위로 자름"
   ]
  },
  {
   "cell_type": "code",
   "execution_count": 57,
   "metadata": {},
   "outputs": [],
   "source": [
    "word = [s.split() for s in sentences] #단어 단위로 자름"
   ]
  },
  {
   "cell_type": "code",
   "execution_count": 58,
   "metadata": {},
   "outputs": [
    {
     "data": {
      "text/plain": [
       "['수부지수분크림',\n",
       " '프레쥬',\n",
       " '자연약쑥',\n",
       " '진정크림으로',\n",
       " '피부좋아지는',\n",
       " '방법',\n",
       " '잇님들',\n",
       " '안녕하세요',\n",
       " '얼마',\n",
       " '전',\n",
       " '눈도',\n",
       " '펑펑내리고',\n",
       " '완전하게',\n",
       " '겨울이라해도',\n",
       " '되는',\n",
       " '날씨에요',\n",
       " '이런날씨에',\n",
       " '수분부족형지성이신분들은',\n",
       " '피부속은',\n",
       " '건조한데',\n",
       " '기름기는',\n",
       " '올라오고',\n",
       " '피부관리하시기가',\n",
       " '엄청',\n",
       " '어렵잖아요',\n",
       " '요때',\n",
       " '제가',\n",
       " '매일',\n",
       " '사용하는',\n",
       " '크림과',\n",
       " '요크림을',\n",
       " '사용해서',\n",
       " '피부',\n",
       " '좋아지는',\n",
       " '방법들을',\n",
       " '소개해볼께요',\n",
       " '프레쥬',\n",
       " '오리지날',\n",
       " '허브',\n",
       " '자연약쑥',\n",
       " '진정',\n",
       " '수분크림',\n",
       " '용량',\n",
       " 'ml',\n",
       " '가격',\n",
       " '원',\n",
       " '수분이',\n",
       " '부족한',\n",
       " '지성피부이신분들은',\n",
       " '겨울이라고해서',\n",
       " '무작정',\n",
       " '유분기',\n",
       " '많은',\n",
       " '크림을',\n",
       " '사용하다보면',\n",
       " '얼굴에',\n",
       " '여드름올라오고',\n",
       " '기름기에',\n",
       " '더',\n",
       " '감당하기',\n",
       " '힘들어짐',\n",
       " '이때',\n",
       " '유수분을',\n",
       " '잘맞춰줘야지',\n",
       " '진짜',\n",
       " '촉촉하고',\n",
       " '건강한',\n",
       " '피부로',\n",
       " '관리할',\n",
       " '수',\n",
       " '있어요',\n",
       " '그래서',\n",
       " '요',\n",
       " '아이는',\n",
       " '물광이',\n",
       " '촉촉하게',\n",
       " '만들어주는',\n",
       " '진정수분크림이에요',\n",
       " '제가',\n",
       " '중요하게',\n",
       " '생각하는',\n",
       " '것',\n",
       " '중',\n",
       " '하나인',\n",
       " '성분을',\n",
       " '화해어플을',\n",
       " '통해',\n",
       " '확인해보면',\n",
       " '주의성분은',\n",
       " '물론이고',\n",
       " '알레르기주의성분이',\n",
       " '도',\n",
       " '없기',\n",
       " '때문에',\n",
       " '착한성분의',\n",
       " '크림으로',\n",
       " '추천',\n",
       " '예민하신',\n",
       " '분들이나',\n",
       " '민감하신분들도',\n",
       " '사용하기',\n",
       " '좋은',\n",
       " '제품이에요',\n",
       " '비타민이랑',\n",
       " '미네랄이',\n",
       " '많이',\n",
       " '있는',\n",
       " '자연약쑥',\n",
       " '가지와',\n",
       " '그린허브',\n",
       " '성분이',\n",
       " '함유되어있어서',\n",
       " '피부',\n",
       " '안쪽까지',\n",
       " '수분을',\n",
       " '공급시켜주고',\n",
       " '쑥이',\n",
       " '예민해진',\n",
       " '피부를',\n",
       " '진정해주고',\n",
       " '정화까지',\n",
       " '시켜주니까',\n",
       " '피부',\n",
       " '장벽을',\n",
       " '탄탄하게',\n",
       " '만들어주는',\n",
       " '크림이에요',\n",
       " '초록초촉한',\n",
       " '느낌의',\n",
       " '뚜껑으로',\n",
       " '열어서',\n",
       " '사용하는',\n",
       " '용기에',\n",
       " '들어있는데',\n",
       " '안에',\n",
       " '따로',\n",
       " '스파츌러가',\n",
       " '들어있지는',\n",
       " '않더라구요',\n",
       " '그래서',\n",
       " '저는',\n",
       " '화장대에',\n",
       " '있는',\n",
       " '스파츌러를',\n",
       " '사용하거나',\n",
       " '귀찮으면',\n",
       " '그냥',\n",
       " '손으로',\n",
       " '떠서',\n",
       " '사용하고',\n",
       " '있어요',\n",
       " '수분감',\n",
       " '가득한',\n",
       " '젤리느낌의',\n",
       " '수딩제형으로',\n",
       " '촉촉함이',\n",
       " '그냥',\n",
       " '눈에',\n",
       " '보여요',\n",
       " '끈적이거나',\n",
       " '하지않고',\n",
       " '산뜻하고',\n",
       " '쿨링감이',\n",
       " '느껴지는',\n",
       " '시원한',\n",
       " '느낌이에요',\n",
       " '요즘에는',\n",
       " '손등도',\n",
       " '거칠거칠',\n",
       " '크림을',\n",
       " '살짝',\n",
       " '올려서',\n",
       " '바르니',\n",
       " '피부에',\n",
       " '사르륵',\n",
       " '녹으면서도',\n",
       " '쭉쭉',\n",
       " '흡수',\n",
       " '깊은',\n",
       " '수분감에',\n",
       " '안쪽까지',\n",
       " '쫀쫀하게',\n",
       " '느껴지더라구요',\n",
       " '차갑고',\n",
       " '건조한',\n",
       " '겨울바람에',\n",
       " '민감하고',\n",
       " '홍조에',\n",
       " '수분기',\n",
       " '쫙쫙',\n",
       " '빼앗긴',\n",
       " '피부가',\n",
       " '급',\n",
       " '안좋아진것을',\n",
       " '느낄때',\n",
       " '좋아지는',\n",
       " '방법중',\n",
       " '꿀팁',\n",
       " '냉장고에',\n",
       " '넣어',\n",
       " '보관해서',\n",
       " '시원해진',\n",
       " '프레쥬크림을',\n",
       " '팩처럼',\n",
       " '듬뿍',\n",
       " '얼굴에',\n",
       " '덮어서',\n",
       " '진정시켜주며',\n",
       " '수분을',\n",
       " '만땅으로',\n",
       " '충전해주는',\n",
       " '방법이',\n",
       " '있어요',\n",
       " 'D',\n",
       " '아침에',\n",
       " '바르면',\n",
       " '살짝',\n",
       " '밀릴',\n",
       " '수',\n",
       " '있기',\n",
       " '때문에',\n",
       " '저는',\n",
       " '저녁에만',\n",
       " '사용해주고',\n",
       " '있어요',\n",
       " '요렇게',\n",
       " '매일',\n",
       " '저녁에',\n",
       " '세안을',\n",
       " '하고나서',\n",
       " '기초케어후에',\n",
       " '팩처럼',\n",
       " '올려주면',\n",
       " '물광이',\n",
       " '올라오는',\n",
       " '물먹은',\n",
       " '피부로',\n",
       " '변신',\n",
       " '겨울철',\n",
       " '예민한피부에',\n",
       " '착한성분의',\n",
       " '수부지크림을',\n",
       " '찾고계시다면',\n",
       " '프레쥬',\n",
       " '오리지날',\n",
       " '허브',\n",
       " '자연약쑥',\n",
       " '진정',\n",
       " '수분크림',\n",
       " '추천드려요',\n",
       " '프레쥬',\n",
       " '오리지날',\n",
       " '허브',\n",
       " '자연약쑥',\n",
       " '진정',\n",
       " '수분크림',\n",
       " 'ml',\n",
       " '해외배송',\n",
       " '가능상품',\n",
       " '프레쥬',\n",
       " '오리지날',\n",
       " '허브',\n",
       " '자연약쑥',\n",
       " '진정',\n",
       " '수분크림',\n",
       " 'ml',\n",
       " '판매가',\n",
       " '원',\n",
       " '소비자가',\n",
       " '원',\n",
       " '쿠폰적용가',\n",
       " '원']"
      ]
     },
     "execution_count": 58,
     "metadata": {},
     "output_type": "execute_result"
    }
   ],
   "source": [
    "word[0] #단어 단위가 아니라서 worin형태소 분석기를 사용할 것임"
   ]
  },
  {
   "cell_type": "code",
   "execution_count": 63,
   "metadata": {},
   "outputs": [],
   "source": [
    "## Worin 형태소 분석기 사용\n",
    "tagger= Worin()\n",
    "def get_nouns(text):\n",
    "    try: # 에러가 발생하지 않을 경우\n",
    "        nouns = tagger.nouns(text)\n",
    "        nouns = [word for word in nouns if len(word) > 1]\n",
    "        return nouns\n",
    "    except: # 에러 발생\n",
    "        return [\"error\"]"
   ]
  },
  {
   "cell_type": "code",
   "execution_count": 71,
   "metadata": {},
   "outputs": [],
   "source": [
    "documents = []\n",
    "for i in range(len(tot_no.iloc[:,1])):\n",
    "    documents.append(get_nouns(tot_no.iloc[i,1]))"
   ]
  },
  {
   "cell_type": "code",
   "execution_count": 72,
   "metadata": {},
   "outputs": [
    {
     "data": {
      "text/plain": [
       "['수부지수분크림',\n",
       " '프레쥬',\n",
       " '자연약',\n",
       " '진정크림',\n",
       " '방법',\n",
       " '눈도',\n",
       " '내리',\n",
       " '완전',\n",
       " '겨울',\n",
       " '날씨',\n",
       " '날씨',\n",
       " '수분',\n",
       " '족형지성',\n",
       " '피부속',\n",
       " '건조',\n",
       " '기름기',\n",
       " '피부관리',\n",
       " '사용',\n",
       " '요크림',\n",
       " '사용',\n",
       " '피부',\n",
       " '방법',\n",
       " '소개',\n",
       " '프레쥬',\n",
       " '오리지날',\n",
       " '허브',\n",
       " '자연약',\n",
       " '진정',\n",
       " '수분크림',\n",
       " '용량',\n",
       " '가격',\n",
       " '수분',\n",
       " '부족',\n",
       " '지성피부이',\n",
       " '겨울',\n",
       " '무작정',\n",
       " '유분기',\n",
       " '크림',\n",
       " '사용',\n",
       " '여드름',\n",
       " '기름기',\n",
       " '감당',\n",
       " '이때',\n",
       " '유수분',\n",
       " '촉촉',\n",
       " '건강',\n",
       " '피부',\n",
       " '관리',\n",
       " '아이',\n",
       " '물광이',\n",
       " '촉촉',\n",
       " '진정수분크림',\n",
       " '중요',\n",
       " '생각',\n",
       " '하나인',\n",
       " '성분',\n",
       " '화해',\n",
       " '확인',\n",
       " '주의',\n",
       " '레르기주',\n",
       " '때문',\n",
       " '크림',\n",
       " '추천',\n",
       " '예민',\n",
       " '민감',\n",
       " '사용',\n",
       " '제품',\n",
       " '비타민',\n",
       " '미네',\n",
       " '자연약',\n",
       " '가지',\n",
       " '성분',\n",
       " '피부',\n",
       " '수분',\n",
       " '공급',\n",
       " '쑥이',\n",
       " '예민',\n",
       " '피부',\n",
       " '진정',\n",
       " '정화',\n",
       " '장벽',\n",
       " '탄탄',\n",
       " '크림',\n",
       " '초록초촉',\n",
       " '느낌',\n",
       " '사용',\n",
       " '용기',\n",
       " '스파',\n",
       " '츌러',\n",
       " '화장대',\n",
       " '스파',\n",
       " '츌러',\n",
       " '사용',\n",
       " '사용',\n",
       " '수분감',\n",
       " '가득',\n",
       " '젤리느낌',\n",
       " '수딩제형',\n",
       " '촉촉',\n",
       " '끈적',\n",
       " '산뜻',\n",
       " '쿨링감',\n",
       " '시원',\n",
       " '느낌',\n",
       " '요즘',\n",
       " '손등',\n",
       " '거칠거',\n",
       " '크림',\n",
       " '피부',\n",
       " '흡수',\n",
       " '수분감',\n",
       " '쫀쫀',\n",
       " '차갑',\n",
       " '건조',\n",
       " '겨울바람',\n",
       " '민감',\n",
       " '홍조',\n",
       " '수분기',\n",
       " '피부',\n",
       " '방법중',\n",
       " '냉장',\n",
       " '프레쥬크림',\n",
       " '팩처',\n",
       " '얼굴',\n",
       " '진정',\n",
       " '수분',\n",
       " '충전',\n",
       " '방법',\n",
       " '아침',\n",
       " '살짝',\n",
       " '때문',\n",
       " '저녁',\n",
       " '사용',\n",
       " '저녁',\n",
       " '세안',\n",
       " '기초케어후',\n",
       " '팩처',\n",
       " '물광이',\n",
       " '물먹',\n",
       " '피부',\n",
       " '변신',\n",
       " '울철',\n",
       " '수부지크림',\n",
       " '프레쥬',\n",
       " '오리지날',\n",
       " '허브',\n",
       " '자연약',\n",
       " '진정',\n",
       " '수분크림',\n",
       " '추천드',\n",
       " '프레쥬',\n",
       " '오리지날',\n",
       " '허브',\n",
       " '자연약',\n",
       " '진정',\n",
       " '수분크림',\n",
       " '해외배송',\n",
       " '가능상품',\n",
       " '프레쥬',\n",
       " '오리지날',\n",
       " '허브',\n",
       " '자연약',\n",
       " '진정',\n",
       " '수분크림',\n",
       " '판매',\n",
       " '소비자',\n",
       " '쿠폰',\n",
       " '용가',\n",
       " '할인',\n",
       " '수량',\n",
       " '브랜드',\n",
       " '자체브랜드',\n",
       " '배송비',\n",
       " '이상',\n",
       " '구매',\n",
       " '무료',\n",
       " '상품홍보',\n",
       " '상품홍보',\n",
       " '상품',\n",
       " '사이즈',\n",
       " '가이드',\n",
       " '상품',\n",
       " '목록',\n",
       " '상품명',\n",
       " '상품수',\n",
       " '가격',\n",
       " '프레쥬',\n",
       " '오리지날',\n",
       " '허브',\n",
       " '자연약',\n",
       " '진정',\n",
       " '수분크림',\n",
       " '할인',\n",
       " '적용',\n",
       " '최종',\n",
       " '결제',\n",
       " '정금액',\n",
       " '주문',\n",
       " '확인']"
      ]
     },
     "execution_count": 72,
     "metadata": {},
     "output_type": "execute_result"
    }
   ],
   "source": [
    "documents[0]"
   ]
  },
  {
   "cell_type": "markdown",
   "metadata": {},
   "source": [
    "### 7.1 word2vec"
   ]
  },
  {
   "cell_type": "code",
   "execution_count": 73,
   "metadata": {},
   "outputs": [
    {
     "name": "stderr",
     "output_type": "stream",
     "text": [
      "C:\\Users\\user\\Anaconda3\\lib\\site-packages\\gensim\\utils.py:1197: UserWarning: detected Windows; aliasing chunkize to chunkize_serial\n",
      "  warnings.warn(\"detected Windows; aliasing chunkize to chunkize_serial\")\n"
     ]
    }
   ],
   "source": [
    "from gensim.models.word2vec import Word2Vec"
   ]
  },
  {
   "cell_type": "code",
   "execution_count": 74,
   "metadata": {},
   "outputs": [],
   "source": [
    "model = Word2Vec(documents,         # 리스트 형태\n",
    "                 sg=1,         # 0: CBOW, 1: Skip-gram\n",
    "                 size=100,     # 벡터 크기\n",
    "                 window=3,     # 고려할 앞뒤 폭(앞뒤 3단어)\n",
    "                 min_count=3,  # 사용할 단어의 최소 빈도(3회 이하 단어 무시)\n",
    "                 workers=4)    # 동시에 처리할 작업 수(코어 수와 비슷하게 설정)"
   ]
  },
  {
   "cell_type": "code",
   "execution_count": 75,
   "metadata": {},
   "outputs": [],
   "source": [
    "## 저장\n",
    "model.save('pro_word2vec.model')"
   ]
  },
  {
   "cell_type": "code",
   "execution_count": 147,
   "metadata": {},
   "outputs": [],
   "source": [
    "## 불러오기\n",
    "model = Word2Vec.load('pro_word2vec.model')"
   ]
  },
  {
   "cell_type": "code",
   "execution_count": 77,
   "metadata": {},
   "outputs": [
    {
     "data": {
      "text/plain": [
       "array([ 0.00206848,  0.19459786, -0.36315572, -0.25976145, -0.32418898,\n",
       "       -0.1259948 , -0.15635905,  0.5630231 ,  0.31470937, -0.4078463 ,\n",
       "       -0.07118844,  0.07123663,  0.5127987 ,  0.03773263,  0.16502243,\n",
       "        0.19521718, -0.76599735, -0.13801402,  0.4299486 , -0.08641271,\n",
       "        0.09360606, -0.05941821,  0.22162907,  0.0522872 ,  0.01017583,\n",
       "        0.21776785, -0.1921876 ,  0.2109211 , -0.33357105, -0.17369644,\n",
       "        0.10658416, -0.43604293,  0.19019349,  0.06696663, -0.23186733,\n",
       "        0.07476347, -0.25658235,  0.46853906,  0.21824913, -0.08589438,\n",
       "       -0.04941929,  0.5435351 ,  0.25557834, -0.35975823, -0.74260265,\n",
       "        0.02078794, -0.1007634 , -0.1443807 , -0.16007172, -0.24756561,\n",
       "       -0.02646115,  0.64817697,  0.13426745,  0.3508993 , -0.30741987,\n",
       "       -0.24422365,  0.12260474, -0.5627442 , -0.51213217,  0.15569426,\n",
       "       -0.54504746,  0.13294935,  0.03852362, -0.34569603, -0.22761475,\n",
       "        0.05731123,  0.00822555,  0.08291311,  0.00224289,  0.5470861 ,\n",
       "        0.09816009,  0.5042886 ,  0.31245124,  0.24846427, -0.04055064,\n",
       "        0.20110127,  0.34478682, -0.10086937,  0.19745448, -0.45429966,\n",
       "       -0.12064644, -0.00890896, -0.03648237,  0.05148274,  0.29301375,\n",
       "       -0.46636713,  0.01072925,  0.14303736, -0.04448847, -0.77918124,\n",
       "       -0.07129468,  0.05720191,  0.01906844, -0.22127669,  0.217863  ,\n",
       "        0.17563638, -0.29619998, -0.3535397 , -0.09664074,  0.30638927],\n",
       "      dtype=float32)"
      ]
     },
     "execution_count": 77,
     "metadata": {},
     "output_type": "execute_result"
    }
   ],
   "source": [
    "model.wv['촉촉']"
   ]
  },
  {
   "cell_type": "code",
   "execution_count": 91,
   "metadata": {},
   "outputs": [
    {
     "data": {
      "text/plain": [
       "0.7306014281904194"
      ]
     },
     "execution_count": 91,
     "metadata": {},
     "output_type": "execute_result"
    }
   ],
   "source": [
    "## 코사인 유사도\n",
    "model.wv.similarity('컬러', '레드')"
   ]
  },
  {
   "cell_type": "code",
   "execution_count": 93,
   "metadata": {},
   "outputs": [
    {
     "data": {
      "text/plain": [
       "0.6645324541927546"
      ]
     },
     "execution_count": 93,
     "metadata": {},
     "output_type": "execute_result"
    }
   ],
   "source": [
    "## 코사인 유사도\n",
    "model.wv.similarity('촉촉', '수분크림')"
   ]
  },
  {
   "cell_type": "code",
   "execution_count": 90,
   "metadata": {},
   "outputs": [
    {
     "data": {
      "text/plain": [
       "[('무결점', 0.8230122327804565),\n",
       " ('물광피부', 0.8000475764274597),\n",
       " ('프리미어', 0.7957494258880615),\n",
       " ('광채', 0.7916102409362793),\n",
       " ('수분팩', 0.7900696992874146),\n",
       " ('광채피부', 0.789462685585022),\n",
       " ('쿨링', 0.7868645787239075),\n",
       " ('부스팅', 0.7861065864562988),\n",
       " ('충전', 0.7829052209854126),\n",
       " ('선사', 0.7815368175506592)]"
      ]
     },
     "execution_count": 90,
     "metadata": {},
     "output_type": "execute_result"
    }
   ],
   "source": [
    "## 가장 유사한 단어\n",
    "model.wv.most_similar('물광')"
   ]
  },
  {
   "cell_type": "code",
   "execution_count": 79,
   "metadata": {},
   "outputs": [
    {
     "data": {
      "text/plain": [
       "[('흡수력', 0.8149070739746094),\n",
       " ('초크초크', 0.8045000433921814),\n",
       " ('리치', 0.7973361015319824),\n",
       " ('무겁', 0.7933701276779175),\n",
       " ('습감', 0.7858553528785706),\n",
       " ('뽀송', 0.7838507294654846),\n",
       " ('워터리', 0.7833592891693115),\n",
       " ('보습감', 0.7820384502410889),\n",
       " ('초경량', 0.7810738682746887),\n",
       " ('수분감', 0.7803847193717957)]"
      ]
     },
     "execution_count": 79,
     "metadata": {},
     "output_type": "execute_result"
    }
   ],
   "source": [
    "## 가장 유사한 단어\n",
    "model.wv.most_similar('촉촉')"
   ]
  },
  {
   "cell_type": "code",
   "execution_count": 81,
   "metadata": {},
   "outputs": [
    {
     "data": {
      "text/plain": [
       "[('덩이', 0.9713246822357178),\n",
       " ('중앙', 0.9695633053779602),\n",
       " ('눈두덩이', 0.9569394588470459),\n",
       " ('애교살', 0.9547940492630005),\n",
       " ('눈두덩', 0.9529669284820557),\n",
       " ('운데', 0.9472670555114746),\n",
       " ('영역', 0.9457536339759827),\n",
       " ('눈앞머리', 0.9432390332221985),\n",
       " ('앞머리', 0.9362964630126953),\n",
       " ('입체감', 0.9281405210494995)]"
      ]
     },
     "execution_count": 81,
     "metadata": {},
     "output_type": "execute_result"
    }
   ],
   "source": [
    "## 가장 유사한 단어\n",
    "model.wv.most_similar('애굣살')"
   ]
  },
  {
   "cell_type": "code",
   "execution_count": 87,
   "metadata": {},
   "outputs": [
    {
     "data": {
      "text/plain": [
       "[('고밀착', 0.9015926122665405),\n",
       " ('매끄', 0.8888841271400452),\n",
       " ('착력', 0.8739922642707825),\n",
       " ('매끈', 0.8541513681411743),\n",
       " ('주름사', 0.8504502177238464),\n",
       " ('초경량', 0.8481572270393372),\n",
       " ('루날림', 0.8476483821868896),\n",
       " ('픽싱력', 0.8450065851211548),\n",
       " ('발리', 0.8441821336746216),\n",
       " ('밀착감', 0.8432092666625977)]"
      ]
     },
     "execution_count": 87,
     "metadata": {},
     "output_type": "execute_result"
    }
   ],
   "source": [
    "## 가장 유사한 단어\n",
    "model.wv.most_similar('밀착')"
   ]
  },
  {
   "cell_type": "code",
   "execution_count": 148,
   "metadata": {},
   "outputs": [
    {
     "data": {
      "text/plain": [
       "[('벨벳틴트', 0.6983211636543274),\n",
       " ('틴트인', 0.6824373602867126),\n",
       " ('립제품', 0.6727991700172424),\n",
       " ('과즙팡', 0.6665595769882202),\n",
       " ('과즙팡틴트', 0.6641845703125),\n",
       " ('립틴트', 0.6457366943359375),\n",
       " ('입술', 0.6416869163513184),\n",
       " ('미샤', 0.6305449604988098),\n",
       " ('어퓨', 0.6287322044372559),\n",
       " ('라커틴트', 0.6279722452163696)]"
      ]
     },
     "execution_count": 148,
     "metadata": {},
     "output_type": "execute_result"
    }
   ],
   "source": [
    "## 가장 유사한 단어\n",
    "model.wv.most_similar('틴트')"
   ]
  }
 ],
 "metadata": {
  "kernelspec": {
   "display_name": "Python 3",
   "language": "python",
   "name": "python3"
  },
  "language_info": {
   "codemirror_mode": {
    "name": "ipython",
    "version": 3
   },
   "file_extension": ".py",
   "mimetype": "text/x-python",
   "name": "python",
   "nbconvert_exporter": "python",
   "pygments_lexer": "ipython3",
   "version": "3.8.3"
  }
 },
 "nbformat": 4,
 "nbformat_minor": 2
}
