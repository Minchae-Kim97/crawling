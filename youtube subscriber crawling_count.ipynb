{
 "cells": [
  {
   "cell_type": "code",
   "execution_count": 38,
   "metadata": {},
   "outputs": [
    {
     "ename": "NameError",
     "evalue": "name 'plt' is not defined",
     "output_type": "error",
     "traceback": [
      "\u001b[1;31m---------------------------------------------------------------------------\u001b[0m",
      "\u001b[1;31mNameError\u001b[0m                                 Traceback (most recent call last)",
      "\u001b[1;32m<ipython-input-38-cd80470ec94b>\u001b[0m in \u001b[0;36m<module>\u001b[1;34m\u001b[0m\n\u001b[0;32m     23\u001b[0m \u001b[1;32mimport\u001b[0m \u001b[0mgensim\u001b[0m\u001b[1;33m\u001b[0m\u001b[1;33m\u001b[0m\u001b[0m\n\u001b[0;32m     24\u001b[0m \u001b[1;32mimport\u001b[0m \u001b[0mgensim\u001b[0m\u001b[1;33m.\u001b[0m\u001b[0mmodels\u001b[0m \u001b[1;32mas\u001b[0m \u001b[0mg\u001b[0m\u001b[1;33m\u001b[0m\u001b[1;33m\u001b[0m\u001b[0m\n\u001b[1;32m---> 25\u001b[1;33m \u001b[0mplt\u001b[0m\u001b[1;33m.\u001b[0m\u001b[0mrc\u001b[0m\u001b[1;33m(\u001b[0m\u001b[1;34m'font'\u001b[0m\u001b[1;33m,\u001b[0m \u001b[0mfamily\u001b[0m\u001b[1;33m=\u001b[0m\u001b[1;34m'nanumgothic'\u001b[0m\u001b[1;33m)\u001b[0m\u001b[1;33m\u001b[0m\u001b[1;33m\u001b[0m\u001b[0m\n\u001b[0m\u001b[0;32m     26\u001b[0m \u001b[0mplt\u001b[0m\u001b[1;33m.\u001b[0m\u001b[0mrc\u001b[0m\u001b[1;33m(\u001b[0m\u001b[1;34m'axes'\u001b[0m\u001b[1;33m,\u001b[0m \u001b[0municode_minus\u001b[0m\u001b[1;33m=\u001b[0m\u001b[1;32mFalse\u001b[0m\u001b[1;33m)\u001b[0m\u001b[1;33m\u001b[0m\u001b[1;33m\u001b[0m\u001b[0m\n",
      "\u001b[1;31mNameError\u001b[0m: name 'plt' is not defined"
     ]
    }
   ],
   "source": [
    "from selenium import webdriver\n",
    "from selenium.webdriver.common.keys import Keys\n",
    "from collections import defaultdict\n",
    "from datetime import datetime \n",
    "from tqdm import tqdm_notebook\n",
    "from collections import Counter\n",
    "from bs4 import BeautifulSoup as bs\n",
    "from tqdm import tqdm_notebook\n",
    "from selenium.common.exceptions import NoSuchElementException\n",
    "\n",
    "import urllib.request\n",
    "import urllib.parse\n",
    "import lxml.html\n",
    "import requests\n",
    "import pandas as pd\n",
    "import time\n",
    "import math\n",
    "import re\n",
    "import random\n",
    "\n",
    "# word2vec\n",
    "from gensim.models.word2vec import Word2Vec\n",
    "import gensim \n",
    "import gensim.models as g\n",
    "plt.rc('font', family='nanumgothic')\n",
    "plt.rc('axes', unicode_minus=False)"
   ]
  },
  {
   "cell_type": "code",
   "execution_count": 2,
   "metadata": {},
   "outputs": [],
   "source": [
    "# driver path\n",
    "path = 'C:/Users/Administrator/chromedriver'\n",
    "driver = webdriver.Chrome(path)"
   ]
  },
  {
   "cell_type": "code",
   "execution_count": 17,
   "metadata": {},
   "outputs": [],
   "source": [
    "# url 데이터프레임 생성\n",
    "urlDf = pd.DataFrame(data = {'유튜버': [],\n",
    "                              '제목': [],\n",
    "                              'url': [],\n",
    "                              '조회수': [],\n",
    "                              '날짜':[],\n",
    "                              '댓글수': []})"
   ]
  },
  {
   "cell_type": "code",
   "execution_count": 18,
   "metadata": {},
   "outputs": [
    {
     "data": {
      "text/html": [
       "<div>\n",
       "<style scoped>\n",
       "    .dataframe tbody tr th:only-of-type {\n",
       "        vertical-align: middle;\n",
       "    }\n",
       "\n",
       "    .dataframe tbody tr th {\n",
       "        vertical-align: top;\n",
       "    }\n",
       "\n",
       "    .dataframe thead th {\n",
       "        text-align: right;\n",
       "    }\n",
       "</style>\n",
       "<table border=\"1\" class=\"dataframe\">\n",
       "  <thead>\n",
       "    <tr style=\"text-align: right;\">\n",
       "      <th></th>\n",
       "      <th>유튜버</th>\n",
       "      <th>제목</th>\n",
       "      <th>url</th>\n",
       "      <th>조회수</th>\n",
       "      <th>날짜</th>\n",
       "      <th>댓글수</th>\n",
       "    </tr>\n",
       "  </thead>\n",
       "  <tbody>\n",
       "    <tr>\n",
       "      <th>0</th>\n",
       "      <td>디렉터파이</td>\n",
       "      <td>(*Eng) 내 피부가 이랬어?! 민감, 지성, 건성 에센스 BEST 궁합 찾는 법...</td>\n",
       "      <td>https://www.youtube.com/watch?v=YkX9SA166RM&amp;t=51s</td>\n",
       "      <td>317550</td>\n",
       "      <td>2018-06-08</td>\n",
       "      <td>302</td>\n",
       "    </tr>\n",
       "    <tr>\n",
       "      <th>1</th>\n",
       "      <td>디렉터파이</td>\n",
       "      <td>[디파GO]민감 건성, 보습과 탄력? 화장품 바르는 4가지 방법(디렉터파이 피부 측...</td>\n",
       "      <td>https://www.youtube.com/watch?v=6zti2UXhQ3A</td>\n",
       "      <td>183588</td>\n",
       "      <td>2017-09-01</td>\n",
       "      <td>177</td>\n",
       "    </tr>\n",
       "    <tr>\n",
       "      <th>2</th>\n",
       "      <td>디렉터파이</td>\n",
       "      <td>(**Eng.)여드름, 좁쌀, 각질 부자 모여! 피부타입별 성분 궁합&amp; 착한 크림들...</td>\n",
       "      <td>https://www.youtube.com/watch?v=q12lCuRff34</td>\n",
       "      <td>1432136</td>\n",
       "      <td>2017-10-20</td>\n",
       "      <td>1080</td>\n",
       "    </tr>\n",
       "    <tr>\n",
       "      <th>3</th>\n",
       "      <td>디렉터파이</td>\n",
       "      <td>(*Eng)피부타입별 토너 사용법 따로 있다? 효과 검증 화장솜 궁합까지. by 디...</td>\n",
       "      <td>https://www.youtube.com/watch?v=C8wXn0Xdp1c</td>\n",
       "      <td>961828</td>\n",
       "      <td>2018-05-04</td>\n",
       "      <td>849</td>\n",
       "    </tr>\n",
       "    <tr>\n",
       "      <th>4</th>\n",
       "      <td>디렉터파이</td>\n",
       "      <td>속건조 해결?! 지성, 수부지 민감한 피부 위한 기초 스킨케어 by. 디렉터파이</td>\n",
       "      <td>https://www.youtube.com/watch?v=N1M2ocbcHb0</td>\n",
       "      <td>943392</td>\n",
       "      <td>2017-08-11</td>\n",
       "      <td>786</td>\n",
       "    </tr>\n",
       "    <tr>\n",
       "      <th>5</th>\n",
       "      <td>이사배</td>\n",
       "      <td>[Eng] 민감피부🤦🏻‍♀ 나의 하루종일 피부진정방법🍀 Calming Skincar...</td>\n",
       "      <td>https://www.youtube.com/watch?v=xsBKNABqi5E</td>\n",
       "      <td>456728</td>\n",
       "      <td>2018-06-09</td>\n",
       "      <td>426</td>\n",
       "    </tr>\n",
       "    <tr>\n",
       "      <th>6</th>\n",
       "      <td>디렉터파이</td>\n",
       "      <td>(*Eng) 국내 더마 코스메틱 Top5 성분 효과 검증 by 디렉터파이</td>\n",
       "      <td>https://www.youtube.com/watch?v=_sejSV5yXro</td>\n",
       "      <td>184022</td>\n",
       "      <td>2018-10-29</td>\n",
       "      <td>282</td>\n",
       "    </tr>\n",
       "  </tbody>\n",
       "</table>\n",
       "</div>"
      ],
      "text/plain": [
       "     유튜버                                                 제목  \\\n",
       "0  디렉터파이  (*Eng) 내 피부가 이랬어?! 민감, 지성, 건성 에센스 BEST 궁합 찾는 법...   \n",
       "1  디렉터파이  [디파GO]민감 건성, 보습과 탄력? 화장품 바르는 4가지 방법(디렉터파이 피부 측...   \n",
       "2  디렉터파이  (**Eng.)여드름, 좁쌀, 각질 부자 모여! 피부타입별 성분 궁합& 착한 크림들...   \n",
       "3  디렉터파이  (*Eng)피부타입별 토너 사용법 따로 있다? 효과 검증 화장솜 궁합까지. by 디...   \n",
       "4  디렉터파이       속건조 해결?! 지성, 수부지 민감한 피부 위한 기초 스킨케어 by. 디렉터파이   \n",
       "5    이사배  [Eng] 민감피부🤦🏻‍♀ 나의 하루종일 피부진정방법🍀 Calming Skincar...   \n",
       "6  디렉터파이           (*Eng) 국내 더마 코스메틱 Top5 성분 효과 검증 by 디렉터파이   \n",
       "\n",
       "                                                 url      조회수          날짜  \\\n",
       "0  https://www.youtube.com/watch?v=YkX9SA166RM&t=51s   317550  2018-06-08   \n",
       "1        https://www.youtube.com/watch?v=6zti2UXhQ3A   183588  2017-09-01   \n",
       "2        https://www.youtube.com/watch?v=q12lCuRff34  1432136  2017-10-20   \n",
       "3        https://www.youtube.com/watch?v=C8wXn0Xdp1c   961828  2018-05-04   \n",
       "4        https://www.youtube.com/watch?v=N1M2ocbcHb0   943392  2017-08-11   \n",
       "5        https://www.youtube.com/watch?v=xsBKNABqi5E   456728  2018-06-09   \n",
       "6        https://www.youtube.com/watch?v=_sejSV5yXro   184022  2018-10-29   \n",
       "\n",
       "    댓글수  \n",
       "0   302  \n",
       "1   177  \n",
       "2  1080  \n",
       "3   849  \n",
       "4   786  \n",
       "5   426  \n",
       "6   282  "
      ]
     },
     "execution_count": 18,
     "metadata": {},
     "output_type": "execute_result"
    }
   ],
   "source": [
    "urlDf"
   ]
  },
  {
   "cell_type": "markdown",
   "metadata": {},
   "source": [
    "## 잠재고객 url 리스트 만들기"
   ]
  },
  {
   "cell_type": "code",
   "execution_count": 146,
   "metadata": {},
   "outputs": [],
   "source": [
    "#reply_cnt = int(driver.find_element_by_css_selector('#count > yt-formatted-string').text[3:-1]) #댓글수\n",
    "user_list = []\n",
    "reply_list = []\n",
    "\n",
    "for i in range(len(urlDf)):\n",
    "    driver.get(urlDf.url[i])\n",
    "    reply_cnt = urlDf.댓글수[i]\n",
    "\n",
    "    start = datetime.now()\n",
    "    batang = driver.find_element_by_css_selector(\"body\") \n",
    "    while True : \n",
    "        now = datetime.now() \n",
    "\n",
    "        batang.send_keys(Keys.PAGE_DOWN)  \n",
    "        time.sleep(1)\n",
    "\n",
    "        # 더보기 클릭하는 반복문\n",
    "        try:\n",
    "            more_btns = driver.find_elements_by_xpath('//*[@id=\"more-replies\"]')\n",
    "            for more_btn in more_btns:\n",
    "                try:\n",
    "                    more_btn.click()\n",
    "                    time.sleep(1)\n",
    "                except:\n",
    "                    pass            \n",
    "        except:\n",
    "            pass\n",
    "\n",
    "        replys = driver.find_elements_by_css_selector('yt-formatted-string#content-text.style-scope.ytd-comment-renderer')\n",
    "        check_cnt = len(replys) \n",
    "        if check_cnt == reply_cnt:\n",
    "            break\n",
    "        elif (now-start).seconds > 300:\n",
    "            break\n",
    "    \n",
    "    time.sleep(2)\n",
    "\n",
    "    # 댓글 단 사람들의 url\n",
    "    user_urls = driver.find_elements_by_css_selector('#author-text')  \n",
    "    time.sleep(2)\n",
    "    for user_url in user_urls:\n",
    "        user_list.append([user_url.text, user_url.get_attribute('href')])\n",
    "\n",
    "    # 댓글 단 사람들의 댓글\n",
    "    replys = driver.find_elements_by_css_selector('yt-formatted-string#content-text.style-scope.ytd-comment-renderer')\n",
    "    time.sleep(2)\n",
    "    for reply in replys:\n",
    "        reply_list.append(reply.text)\n",
    "        \n",
    "    continue"
   ]
  },
  {
   "cell_type": "code",
   "execution_count": 148,
   "metadata": {},
   "outputs": [
    {
     "data": {
      "text/html": [
       "<div>\n",
       "<style scoped>\n",
       "    .dataframe tbody tr th:only-of-type {\n",
       "        vertical-align: middle;\n",
       "    }\n",
       "\n",
       "    .dataframe tbody tr th {\n",
       "        vertical-align: top;\n",
       "    }\n",
       "\n",
       "    .dataframe thead th {\n",
       "        text-align: right;\n",
       "    }\n",
       "</style>\n",
       "<table border=\"1\" class=\"dataframe\">\n",
       "  <thead>\n",
       "    <tr style=\"text-align: right;\">\n",
       "      <th></th>\n",
       "      <th>댓글내용</th>\n",
       "    </tr>\n",
       "  </thead>\n",
       "  <tbody>\n",
       "    <tr>\n",
       "      <th>0</th>\n",
       "      <td>안녕하세요, 오늘 올라갈 영상은 내 피부타입 아는 법-기초(1편 에센스), (2편 ...</td>\n",
       "    </tr>\n",
       "    <tr>\n",
       "      <th>1</th>\n",
       "      <td>디렉터 파이 Do english subtitle please~🙏🏻</td>\n",
       "    </tr>\n",
       "    <tr>\n",
       "      <th>2</th>\n",
       "      <td>겨울버전도 해주세요ㅠㅠ</td>\n",
       "    </tr>\n",
       "    <tr>\n",
       "      <th>3</th>\n",
       "      <td>코랑 이마엔 기름이많고 다른곳은 건조하면 수부지인가요?</td>\n",
       "    </tr>\n",
       "    <tr>\n",
       "      <th>4</th>\n",
       "      <td>디렉터 파이 토너나 다른 것들은 안바르고 에센스 수분크림만 발라도될까요?? 고수님들...</td>\n",
       "    </tr>\n",
       "  </tbody>\n",
       "</table>\n",
       "</div>"
      ],
      "text/plain": [
       "                                                댓글내용\n",
       "0  안녕하세요, 오늘 올라갈 영상은 내 피부타입 아는 법-기초(1편 에센스), (2편 ...\n",
       "1               디렉터 파이 Do english subtitle please~🙏🏻\n",
       "2                                       겨울버전도 해주세요ㅠㅠ\n",
       "3                     코랑 이마엔 기름이많고 다른곳은 건조하면 수부지인가요?\n",
       "4  디렉터 파이 토너나 다른 것들은 안바르고 에센스 수분크림만 발라도될까요?? 고수님들..."
      ]
     },
     "execution_count": 148,
     "metadata": {},
     "output_type": "execute_result"
    }
   ],
   "source": [
    "replyDf = pd.DataFrame(reply_list, columns = ['댓글내용'])\n",
    "replyDf.head()"
   ]
  },
  {
   "cell_type": "code",
   "execution_count": 157,
   "metadata": {},
   "outputs": [],
   "source": [
    "replyDf.to_excel('더마토리_유튜브댓글.xlsx')"
   ]
  },
  {
   "cell_type": "code",
   "execution_count": 158,
   "metadata": {},
   "outputs": [
    {
     "data": {
      "text/html": [
       "<div>\n",
       "<style scoped>\n",
       "    .dataframe tbody tr th:only-of-type {\n",
       "        vertical-align: middle;\n",
       "    }\n",
       "\n",
       "    .dataframe tbody tr th {\n",
       "        vertical-align: top;\n",
       "    }\n",
       "\n",
       "    .dataframe thead th {\n",
       "        text-align: right;\n",
       "    }\n",
       "</style>\n",
       "<table border=\"1\" class=\"dataframe\">\n",
       "  <thead>\n",
       "    <tr style=\"text-align: right;\">\n",
       "      <th></th>\n",
       "      <th>댓글내용</th>\n",
       "    </tr>\n",
       "  </thead>\n",
       "  <tbody>\n",
       "    <tr>\n",
       "      <th>0</th>\n",
       "      <td>안녕하세요, 오늘 올라갈 영상은 내 피부타입 아는 법-기초(1편 에센스), (2편 ...</td>\n",
       "    </tr>\n",
       "    <tr>\n",
       "      <th>1</th>\n",
       "      <td>디렉터 파이 Do english subtitle please~🙏🏻</td>\n",
       "    </tr>\n",
       "    <tr>\n",
       "      <th>2</th>\n",
       "      <td>겨울버전도 해주세요ㅠㅠ</td>\n",
       "    </tr>\n",
       "    <tr>\n",
       "      <th>3</th>\n",
       "      <td>코랑 이마엔 기름이많고 다른곳은 건조하면 수부지인가요?</td>\n",
       "    </tr>\n",
       "    <tr>\n",
       "      <th>4</th>\n",
       "      <td>디렉터 파이 토너나 다른 것들은 안바르고 에센스 수분크림만 발라도될까요?? 고수님들...</td>\n",
       "    </tr>\n",
       "  </tbody>\n",
       "</table>\n",
       "</div>"
      ],
      "text/plain": [
       "                                                댓글내용\n",
       "0  안녕하세요, 오늘 올라갈 영상은 내 피부타입 아는 법-기초(1편 에센스), (2편 ...\n",
       "1               디렉터 파이 Do english subtitle please~🙏🏻\n",
       "2                                       겨울버전도 해주세요ㅠㅠ\n",
       "3                     코랑 이마엔 기름이많고 다른곳은 건조하면 수부지인가요?\n",
       "4  디렉터 파이 토너나 다른 것들은 안바르고 에센스 수분크림만 발라도될까요?? 고수님들..."
      ]
     },
     "execution_count": 158,
     "metadata": {},
     "output_type": "execute_result"
    }
   ],
   "source": [
    "replyDf = pd.read_excel('더마토리_유튜브댓글.xlsx', index_col=0)\n",
    "replyDf.head()"
   ]
  },
  {
   "cell_type": "code",
   "execution_count": 150,
   "metadata": {},
   "outputs": [
    {
     "data": {
      "text/html": [
       "<div>\n",
       "<style scoped>\n",
       "    .dataframe tbody tr th:only-of-type {\n",
       "        vertical-align: middle;\n",
       "    }\n",
       "\n",
       "    .dataframe tbody tr th {\n",
       "        vertical-align: top;\n",
       "    }\n",
       "\n",
       "    .dataframe thead th {\n",
       "        text-align: right;\n",
       "    }\n",
       "</style>\n",
       "<table border=\"1\" class=\"dataframe\">\n",
       "  <thead>\n",
       "    <tr style=\"text-align: right;\">\n",
       "      <th></th>\n",
       "      <th>이름</th>\n",
       "      <th>url</th>\n",
       "    </tr>\n",
       "  </thead>\n",
       "  <tbody>\n",
       "    <tr>\n",
       "      <th>0</th>\n",
       "      <td></td>\n",
       "      <td>https://www.youtube.com/channel/UCqrNqg3UgVoD3...</td>\n",
       "    </tr>\n",
       "    <tr>\n",
       "      <th>1</th>\n",
       "      <td>pat ty</td>\n",
       "      <td>https://www.youtube.com/channel/UCd6DPfmyJa0Cr...</td>\n",
       "    </tr>\n",
       "    <tr>\n",
       "      <th>2</th>\n",
       "      <td>레브</td>\n",
       "      <td>https://www.youtube.com/channel/UCVYFzlQ7SOzuG...</td>\n",
       "    </tr>\n",
       "    <tr>\n",
       "      <th>3</th>\n",
       "      <td>룽이는섭섭해</td>\n",
       "      <td>https://www.youtube.com/channel/UCnhlLQh0p89Mc...</td>\n",
       "    </tr>\n",
       "    <tr>\n",
       "      <th>4</th>\n",
       "      <td>유준상</td>\n",
       "      <td>https://www.youtube.com/channel/UCrZR1TakPPMOa...</td>\n",
       "    </tr>\n",
       "  </tbody>\n",
       "</table>\n",
       "</div>"
      ],
      "text/plain": [
       "       이름                                                url\n",
       "0          https://www.youtube.com/channel/UCqrNqg3UgVoD3...\n",
       "1  pat ty  https://www.youtube.com/channel/UCd6DPfmyJa0Cr...\n",
       "2      레브  https://www.youtube.com/channel/UCVYFzlQ7SOzuG...\n",
       "3  룽이는섭섭해  https://www.youtube.com/channel/UCnhlLQh0p89Mc...\n",
       "4     유준상  https://www.youtube.com/channel/UCrZR1TakPPMOa..."
      ]
     },
     "execution_count": 150,
     "metadata": {},
     "output_type": "execute_result"
    }
   ],
   "source": [
    "userDf = pd.DataFrame(user_list, columns = ['이름', 'url'])\n",
    "userDf.head()"
   ]
  },
  {
   "cell_type": "code",
   "execution_count": 151,
   "metadata": {},
   "outputs": [],
   "source": [
    "userDfUni = userDf.drop_duplicates()"
   ]
  },
  {
   "cell_type": "code",
   "execution_count": 155,
   "metadata": {},
   "outputs": [],
   "source": [
    "userDfUni.to_excel('더마토리_유튜브유저.xlsx')"
   ]
  },
  {
   "cell_type": "code",
   "execution_count": 174,
   "metadata": {},
   "outputs": [
    {
     "data": {
      "text/html": [
       "<div>\n",
       "<style scoped>\n",
       "    .dataframe tbody tr th:only-of-type {\n",
       "        vertical-align: middle;\n",
       "    }\n",
       "\n",
       "    .dataframe tbody tr th {\n",
       "        vertical-align: top;\n",
       "    }\n",
       "\n",
       "    .dataframe thead th {\n",
       "        text-align: right;\n",
       "    }\n",
       "</style>\n",
       "<table border=\"1\" class=\"dataframe\">\n",
       "  <thead>\n",
       "    <tr style=\"text-align: right;\">\n",
       "      <th></th>\n",
       "      <th>이름</th>\n",
       "      <th>url</th>\n",
       "    </tr>\n",
       "  </thead>\n",
       "  <tbody>\n",
       "    <tr>\n",
       "      <th>0</th>\n",
       "      <td>NaN</td>\n",
       "      <td>https://www.youtube.com/channel/UCqrNqg3UgVoD3...</td>\n",
       "    </tr>\n",
       "    <tr>\n",
       "      <th>1</th>\n",
       "      <td>pat ty</td>\n",
       "      <td>https://www.youtube.com/channel/UCd6DPfmyJa0Cr...</td>\n",
       "    </tr>\n",
       "    <tr>\n",
       "      <th>2</th>\n",
       "      <td>레브</td>\n",
       "      <td>https://www.youtube.com/channel/UCVYFzlQ7SOzuG...</td>\n",
       "    </tr>\n",
       "    <tr>\n",
       "      <th>3</th>\n",
       "      <td>룽이는섭섭해</td>\n",
       "      <td>https://www.youtube.com/channel/UCnhlLQh0p89Mc...</td>\n",
       "    </tr>\n",
       "    <tr>\n",
       "      <th>4</th>\n",
       "      <td>유준상</td>\n",
       "      <td>https://www.youtube.com/channel/UCrZR1TakPPMOa...</td>\n",
       "    </tr>\n",
       "  </tbody>\n",
       "</table>\n",
       "</div>"
      ],
      "text/plain": [
       "       이름                                                url\n",
       "0     NaN  https://www.youtube.com/channel/UCqrNqg3UgVoD3...\n",
       "1  pat ty  https://www.youtube.com/channel/UCd6DPfmyJa0Cr...\n",
       "2      레브  https://www.youtube.com/channel/UCVYFzlQ7SOzuG...\n",
       "3  룽이는섭섭해  https://www.youtube.com/channel/UCnhlLQh0p89Mc...\n",
       "4     유준상  https://www.youtube.com/channel/UCrZR1TakPPMOa..."
      ]
     },
     "execution_count": 174,
     "metadata": {},
     "output_type": "execute_result"
    }
   ],
   "source": [
    "userDf = pd.read_excel('더마토리_유튜브유저.xlsx', index_col=0)\n",
    "userDf.head()"
   ]
  },
  {
   "cell_type": "code",
   "execution_count": 176,
   "metadata": {},
   "outputs": [
    {
     "data": {
      "text/html": [
       "<div>\n",
       "<style scoped>\n",
       "    .dataframe tbody tr th:only-of-type {\n",
       "        vertical-align: middle;\n",
       "    }\n",
       "\n",
       "    .dataframe tbody tr th {\n",
       "        vertical-align: top;\n",
       "    }\n",
       "\n",
       "    .dataframe thead th {\n",
       "        text-align: right;\n",
       "    }\n",
       "</style>\n",
       "<table border=\"1\" class=\"dataframe\">\n",
       "  <thead>\n",
       "    <tr style=\"text-align: right;\">\n",
       "      <th></th>\n",
       "      <th>이름</th>\n",
       "      <th>url</th>\n",
       "    </tr>\n",
       "  </thead>\n",
       "  <tbody>\n",
       "    <tr>\n",
       "      <th>0</th>\n",
       "      <td>NaN</td>\n",
       "      <td>https://www.youtube.com/channel/UCqrNqg3UgVoD3...</td>\n",
       "    </tr>\n",
       "    <tr>\n",
       "      <th>1</th>\n",
       "      <td>pat ty</td>\n",
       "      <td>https://www.youtube.com/channel/UCd6DPfmyJa0Cr...</td>\n",
       "    </tr>\n",
       "    <tr>\n",
       "      <th>2</th>\n",
       "      <td>레브</td>\n",
       "      <td>https://www.youtube.com/channel/UCVYFzlQ7SOzuG...</td>\n",
       "    </tr>\n",
       "    <tr>\n",
       "      <th>3</th>\n",
       "      <td>룽이는섭섭해</td>\n",
       "      <td>https://www.youtube.com/channel/UCnhlLQh0p89Mc...</td>\n",
       "    </tr>\n",
       "    <tr>\n",
       "      <th>4</th>\n",
       "      <td>유준상</td>\n",
       "      <td>https://www.youtube.com/channel/UCrZR1TakPPMOa...</td>\n",
       "    </tr>\n",
       "  </tbody>\n",
       "</table>\n",
       "</div>"
      ],
      "text/plain": [
       "       이름                                                url\n",
       "0     NaN  https://www.youtube.com/channel/UCqrNqg3UgVoD3...\n",
       "1  pat ty  https://www.youtube.com/channel/UCd6DPfmyJa0Cr...\n",
       "2      레브  https://www.youtube.com/channel/UCVYFzlQ7SOzuG...\n",
       "3  룽이는섭섭해  https://www.youtube.com/channel/UCnhlLQh0p89Mc...\n",
       "4     유준상  https://www.youtube.com/channel/UCrZR1TakPPMOa..."
      ]
     },
     "execution_count": 176,
     "metadata": {},
     "output_type": "execute_result"
    }
   ],
   "source": [
    "userDf = userDf.reset_index(drop=True)\n",
    "userDf.head()"
   ]
  },
  {
   "cell_type": "markdown",
   "metadata": {},
   "source": [
    "## 댓글 단 사람들의 구독자 크롤링"
   ]
  },
  {
   "cell_type": "code",
   "execution_count": 186,
   "metadata": {},
   "outputs": [
    {
     "data": {
      "text/html": [
       "<div>\n",
       "<style scoped>\n",
       "    .dataframe tbody tr th:only-of-type {\n",
       "        vertical-align: middle;\n",
       "    }\n",
       "\n",
       "    .dataframe tbody tr th {\n",
       "        vertical-align: top;\n",
       "    }\n",
       "\n",
       "    .dataframe thead th {\n",
       "        text-align: right;\n",
       "    }\n",
       "</style>\n",
       "<table border=\"1\" class=\"dataframe\">\n",
       "  <thead>\n",
       "    <tr style=\"text-align: right;\">\n",
       "      <th></th>\n",
       "      <th>이름</th>\n",
       "      <th>url</th>\n",
       "    </tr>\n",
       "  </thead>\n",
       "  <tbody>\n",
       "    <tr>\n",
       "      <th>0</th>\n",
       "      <td>pat ty</td>\n",
       "      <td>https://www.youtube.com/channel/UCd6DPfmyJa0Cr...</td>\n",
       "    </tr>\n",
       "    <tr>\n",
       "      <th>1</th>\n",
       "      <td>레브</td>\n",
       "      <td>https://www.youtube.com/channel/UCVYFzlQ7SOzuG...</td>\n",
       "    </tr>\n",
       "    <tr>\n",
       "      <th>2</th>\n",
       "      <td>룽이는섭섭해</td>\n",
       "      <td>https://www.youtube.com/channel/UCnhlLQh0p89Mc...</td>\n",
       "    </tr>\n",
       "    <tr>\n",
       "      <th>3</th>\n",
       "      <td>유준상</td>\n",
       "      <td>https://www.youtube.com/channel/UCrZR1TakPPMOa...</td>\n",
       "    </tr>\n",
       "    <tr>\n",
       "      <th>4</th>\n",
       "      <td>잘생김</td>\n",
       "      <td>https://www.youtube.com/channel/UCxDgUcK6fn9Lm...</td>\n",
       "    </tr>\n",
       "  </tbody>\n",
       "</table>\n",
       "</div>"
      ],
      "text/plain": [
       "       이름                                                url\n",
       "0  pat ty  https://www.youtube.com/channel/UCd6DPfmyJa0Cr...\n",
       "1      레브  https://www.youtube.com/channel/UCVYFzlQ7SOzuG...\n",
       "2  룽이는섭섭해  https://www.youtube.com/channel/UCnhlLQh0p89Mc...\n",
       "3     유준상  https://www.youtube.com/channel/UCrZR1TakPPMOa...\n",
       "4     잘생김  https://www.youtube.com/channel/UCxDgUcK6fn9Lm..."
      ]
     },
     "execution_count": 186,
     "metadata": {},
     "output_type": "execute_result"
    }
   ],
   "source": [
    "## NaN값 제거\n",
    "userDf = userDf[userDf.이름.isnull()!=True]\n",
    "userDf = userDf.reset_index(drop=True)\n",
    "userDf.head()"
   ]
  },
  {
   "cell_type": "code",
   "execution_count": 375,
   "metadata": {},
   "outputs": [
    {
     "data": {
      "text/plain": [
       "3073"
      ]
     },
     "execution_count": 375,
     "metadata": {},
     "output_type": "execute_result"
    }
   ],
   "source": [
    "len(userDf)"
   ]
  },
  {
   "cell_type": "code",
   "execution_count": 350,
   "metadata": {},
   "outputs": [
    {
     "ename": "KeyboardInterrupt",
     "evalue": "",
     "output_type": "error",
     "traceback": [
      "\u001b[1;31m---------------------------------------------------------------------------\u001b[0m",
      "\u001b[1;31mKeyboardInterrupt\u001b[0m                         Traceback (most recent call last)",
      "\u001b[1;32m<ipython-input-350-3fba64396837>\u001b[0m in \u001b[0;36m<module>\u001b[1;34m\u001b[0m\n\u001b[0;32m      3\u001b[0m \u001b[1;32mfor\u001b[0m \u001b[0mi\u001b[0m \u001b[1;32min\u001b[0m \u001b[0mrange\u001b[0m\u001b[1;33m(\u001b[0m\u001b[0mlen\u001b[0m\u001b[1;33m(\u001b[0m\u001b[0muserDf\u001b[0m\u001b[1;33m)\u001b[0m\u001b[1;33m)\u001b[0m\u001b[1;33m:\u001b[0m\u001b[1;33m\u001b[0m\u001b[1;33m\u001b[0m\u001b[0m\n\u001b[0;32m      4\u001b[0m     \u001b[0mdriver\u001b[0m\u001b[1;33m.\u001b[0m\u001b[0mget\u001b[0m\u001b[1;33m(\u001b[0m\u001b[0muserDf\u001b[0m\u001b[1;33m.\u001b[0m\u001b[0murl\u001b[0m\u001b[1;33m[\u001b[0m\u001b[0mi\u001b[0m\u001b[1;33m]\u001b[0m\u001b[1;33m)\u001b[0m\u001b[1;33m\u001b[0m\u001b[1;33m\u001b[0m\u001b[0m\n\u001b[1;32m----> 5\u001b[1;33m     \u001b[0mtime\u001b[0m\u001b[1;33m.\u001b[0m\u001b[0msleep\u001b[0m\u001b[1;33m(\u001b[0m\u001b[1;36m1.5\u001b[0m\u001b[1;33m)\u001b[0m\u001b[1;33m\u001b[0m\u001b[1;33m\u001b[0m\u001b[0m\n\u001b[0m\u001b[0;32m      6\u001b[0m \u001b[1;33m\u001b[0m\u001b[0m\n\u001b[0;32m      7\u001b[0m     \u001b[1;31m## 1.구독자가 있는 경우 ##\u001b[0m\u001b[1;33m\u001b[0m\u001b[1;33m\u001b[0m\u001b[1;33m\u001b[0m\u001b[0m\n",
      "\u001b[1;31mKeyboardInterrupt\u001b[0m: "
     ]
    }
   ],
   "source": [
    "## version1\n",
    "youtuberList = []\n",
    "\n",
    "for i in range(len(userDf)):\n",
    "    driver.get(userDf.url[i])\n",
    "    time.sleep(1.5)\n",
    "    \n",
    "    ## 1.구독자가 있는 경우 ##\n",
    "    if '구독정보' in driver.page_source:\n",
    "        youtuberLi = []\n",
    "        while True:\n",
    "            time.sleep(2)\n",
    "            youtuberEles = driver.find_elements_by_css_selector('span#title.style-scope.ytd-grid-channel-renderer')\n",
    "            youtuberTexts = ', '.join([ youtuberEle.text for youtuberEle in youtuberEles ])\n",
    "            youtuberLi.extend([youtuberTexts])\n",
    "\n",
    "            time.sleep(1)\n",
    "            try:\n",
    "                more_btn = driver.find_element_by_css_selector('#right-arrow > ytd-button-renderer')\n",
    "                time.sleep(3)\n",
    "                more_btn.click() # 더보기 클릭\n",
    "                continue\n",
    "            except:\n",
    "                break\n",
    "\n",
    "        time.sleep(2)\n",
    "        youtuber_text = ', '.join([youtuber for youtuber in youtuberLi])\n",
    "        youtuberList.append([userDf.이름[i], youtuber_text])\n",
    "        continue\n",
    "        \n",
    "    ## 2.구독자가 없는 경우 ##\n",
    "    else: \n",
    "        youtuberList.append([userDf.이름[i], '없음'])\n",
    "        continue"
   ]
  },
  {
   "cell_type": "code",
   "execution_count": 373,
   "metadata": {},
   "outputs": [],
   "source": [
    "## version2\n",
    "youtuberList = []\n",
    "\n",
    "for i in range(len(userDf)):\n",
    "    driver.get(userDf.url[i])\n",
    "    time.sleep(1.5)\n",
    "    \n",
    "    ## 1.구독자가 있는 경우 ##\n",
    "    try:\n",
    "        guDok = driver.find_element_by_xpath('//*[@title=\"구독정보\"]').get_attribute('href')\n",
    "        driver.get(guDok) \n",
    "        time.sleep(2)\n",
    "        \n",
    "        NumOfPagedowns = 20\n",
    "        body = driver.find_element_by_tag_name(\"body\")\n",
    "        while NumOfPagedowns:\n",
    "            body.send_keys(Keys.PAGE_DOWN)\n",
    "            time.sleep(0.5)\n",
    "            NumOfPagedowns -= 1\n",
    "            \n",
    "        youtuberEles = driver.find_elements_by_css_selector('#title')\n",
    "        youtuberTexts = ', '.join([ youtuberEle.text for youtuberEle in youtuberEles ])\n",
    "        youtuberList.append([userDf.이름[i], youtuberTexts])\n",
    "        continue\n",
    "        \n",
    "    ## 2.구독자가 없는 경우 ##\n",
    "    except: \n",
    "        youtuberList.append([userDf.이름[i], '없음'])\n",
    "        continue"
   ]
  },
  {
   "cell_type": "code",
   "execution_count": 378,
   "metadata": {},
   "outputs": [
    {
     "data": {
      "text/html": [
       "<div>\n",
       "<style scoped>\n",
       "    .dataframe tbody tr th:only-of-type {\n",
       "        vertical-align: middle;\n",
       "    }\n",
       "\n",
       "    .dataframe tbody tr th {\n",
       "        vertical-align: top;\n",
       "    }\n",
       "\n",
       "    .dataframe thead th {\n",
       "        text-align: right;\n",
       "    }\n",
       "</style>\n",
       "<table border=\"1\" class=\"dataframe\">\n",
       "  <thead>\n",
       "    <tr style=\"text-align: right;\">\n",
       "      <th></th>\n",
       "      <th>이름</th>\n",
       "      <th>구독자</th>\n",
       "    </tr>\n",
       "  </thead>\n",
       "  <tbody>\n",
       "    <tr>\n",
       "      <th>0</th>\n",
       "      <td>pat ty</td>\n",
       "      <td>없음</td>\n",
       "    </tr>\n",
       "    <tr>\n",
       "      <th>1</th>\n",
       "      <td>레브</td>\n",
       "      <td>없음</td>\n",
       "    </tr>\n",
       "    <tr>\n",
       "      <th>2</th>\n",
       "      <td>룽이는섭섭해</td>\n",
       "      <td>없음</td>\n",
       "    </tr>\n",
       "    <tr>\n",
       "      <th>3</th>\n",
       "      <td>유준상</td>\n",
       "      <td>사물궁이 잡학지식, 양선수의 온라인PT, 굿메신저, 장삐쭈, 개리형, 20대 버스기...</td>\n",
       "    </tr>\n",
       "    <tr>\n",
       "      <th>4</th>\n",
       "      <td>잘생김</td>\n",
       "      <td>없음</td>\n",
       "    </tr>\n",
       "  </tbody>\n",
       "</table>\n",
       "</div>"
      ],
      "text/plain": [
       "       이름                                                구독자\n",
       "0  pat ty                                                 없음\n",
       "1      레브                                                 없음\n",
       "2  룽이는섭섭해                                                 없음\n",
       "3     유준상  사물궁이 잡학지식, 양선수의 온라인PT, 굿메신저, 장삐쭈, 개리형, 20대 버스기...\n",
       "4     잘생김                                                 없음"
      ]
     },
     "execution_count": 378,
     "metadata": {},
     "output_type": "execute_result"
    }
   ],
   "source": [
    "youtuberDf = pd.DataFrame(youtuberList, columns = ['이름', '구독자'])\n",
    "youtuberDf.head()"
   ]
  },
  {
   "cell_type": "code",
   "execution_count": 379,
   "metadata": {},
   "outputs": [],
   "source": [
    "youtuberDf.to_excel('더마토리_유튜버구독자정보.xlsx')"
   ]
  },
  {
   "cell_type": "code",
   "execution_count": 2,
   "metadata": {},
   "outputs": [
    {
     "data": {
      "text/html": [
       "<div>\n",
       "<style scoped>\n",
       "    .dataframe tbody tr th:only-of-type {\n",
       "        vertical-align: middle;\n",
       "    }\n",
       "\n",
       "    .dataframe tbody tr th {\n",
       "        vertical-align: top;\n",
       "    }\n",
       "\n",
       "    .dataframe thead th {\n",
       "        text-align: right;\n",
       "    }\n",
       "</style>\n",
       "<table border=\"1\" class=\"dataframe\">\n",
       "  <thead>\n",
       "    <tr style=\"text-align: right;\">\n",
       "      <th></th>\n",
       "      <th>이름</th>\n",
       "      <th>구독자</th>\n",
       "    </tr>\n",
       "  </thead>\n",
       "  <tbody>\n",
       "    <tr>\n",
       "      <th>0</th>\n",
       "      <td>pat ty</td>\n",
       "      <td>없음</td>\n",
       "    </tr>\n",
       "    <tr>\n",
       "      <th>1</th>\n",
       "      <td>레브</td>\n",
       "      <td>없음</td>\n",
       "    </tr>\n",
       "    <tr>\n",
       "      <th>2</th>\n",
       "      <td>룽이는섭섭해</td>\n",
       "      <td>없음</td>\n",
       "    </tr>\n",
       "    <tr>\n",
       "      <th>3</th>\n",
       "      <td>유준상</td>\n",
       "      <td>사물궁이 잡학지식, 양선수의 온라인PT, 굿메신저, 장삐쭈, 개리형, 20대 버스기...</td>\n",
       "    </tr>\n",
       "    <tr>\n",
       "      <th>4</th>\n",
       "      <td>잘생김</td>\n",
       "      <td>없음</td>\n",
       "    </tr>\n",
       "  </tbody>\n",
       "</table>\n",
       "</div>"
      ],
      "text/plain": [
       "       이름                                                구독자\n",
       "0  pat ty                                                 없음\n",
       "1      레브                                                 없음\n",
       "2  룽이는섭섭해                                                 없음\n",
       "3     유준상  사물궁이 잡학지식, 양선수의 온라인PT, 굿메신저, 장삐쭈, 개리형, 20대 버스기...\n",
       "4     잘생김                                                 없음"
      ]
     },
     "execution_count": 2,
     "metadata": {},
     "output_type": "execute_result"
    }
   ],
   "source": [
    "youtuberDf1 = pd.read_excel('더마토리_유튜버구독자정보.xlsx', index_col=0)\n",
    "youtuberDf1.head()"
   ]
  },
  {
   "cell_type": "code",
   "execution_count": 3,
   "metadata": {},
   "outputs": [
    {
     "data": {
      "text/html": [
       "<div>\n",
       "<style scoped>\n",
       "    .dataframe tbody tr th:only-of-type {\n",
       "        vertical-align: middle;\n",
       "    }\n",
       "\n",
       "    .dataframe tbody tr th {\n",
       "        vertical-align: top;\n",
       "    }\n",
       "\n",
       "    .dataframe thead th {\n",
       "        text-align: right;\n",
       "    }\n",
       "</style>\n",
       "<table border=\"1\" class=\"dataframe\">\n",
       "  <thead>\n",
       "    <tr style=\"text-align: right;\">\n",
       "      <th></th>\n",
       "      <th>이름</th>\n",
       "      <th>구독자</th>\n",
       "    </tr>\n",
       "  </thead>\n",
       "  <tbody>\n",
       "    <tr>\n",
       "      <th>3068</th>\n",
       "      <td>강영재</td>\n",
       "      <td>없음</td>\n",
       "    </tr>\n",
       "    <tr>\n",
       "      <th>3069</th>\n",
       "      <td>오수</td>\n",
       "      <td>없음</td>\n",
       "    </tr>\n",
       "    <tr>\n",
       "      <th>3070</th>\n",
       "      <td>정형주</td>\n",
       "      <td>바이스톰 코리아, Kritter Klub, 무지막지한 막무家네, 해그린달 haegr...</td>\n",
       "    </tr>\n",
       "    <tr>\n",
       "      <th>3071</th>\n",
       "      <td>sh hb</td>\n",
       "      <td>없음</td>\n",
       "    </tr>\n",
       "    <tr>\n",
       "      <th>3072</th>\n",
       "      <td>TheStrokes</td>\n",
       "      <td>없음</td>\n",
       "    </tr>\n",
       "  </tbody>\n",
       "</table>\n",
       "</div>"
      ],
      "text/plain": [
       "              이름                                                구독자\n",
       "3068         강영재                                                 없음\n",
       "3069          오수                                                 없음\n",
       "3070         정형주  바이스톰 코리아, Kritter Klub, 무지막지한 막무家네, 해그린달 haegr...\n",
       "3071       sh hb                                                 없음\n",
       "3072  TheStrokes                                                 없음"
      ]
     },
     "execution_count": 3,
     "metadata": {},
     "output_type": "execute_result"
    }
   ],
   "source": [
    "youtuberDf1.tail()"
   ]
  },
  {
   "cell_type": "code",
   "execution_count": 4,
   "metadata": {},
   "outputs": [
    {
     "data": {
      "text/plain": [
       "550"
      ]
     },
     "execution_count": 4,
     "metadata": {},
     "output_type": "execute_result"
    }
   ],
   "source": [
    "youtuberDfNone = youtuberDf1[youtuberDf1['구독자']!='없음']\n",
    "len(youtuberDfNone)"
   ]
  },
  {
   "cell_type": "code",
   "execution_count": 9,
   "metadata": {},
   "outputs": [
    {
     "data": {
      "text/html": [
       "<div>\n",
       "<style scoped>\n",
       "    .dataframe tbody tr th:only-of-type {\n",
       "        vertical-align: middle;\n",
       "    }\n",
       "\n",
       "    .dataframe tbody tr th {\n",
       "        vertical-align: top;\n",
       "    }\n",
       "\n",
       "    .dataframe thead th {\n",
       "        text-align: right;\n",
       "    }\n",
       "</style>\n",
       "<table border=\"1\" class=\"dataframe\">\n",
       "  <thead>\n",
       "    <tr style=\"text-align: right;\">\n",
       "      <th></th>\n",
       "      <th>이름</th>\n",
       "      <th>구독자</th>\n",
       "    </tr>\n",
       "  </thead>\n",
       "  <tbody>\n",
       "    <tr>\n",
       "      <th>0</th>\n",
       "      <td>유준상</td>\n",
       "      <td>사물궁이 잡학지식, 양선수의 온라인PT, 굿메신저, 장삐쭈, 개리형, 20대 버스기...</td>\n",
       "    </tr>\n",
       "    <tr>\n",
       "      <th>1</th>\n",
       "      <td>Amy Kim</td>\n",
       "      <td>에이프롬 ÁFROM, Yoo Jin Kim김유진 미국변호사, 주양JUYANG, 러프...</td>\n",
       "    </tr>\n",
       "    <tr>\n",
       "      <th>2</th>\n",
       "      <td>배 배</td>\n",
       "      <td>소련여자 Soviet girl in Seoul, Doenda된다, 샒의 삶Serim...</td>\n",
       "    </tr>\n",
       "    <tr>\n",
       "      <th>3</th>\n",
       "      <td>안지현</td>\n",
       "      <td>커픽처스, Yuka Kinoshita木下ゆうか, 닥터프렌즈, 소녀의행성GirlsPl...</td>\n",
       "    </tr>\n",
       "    <tr>\n",
       "      <th>4</th>\n",
       "      <td>수지</td>\n",
       "      <td>_노잼봇Nojambot, 수저격, Allure Korea, 유기농 햄치치, 티끌모아...</td>\n",
       "    </tr>\n",
       "  </tbody>\n",
       "</table>\n",
       "</div>"
      ],
      "text/plain": [
       "        이름                                                구독자\n",
       "0      유준상  사물궁이 잡학지식, 양선수의 온라인PT, 굿메신저, 장삐쭈, 개리형, 20대 버스기...\n",
       "1  Amy Kim  에이프롬 ÁFROM, Yoo Jin Kim김유진 미국변호사, 주양JUYANG, 러프...\n",
       "2      배 배  소련여자 Soviet girl in Seoul, Doenda된다, 샒의 삶Serim...\n",
       "3      안지현  커픽처스, Yuka Kinoshita木下ゆうか, 닥터프렌즈, 소녀의행성GirlsPl...\n",
       "4       수지  _노잼봇Nojambot, 수저격, Allure Korea, 유기농 햄치치, 티끌모아..."
      ]
     },
     "execution_count": 9,
     "metadata": {},
     "output_type": "execute_result"
    }
   ],
   "source": [
    "youtuberDfNone = youtuberDfNone.reset_index(drop=True)\n",
    "youtuberDfNone.head()"
   ]
  },
  {
   "cell_type": "markdown",
   "metadata": {},
   "source": [
    "## 구독자 count"
   ]
  },
  {
   "cell_type": "code",
   "execution_count": 15,
   "metadata": {},
   "outputs": [
    {
     "data": {
      "text/plain": [
       "'사물궁이 잡학지식, 양선수의 온라인PT, 굿메신저, 장삐쭈, 개리형, 20대 버스기사 이야기, 킴성태TV, 고니드럼, 백종원의 요리비책, 수상한녀석들, 디렉터 파이, 하우빌드, 비슷해보이즈, 현동명의 공사비 닷컴., 최군TV [무삭제 풀영상], 욘 바인첼, 정기사, 무빅 [Movig], 신세경 sjkuksee, encarTV 엔카티비, 티엔품[TiNPum]의 게임채널, 버블디아, Ripple_S, 창이의일상, battlegrounds sunplay, , '"
      ]
     },
     "execution_count": 15,
     "metadata": {},
     "output_type": "execute_result"
    }
   ],
   "source": [
    "you1 = youtuberDfNone.구독자.to_list()\n",
    "you1[0]"
   ]
  },
  {
   "cell_type": "code",
   "execution_count": 30,
   "metadata": {},
   "outputs": [
    {
     "data": {
      "text/html": [
       "<div>\n",
       "<style scoped>\n",
       "    .dataframe tbody tr th:only-of-type {\n",
       "        vertical-align: middle;\n",
       "    }\n",
       "\n",
       "    .dataframe tbody tr th {\n",
       "        vertical-align: top;\n",
       "    }\n",
       "\n",
       "    .dataframe thead th {\n",
       "        text-align: right;\n",
       "    }\n",
       "</style>\n",
       "<table border=\"1\" class=\"dataframe\">\n",
       "  <thead>\n",
       "    <tr style=\"text-align: right;\">\n",
       "      <th></th>\n",
       "      <th>구독자</th>\n",
       "    </tr>\n",
       "  </thead>\n",
       "  <tbody>\n",
       "    <tr>\n",
       "      <th>0</th>\n",
       "      <td>사물궁이 잡학지식</td>\n",
       "    </tr>\n",
       "    <tr>\n",
       "      <th>1</th>\n",
       "      <td>양선수의 온라인PT</td>\n",
       "    </tr>\n",
       "    <tr>\n",
       "      <th>2</th>\n",
       "      <td>굿메신저</td>\n",
       "    </tr>\n",
       "    <tr>\n",
       "      <th>3</th>\n",
       "      <td>장삐쭈</td>\n",
       "    </tr>\n",
       "    <tr>\n",
       "      <th>4</th>\n",
       "      <td>개리형</td>\n",
       "    </tr>\n",
       "  </tbody>\n",
       "</table>\n",
       "</div>"
      ],
      "text/plain": [
       "          구독자\n",
       "0   사물궁이 잡학지식\n",
       "1  양선수의 온라인PT\n",
       "2        굿메신저\n",
       "3         장삐쭈\n",
       "4         개리형"
      ]
     },
     "execution_count": 30,
     "metadata": {},
     "output_type": "execute_result"
    }
   ],
   "source": [
    "youtuberOne = ', '.join([you for you in you1])\n",
    "youtuberOne = pd.Series(youtuberOne).apply(lambda x: x.split(', '))\n",
    "youtuberOne = pd.DataFrame(youtuberOne[0], columns = ['구독자'])\n",
    "youtuberOne.head()"
   ]
  },
  {
   "cell_type": "code",
   "execution_count": 34,
   "metadata": {},
   "outputs": [],
   "source": [
    "youtuberCount = youtuberOne.구독자.value_counts().reset_index()\n",
    "youtuberCount.to_excel('더마토리_유튜브구독자Count.xlsx')"
   ]
  },
  {
   "cell_type": "code",
   "execution_count": 13,
   "metadata": {},
   "outputs": [
    {
     "data": {
      "text/plain": [
       "0    [사물궁이 잡학지식, 양선수의 온라인PT, 굿메신저, 장삐쭈, 개리형, 20대 버스...\n",
       "1    [에이프롬 ÁFROM, Yoo Jin Kim김유진 미국변호사, 주양JUYANG, 러...\n",
       "2    [소련여자 Soviet girl in Seoul, Doenda된다, 샒의 삶Seri...\n",
       "3    [커픽처스, Yuka Kinoshita木下ゆうか, 닥터프렌즈, 소녀의행성GirlsP...\n",
       "4    [_노잼봇Nojambot, 수저격, Allure Korea, 유기농 햄치치, 티끌모...\n",
       "Name: 구독자, dtype: object"
      ]
     },
     "execution_count": 13,
     "metadata": {},
     "output_type": "execute_result"
    }
   ],
   "source": [
    "## 댓글 단 사람들의 구독자 리스트\n",
    "userList = youtuberDfNone.구독자.apply(lambda x: x.split(', '))\n",
    "userList.head()"
   ]
  },
  {
   "cell_type": "code",
   "execution_count": 37,
   "metadata": {},
   "outputs": [
    {
     "name": "stdout",
     "output_type": "stream",
     "text": [
      "2750\n"
     ]
    }
   ],
   "source": [
    "item_corpus = []\n",
    "\n",
    "for i in userList :\n",
    "    \n",
    "    for j in range(0, 5) :\n",
    "    \n",
    "        item = random.sample(i, len(i))\n",
    "        item_corpus.append(item)\n",
    "    \n",
    "print(len(item_corpus))"
   ]
  },
  {
   "cell_type": "code",
   "execution_count": 39,
   "metadata": {},
   "outputs": [
    {
     "name": "stderr",
     "output_type": "stream",
     "text": [
      "C:\\Users\\Administrator\\Anaconda3\\lib\\site-packages\\gensim\\models\\base_any2vec.py:743: UserWarning: C extension not loaded, training will be slow. Install a C compiler and reinstall gensim for fast training.\n",
      "  \"C extension not loaded, training will be slow. \"\n"
     ]
    },
    {
     "name": "stdout",
     "output_type": "stream",
     "text": [
      "\n",
      " ---------- 429 seconds ----------\n"
     ]
    }
   ],
   "source": [
    "# start time\n",
    "start_time = time.time() \n",
    "\n",
    "model = Word2Vec(item_corpus,         # 리스트 형태의 데이터\n",
    "                 sg=1,         # 0: CBOW, 1: Skip-gram\n",
    "                 size=300,     # 벡터 크기\n",
    "                 window=1,     # 고려할 앞뒤 폭(앞뒤 3단어)\n",
    "                 min_count=5,  # 사용할 단어의 최소 빈도(1회 이하 단어 무시)\n",
    "                 workers=2)    # 동시에 처리할 작업 수(코어 수와 비슷하게 설정)\n",
    "# time check\n",
    "print(\"\\n ---------- %s seconds ----------\" %(round(time.time() - start_time)))"
   ]
  },
  {
   "cell_type": "code",
   "execution_count": 41,
   "metadata": {},
   "outputs": [
    {
     "data": {
      "text/plain": [
       "12427"
      ]
     },
     "execution_count": 41,
     "metadata": {},
     "output_type": "execute_result"
    }
   ],
   "source": [
    "## 전체 학습에 사용된 단어의 개수\n",
    "vocab = list(model.wv.vocab)\n",
    "len(vocab)"
   ]
  },
  {
   "cell_type": "code",
   "execution_count": 49,
   "metadata": {},
   "outputs": [
    {
     "name": "stderr",
     "output_type": "stream",
     "text": [
      "C:\\Users\\Administrator\\Anaconda3\\lib\\site-packages\\ipykernel_launcher.py:3: DeprecationWarning: Call to deprecated `__getitem__` (Method will be removed in 4.0.0, use self.wv.__getitem__() instead).\n",
      "  This is separate from the ipykernel package so we can avoid doing imports until\n"
     ]
    }
   ],
   "source": [
    "## 데이터프레임 저장\n",
    "vocab = list(model.wv.vocab)\n",
    "X = model[vocab]\n",
    "\n",
    "Clustering = pd.DataFrame(X, index = vocab)\n",
    "Clustering.to_csv('더마토리_유튜브_corpus5_size300_min5.csv')"
   ]
  },
  {
   "cell_type": "code",
   "execution_count": 346,
   "metadata": {},
   "outputs": [
    {
     "data": {
      "text/plain": [
       "['',\n",
       " '20대 버스기사 이야기',\n",
       " '킴성태TV',\n",
       " '백종원의 요리비책',\n",
       " '디렉터 파이',\n",
       " '양선수의 온라인PT',\n",
       " '굿메신저',\n",
       " '개리형',\n",
       " '수상한녀석들',\n",
       " '하우빌드',\n",
       " '장삐쭈',\n",
       " '고니드럼',\n",
       " '사물궁이 잡학지식']"
      ]
     },
     "execution_count": 346,
     "metadata": {},
     "output_type": "execute_result"
    }
   ],
   "source": [
    "## 중복제거하는 코드\n",
    "list(set(youtuberList[0][1].split(', ')))"
   ]
  },
  {
   "cell_type": "code",
   "execution_count": null,
   "metadata": {},
   "outputs": [],
   "source": []
  },
  {
   "cell_type": "code",
   "execution_count": null,
   "metadata": {},
   "outputs": [],
   "source": []
  },
  {
   "cell_type": "code",
   "execution_count": null,
   "metadata": {},
   "outputs": [],
   "source": []
  }
 ],
 "metadata": {
  "kernelspec": {
   "display_name": "Python 3",
   "language": "python",
   "name": "python3"
  },
  "language_info": {
   "codemirror_mode": {
    "name": "ipython",
    "version": 3
   },
   "file_extension": ".py",
   "mimetype": "text/x-python",
   "name": "python",
   "nbconvert_exporter": "python",
   "pygments_lexer": "ipython3",
   "version": "3.7.3"
  }
 },
 "nbformat": 4,
 "nbformat_minor": 2
}
