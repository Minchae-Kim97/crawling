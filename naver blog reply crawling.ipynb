{
 "cells": [
  {
   "cell_type": "code",
   "execution_count": 173,
   "metadata": {},
   "outputs": [],
   "source": [
    "from selenium.webdriver import Chrome\n",
    "from selenium.common.exceptions import NoSuchElementException,StaleElementReferenceException, TimeoutException,NoSuchFrameException\n",
    "import time\n",
    "import pandas as pd"
   ]
  },
  {
   "cell_type": "code",
   "execution_count": 2,
   "metadata": {},
   "outputs": [],
   "source": [
    "driver = Chrome()"
   ]
  },
  {
   "cell_type": "code",
   "execution_count": 3,
   "metadata": {},
   "outputs": [],
   "source": [
    "url = 'https://search.naver.com/search.naver?where=post&sm=tab_jum&query=%ED%94%84%EB%A1%9C%EC%95%84%EC%9D%B4%ED%8C%94%EB%A0%88%ED%8A%B8&nso='\n",
    "driver.get(url)"
   ]
  },
  {
   "cell_type": "markdown",
   "metadata": {},
   "source": [
    "## 게시글 url"
   ]
  },
  {
   "cell_type": "code",
   "execution_count": 93,
   "metadata": {},
   "outputs": [],
   "source": [
    "url_list = []\n",
    "title_list = []\n",
    "date_list = []\n",
    "for i in range(1,991,10):\n",
    "    url = 'https://search.naver.com/search.naver?date_from=20190213&date_option=8&date_to=20190801&dup_remove=1&nso=p%3Afrom20190213to20190801&post_blogurl=&post_blogurl_without=&query=%ED%81%B4%EB%A6%AC%EC%98%A4%20%ED%94%84%EB%A1%9C%EC%95%84%EC%9D%B4%ED%8C%94%EB%A0%88%ED%8A%B8&sm=tab_pge&srchby=all&st=sim&where=post&start='+str(i)\n",
    "    driver.get(url) #페이지 접속\n",
    "    \n",
    "    urls = driver.find_elements_by_css_selector('a.url') #게시글 url    \n",
    "    for url in urls:\n",
    "        url_list.append(url.get_attribute('href'))\n",
    "    \n",
    "    titles = driver.find_elements_by_css_selector('a.sh_blog_title._sp_each_url._sp_each_title') #제목\n",
    "    for title in titles:\n",
    "        title_list.append(title.text)\n",
    "    \n",
    "    dates = driver.find_elements_by_css_selector('dd.txt_inline') #날짜\n",
    "    for date in dates:\n",
    "        date_list.append(date.text)"
   ]
  },
  {
   "cell_type": "code",
   "execution_count": 100,
   "metadata": {},
   "outputs": [],
   "source": [
    "tot_list = []\n",
    "tot_list.append([url_list, title_list, date_list])"
   ]
  },
  {
   "cell_type": "code",
   "execution_count": 106,
   "metadata": {},
   "outputs": [
    {
     "data": {
      "text/html": [
       "<div>\n",
       "<style scoped>\n",
       "    .dataframe tbody tr th:only-of-type {\n",
       "        vertical-align: middle;\n",
       "    }\n",
       "\n",
       "    .dataframe tbody tr th {\n",
       "        vertical-align: top;\n",
       "    }\n",
       "\n",
       "    .dataframe thead th {\n",
       "        text-align: right;\n",
       "    }\n",
       "</style>\n",
       "<table border=\"1\" class=\"dataframe\">\n",
       "  <thead>\n",
       "    <tr style=\"text-align: right;\">\n",
       "      <th></th>\n",
       "      <th>url</th>\n",
       "      <th>제목</th>\n",
       "      <th>날짜</th>\n",
       "    </tr>\n",
       "  </thead>\n",
       "  <tbody>\n",
       "    <tr>\n",
       "      <th>0</th>\n",
       "      <td>https://blog.naver.com/lqud?Redirect=Log&amp;logNo...</td>\n",
       "      <td>클리오 프로 아이팔레트 03 코랄 토크 발색 및 후기</td>\n",
       "      <td>2019.04.26.</td>\n",
       "    </tr>\n",
       "    <tr>\n",
       "      <th>1</th>\n",
       "      <td>https://blog.naver.com/youridalbit?Redirect=Lo...</td>\n",
       "      <td>클리오 프로 아이 팔레트 내돈내산 후기, 심플리핑크 아이메이...</td>\n",
       "      <td>2019.03.12.</td>\n",
       "    </tr>\n",
       "    <tr>\n",
       "      <th>2</th>\n",
       "      <td>https://blog.naver.com/ekejaqlsek?Redirect=Log...</td>\n",
       "      <td>쿨톤 인생팔레트, 클리오 프로 아이팔레트 01 심플리핑크</td>\n",
       "      <td>6일 전</td>\n",
       "    </tr>\n",
       "    <tr>\n",
       "      <th>3</th>\n",
       "      <td>https://mythya0730.blog.me/221514170072</td>\n",
       "      <td>클리오 심플리핑크 프로 아이 팔레트 보이면 꼭 사세요! 품절 대란</td>\n",
       "      <td>2019.04.15.</td>\n",
       "    </tr>\n",
       "    <tr>\n",
       "      <th>4</th>\n",
       "      <td>https://blog.naver.com/hoyanim2?Redirect=Log&amp;l...</td>\n",
       "      <td>클리오 프로 아이 팔레트 코랄토크 섀도우 색상 상세후기</td>\n",
       "      <td>2019.04.20.</td>\n",
       "    </tr>\n",
       "  </tbody>\n",
       "</table>\n",
       "</div>"
      ],
      "text/plain": [
       "                                                 url  \\\n",
       "0  https://blog.naver.com/lqud?Redirect=Log&logNo...   \n",
       "1  https://blog.naver.com/youridalbit?Redirect=Lo...   \n",
       "2  https://blog.naver.com/ekejaqlsek?Redirect=Log...   \n",
       "3            https://mythya0730.blog.me/221514170072   \n",
       "4  https://blog.naver.com/hoyanim2?Redirect=Log&l...   \n",
       "\n",
       "                                     제목           날짜  \n",
       "0         클리오 프로 아이팔레트 03 코랄 토크 발색 및 후기  2019.04.26.  \n",
       "1  클리오 프로 아이 팔레트 내돈내산 후기, 심플리핑크 아이메이...  2019.03.12.  \n",
       "2       쿨톤 인생팔레트, 클리오 프로 아이팔레트 01 심플리핑크         6일 전  \n",
       "3  클리오 심플리핑크 프로 아이 팔레트 보이면 꼭 사세요! 품절 대란  2019.04.15.  \n",
       "4        클리오 프로 아이 팔레트 코랄토크 섀도우 색상 상세후기  2019.04.20.  "
      ]
     },
     "execution_count": 106,
     "metadata": {},
     "output_type": "execute_result"
    }
   ],
   "source": [
    "proEye = pd.DataFrame({'url': url_list, '제목': title_list, '날짜': date_list})\n",
    "proEye.head()"
   ]
  },
  {
   "cell_type": "code",
   "execution_count": 112,
   "metadata": {},
   "outputs": [],
   "source": [
    "proEye.to_excel('[클리오] 프로아이팔레트 블로그 후기.xlsx')"
   ]
  },
  {
   "cell_type": "code",
   "execution_count": 113,
   "metadata": {},
   "outputs": [
    {
     "data": {
      "text/html": [
       "<div>\n",
       "<style scoped>\n",
       "    .dataframe tbody tr th:only-of-type {\n",
       "        vertical-align: middle;\n",
       "    }\n",
       "\n",
       "    .dataframe tbody tr th {\n",
       "        vertical-align: top;\n",
       "    }\n",
       "\n",
       "    .dataframe thead th {\n",
       "        text-align: right;\n",
       "    }\n",
       "</style>\n",
       "<table border=\"1\" class=\"dataframe\">\n",
       "  <thead>\n",
       "    <tr style=\"text-align: right;\">\n",
       "      <th></th>\n",
       "      <th>url</th>\n",
       "      <th>제목</th>\n",
       "      <th>날짜</th>\n",
       "    </tr>\n",
       "  </thead>\n",
       "  <tbody>\n",
       "    <tr>\n",
       "      <th>0</th>\n",
       "      <td>https://blog.naver.com/lqud?Redirect=Log&amp;logNo...</td>\n",
       "      <td>클리오 프로 아이팔레트 03 코랄 토크 발색 및 후기</td>\n",
       "      <td>2019.04.26.</td>\n",
       "    </tr>\n",
       "    <tr>\n",
       "      <th>1</th>\n",
       "      <td>https://blog.naver.com/youridalbit?Redirect=Lo...</td>\n",
       "      <td>클리오 프로 아이 팔레트 내돈내산 후기, 심플리핑크 아이메이...</td>\n",
       "      <td>2019.03.12.</td>\n",
       "    </tr>\n",
       "    <tr>\n",
       "      <th>2</th>\n",
       "      <td>https://blog.naver.com/ekejaqlsek?Redirect=Log...</td>\n",
       "      <td>쿨톤 인생팔레트, 클리오 프로 아이팔레트 01 심플리핑크</td>\n",
       "      <td>6일 전</td>\n",
       "    </tr>\n",
       "    <tr>\n",
       "      <th>3</th>\n",
       "      <td>https://mythya0730.blog.me/221514170072</td>\n",
       "      <td>클리오 심플리핑크 프로 아이 팔레트 보이면 꼭 사세요! 품절 대란</td>\n",
       "      <td>2019.04.15.</td>\n",
       "    </tr>\n",
       "    <tr>\n",
       "      <th>4</th>\n",
       "      <td>https://blog.naver.com/hoyanim2?Redirect=Log&amp;l...</td>\n",
       "      <td>클리오 프로 아이 팔레트 코랄토크 섀도우 색상 상세후기</td>\n",
       "      <td>2019.04.20.</td>\n",
       "    </tr>\n",
       "  </tbody>\n",
       "</table>\n",
       "</div>"
      ],
      "text/plain": [
       "                                                 url  \\\n",
       "0  https://blog.naver.com/lqud?Redirect=Log&logNo...   \n",
       "1  https://blog.naver.com/youridalbit?Redirect=Lo...   \n",
       "2  https://blog.naver.com/ekejaqlsek?Redirect=Log...   \n",
       "3            https://mythya0730.blog.me/221514170072   \n",
       "4  https://blog.naver.com/hoyanim2?Redirect=Log&l...   \n",
       "\n",
       "                                     제목           날짜  \n",
       "0         클리오 프로 아이팔레트 03 코랄 토크 발색 및 후기  2019.04.26.  \n",
       "1  클리오 프로 아이 팔레트 내돈내산 후기, 심플리핑크 아이메이...  2019.03.12.  \n",
       "2       쿨톤 인생팔레트, 클리오 프로 아이팔레트 01 심플리핑크         6일 전  \n",
       "3  클리오 심플리핑크 프로 아이 팔레트 보이면 꼭 사세요! 품절 대란  2019.04.15.  \n",
       "4        클리오 프로 아이 팔레트 코랄토크 섀도우 색상 상세후기  2019.04.20.  "
      ]
     },
     "execution_count": 113,
     "metadata": {},
     "output_type": "execute_result"
    }
   ],
   "source": [
    "## 리스트 읽기\n",
    "proEye = pd.read_excel('[클리오] 프로아이팔레트 블로그 후기.xlsx',  index_col=0)\n",
    "proEye.head()"
   ]
  },
  {
   "cell_type": "markdown",
   "metadata": {},
   "source": [
    "## 게시글 긁기"
   ]
  },
  {
   "cell_type": "code",
   "execution_count": 185,
   "metadata": {
    "collapsed": true
   },
   "outputs": [
    {
     "ename": "KeyboardInterrupt",
     "evalue": "",
     "output_type": "error",
     "traceback": [
      "\u001b[1;31m---------------------------------------------------------------------------\u001b[0m",
      "\u001b[1;31mKeyboardInterrupt\u001b[0m                         Traceback (most recent call last)",
      "\u001b[1;32m<ipython-input-185-e0c8af6b1ae6>\u001b[0m in \u001b[0;36m<module>\u001b[1;34m\u001b[0m\n\u001b[0;32m      3\u001b[0m     \u001b[1;32mtry\u001b[0m\u001b[1;33m:\u001b[0m\u001b[1;33m\u001b[0m\u001b[1;33m\u001b[0m\u001b[0m\n\u001b[0;32m      4\u001b[0m         \u001b[0mdriver\u001b[0m\u001b[1;33m.\u001b[0m\u001b[0mget\u001b[0m\u001b[1;33m(\u001b[0m\u001b[0mproEye\u001b[0m\u001b[1;33m.\u001b[0m\u001b[0miloc\u001b[0m\u001b[1;33m[\u001b[0m\u001b[0mi\u001b[0m\u001b[1;33m,\u001b[0m\u001b[1;36m0\u001b[0m\u001b[1;33m]\u001b[0m\u001b[1;33m)\u001b[0m\u001b[1;33m\u001b[0m\u001b[1;33m\u001b[0m\u001b[0m\n\u001b[1;32m----> 5\u001b[1;33m         \u001b[0mtime\u001b[0m\u001b[1;33m.\u001b[0m\u001b[0msleep\u001b[0m\u001b[1;33m(\u001b[0m\u001b[1;36m3\u001b[0m\u001b[1;33m)\u001b[0m\u001b[1;33m\u001b[0m\u001b[1;33m\u001b[0m\u001b[0m\n\u001b[0m\u001b[0;32m      6\u001b[0m \u001b[1;33m\u001b[0m\u001b[0m\n\u001b[0;32m      7\u001b[0m         \u001b[1;31m################# Case 1 ###################\u001b[0m\u001b[1;33m\u001b[0m\u001b[1;33m\u001b[0m\u001b[1;33m\u001b[0m\u001b[0m\n",
      "\u001b[1;31mKeyboardInterrupt\u001b[0m: "
     ]
    }
   ],
   "source": [
    "contents_list = []\n",
    "for i in range(486, len(proEye)):\n",
    "    try:\n",
    "        driver.get(proEye.iloc[i,0])\n",
    "        time.sleep(3)\n",
    "\n",
    "        ################# Case 1 ###################\n",
    "        try:\n",
    "            driver.switch_to.frame('mainFrame')\n",
    "            time.sleep(1.5)\n",
    "            nickname = driver.find_element_by_css_selector('#nickNameArea').text # 닉네임\n",
    "\n",
    "            # 댓글이 있을 경우\n",
    "            try: \n",
    "                replyCount = driver.find_element_by_css_selector('#printPost1 > tbody > tr > td.bcc > div.post-btn.post_btn2 > div.wrap_postcomment > div.area_comment.pcol2').text\n",
    "                try: # 1.공감이 있을 경우\n",
    "                    gongGamCount = driver.find_element_by_css_selector('em.u_cnt._count').text # 공감수\n",
    "                    try: # 댓글이 있을 경우\n",
    "                        driver.find_element_by_css_selector('span.btn_arr').click() # 댓글 더보기 클릭\n",
    "                        time.sleep(2)\n",
    "                        replys = driver.find_elements_by_css_selector('div.u_cbox_area') # 댓글\n",
    "                        reply_text = ' / '.join([ reply.text for reply in replys ])\n",
    "                        contents_list.append((proEye.iloc[i,0],nickname, gongGamCount, replyCount,reply_text))\n",
    "                    except: # 댓글이 없을 경우\n",
    "                        reply_text = '댓글 없음'\n",
    "                        contents_list.append((proEye.iloc[i,0],nickname, gongGamCount, replyCount,reply_text))\n",
    "                except: # 2.공감이 없을 경우\n",
    "                    gongGamCount = '공감 없음'\n",
    "                    try: # 댓글이 있을 경우\n",
    "                        driver.find_element_by_css_selector('span.btn_arr').click() # 댓글 더보기 클릭\n",
    "                        time.sleep(2)\n",
    "                        replys = driver.find_elements_by_css_selector('div.u_cbox_area') # 댓글\n",
    "                        reply_text = ' / '.join([ reply.text for reply in replys ])\n",
    "                        contents_list.append((proEye.iloc[i,0],nickname, gongGamCount, replyCount,reply_text))\n",
    "                    except: # 댓글이 없을 경우\n",
    "                        reply_text = '댓글 없음'\n",
    "                        contents_list.append((proEye.iloc[i,0],nickname, gongGamCount, replyCount,reply_text))\n",
    "\n",
    "            # 댓글이 없을 경우\n",
    "            except:\n",
    "                replyCount = '댓글 없음'\n",
    "                reply_text = '댓글 없음'\n",
    "                try: # 1.공감이 있을 경우\n",
    "                    gongGamCount = driver.find_element_by_css_selector('em.u_cnt._count').text # 공감수               \n",
    "                    contents_list.append((proEye.iloc[i,0],nickname, gongGamCount, replyCount,reply_text))           \n",
    "                except: # 2.공감이 없을 경우\n",
    "                    gongGamCount = '공감 없음'\n",
    "                    contents_list.append((proEye.iloc[i,0],nickname, gongGamCount, replyCount,reply_text))  \n",
    "\n",
    "        ################# Case 2 ###################        \n",
    "        except NoSuchFrameException:\n",
    "            pass\n",
    "\n",
    "        ################ Case 3 ####################\n",
    "        except:\n",
    "            driver.switch_to.frame('screenFrame')\n",
    "            driver.switch_to.frame('mainFrame')\n",
    "            time.sleep(1.5)        \n",
    "\n",
    "            nickname = driver.find_element_by_css_selector('#nickNameArea').text # 닉네임\n",
    "\n",
    "            # 댓글이 있을 경우\n",
    "            try: \n",
    "                replyCount = driver.find_element_by_css_selector('#printPost1 > tbody > tr > td.bcc > div.post-btn.post_btn2 > div.wrap_postcomment > div.area_comment.pcol2').text\n",
    "                try: # 1.공감이 있을 경우\n",
    "                    gongGamCount = driver.find_element_by_css_selector('em.u_cnt._count').text # 공감수\n",
    "                    try: # 댓글이 있을 경우\n",
    "                        driver.find_element_by_css_selector('span.btn_arr').click() # 댓글 더보기 클릭\n",
    "                        time.sleep(2)\n",
    "                        replys = driver.find_elements_by_css_selector('div.u_cbox_area') # 댓글\n",
    "                        reply_text = ' / '.join([ reply.text for reply in replys ])\n",
    "                        contents_list.append((proEye.iloc[i,0],nickname, gongGamCount, replyCount,reply_text))\n",
    "                    except: # 댓글이 없을 경우\n",
    "                        reply_text = '댓글 없음'\n",
    "                        contents_list.append((proEye.iloc[i,0],nickname, gongGamCount, replyCount,reply_text))\n",
    "                except: # 2.공감이 없을 경우\n",
    "                    gongGamCount = '공감 없음'\n",
    "                    try: # 댓글이 있을 경우\n",
    "                        driver.find_element_by_css_selector('span.btn_arr').click() # 댓글 더보기 클릭\n",
    "                        time.sleep(2)\n",
    "                        replys = driver.find_elements_by_css_selector('div.u_cbox_area') # 댓글\n",
    "                        reply_text = ' / '.join([ reply.text for reply in replys ])\n",
    "                        contents_list.append((proEye.iloc[i,0],nickname, gongGamCount, replyCount,reply_text))\n",
    "                    except: # 댓글이 없을 경우\n",
    "                        reply_text = '댓글 없음'\n",
    "                        contents_list.append((proEye.iloc[i,0],nickname, gongGamCount, replyCount,reply_text))\n",
    "\n",
    "            # 댓글이 없을 경우\n",
    "            except:\n",
    "                replyCount = '댓글 없음'\n",
    "                reply_text = '댓글 없음'\n",
    "                try: # 1.공감이 있을 경우\n",
    "                    gongGamCount = driver.find_element_by_css_selector('em.u_cnt._count').text # 공감수               \n",
    "                    contents_list.append((proEye.iloc[i,0],nickname, gongGamCount, replyCount,reply_text))           \n",
    "                except: # 2.공감이 없을 경우\n",
    "                    gongGamCount = '공감 없음'\n",
    "                    contents_list.append((proEye.iloc[i,0],nickname, gongGamCount, replyCount,reply_text))  \n",
    "    except TimeoutException:\n",
    "        pass"
   ]
  },
  {
   "cell_type": "code",
   "execution_count": 186,
   "metadata": {},
   "outputs": [
    {
     "data": {
      "text/plain": [
       "328"
      ]
     },
     "execution_count": 186,
     "metadata": {},
     "output_type": "execute_result"
    }
   ],
   "source": [
    "len(contents_list)"
   ]
  },
  {
   "cell_type": "code",
   "execution_count": 187,
   "metadata": {},
   "outputs": [
    {
     "data": {
      "text/plain": [
       "('https://blog.naver.com/fastlane1301?Redirect=Log&logNo=221598830091',\n",
       " '츄츄트레인',\n",
       " '0',\n",
       " '댓글쓰기',\n",
       " '')"
      ]
     },
     "execution_count": 187,
     "metadata": {},
     "output_type": "execute_result"
    }
   ],
   "source": [
    "contents_list[327]"
   ]
  },
  {
   "cell_type": "code",
   "execution_count": 188,
   "metadata": {},
   "outputs": [
    {
     "data": {
      "text/html": [
       "<div>\n",
       "<style scoped>\n",
       "    .dataframe tbody tr th:only-of-type {\n",
       "        vertical-align: middle;\n",
       "    }\n",
       "\n",
       "    .dataframe tbody tr th {\n",
       "        vertical-align: top;\n",
       "    }\n",
       "\n",
       "    .dataframe thead th {\n",
       "        text-align: right;\n",
       "    }\n",
       "</style>\n",
       "<table border=\"1\" class=\"dataframe\">\n",
       "  <thead>\n",
       "    <tr style=\"text-align: right;\">\n",
       "      <th></th>\n",
       "      <th>url</th>\n",
       "      <th>제목</th>\n",
       "      <th>날짜</th>\n",
       "    </tr>\n",
       "  </thead>\n",
       "  <tbody>\n",
       "    <tr>\n",
       "      <th>886</th>\n",
       "      <td>https://blog.naver.com/fastlane1301?Redirect=L...</td>\n",
       "      <td>[쿠팡] [뷰티] 클리오 프로 아이 팔레트, 2호 브라운슈, 1개</td>\n",
       "      <td>3일 전</td>\n",
       "    </tr>\n",
       "  </tbody>\n",
       "</table>\n",
       "</div>"
      ],
      "text/plain": [
       "                                                   url  \\\n",
       "886  https://blog.naver.com/fastlane1301?Redirect=L...   \n",
       "\n",
       "                                       제목    날짜  \n",
       "886  [쿠팡] [뷰티] 클리오 프로 아이 팔레트, 2호 브라운슈, 1개  3일 전  "
      ]
     },
     "execution_count": 188,
     "metadata": {},
     "output_type": "execute_result"
    }
   ],
   "source": [
    "proEye[proEye['url']=='https://blog.naver.com/fastlane1301?Redirect=Log&logNo=221598830091']"
   ]
  },
  {
   "cell_type": "code",
   "execution_count": 189,
   "metadata": {
    "scrolled": true
   },
   "outputs": [
    {
     "data": {
      "text/html": [
       "<div>\n",
       "<style scoped>\n",
       "    .dataframe tbody tr th:only-of-type {\n",
       "        vertical-align: middle;\n",
       "    }\n",
       "\n",
       "    .dataframe tbody tr th {\n",
       "        vertical-align: top;\n",
       "    }\n",
       "\n",
       "    .dataframe thead th {\n",
       "        text-align: right;\n",
       "    }\n",
       "</style>\n",
       "<table border=\"1\" class=\"dataframe\">\n",
       "  <thead>\n",
       "    <tr style=\"text-align: right;\">\n",
       "      <th></th>\n",
       "      <th>url</th>\n",
       "      <th>닉네임</th>\n",
       "      <th>공감수</th>\n",
       "      <th>댓글수</th>\n",
       "      <th>댓글</th>\n",
       "    </tr>\n",
       "  </thead>\n",
       "  <tbody>\n",
       "    <tr>\n",
       "      <th>0</th>\n",
       "      <td>https://blog.naver.com/supersy_1?Redirect=Log&amp;...</td>\n",
       "      <td>켈리엄</td>\n",
       "      <td>30</td>\n",
       "      <td>댓글 16</td>\n",
       "      <td>댓글이 삭제되었습니다. / 비밀 댓글입니다.\\n2019.3.29. 12:49 / 비...</td>\n",
       "    </tr>\n",
       "    <tr>\n",
       "      <th>1</th>\n",
       "      <td>https://blog.naver.com/mane7256?Redirect=Log&amp;l...</td>\n",
       "      <td>마내</td>\n",
       "      <td>28</td>\n",
       "      <td>댓글 2</td>\n",
       "      <td>동동이데디\\n잘보고갑니다 ~^^ 즐거운하루되세요 ~^^\\n2019.5.27. 04:...</td>\n",
       "    </tr>\n",
       "    <tr>\n",
       "      <th>2</th>\n",
       "      <td>https://blog.naver.com/sunchorong?Redirect=Log...</td>\n",
       "      <td>도토리</td>\n",
       "      <td>5</td>\n",
       "      <td>댓글쓰기</td>\n",
       "      <td></td>\n",
       "    </tr>\n",
       "    <tr>\n",
       "      <th>3</th>\n",
       "      <td>https://blog.naver.com/urbane1027?Redirect=Log...</td>\n",
       "      <td>Imblackbaby</td>\n",
       "      <td>6</td>\n",
       "      <td>댓글 2</td>\n",
       "      <td>비밀 댓글입니다.\\n2019.3.5. 00:15 / 비밀 댓글입니다.\\n2019.3...</td>\n",
       "    </tr>\n",
       "    <tr>\n",
       "      <th>4</th>\n",
       "      <td>https://blog.naver.com/corudtmdfl1998?Redirect...</td>\n",
       "      <td>채롱</td>\n",
       "      <td>2</td>\n",
       "      <td>댓글쓰기</td>\n",
       "      <td></td>\n",
       "    </tr>\n",
       "  </tbody>\n",
       "</table>\n",
       "</div>"
      ],
      "text/plain": [
       "                                                 url          닉네임 공감수    댓글수  \\\n",
       "0  https://blog.naver.com/supersy_1?Redirect=Log&...          켈리엄  30  댓글 16   \n",
       "1  https://blog.naver.com/mane7256?Redirect=Log&l...           마내  28   댓글 2   \n",
       "2  https://blog.naver.com/sunchorong?Redirect=Log...          도토리   5   댓글쓰기   \n",
       "3  https://blog.naver.com/urbane1027?Redirect=Log...  Imblackbaby   6   댓글 2   \n",
       "4  https://blog.naver.com/corudtmdfl1998?Redirect...           채롱   2   댓글쓰기   \n",
       "\n",
       "                                                  댓글  \n",
       "0  댓글이 삭제되었습니다. / 비밀 댓글입니다.\\n2019.3.29. 12:49 / 비...  \n",
       "1  동동이데디\\n잘보고갑니다 ~^^ 즐거운하루되세요 ~^^\\n2019.5.27. 04:...  \n",
       "2                                                     \n",
       "3  비밀 댓글입니다.\\n2019.3.5. 00:15 / 비밀 댓글입니다.\\n2019.3...  \n",
       "4                                                     "
      ]
     },
     "execution_count": 189,
     "metadata": {},
     "output_type": "execute_result"
    }
   ],
   "source": [
    "con = pd.DataFrame(contents_list, columns = ['url', '닉네임', '공감수', '댓글수', '댓글'])\n",
    "con.head()"
   ]
  },
  {
   "cell_type": "code",
   "execution_count": 190,
   "metadata": {},
   "outputs": [],
   "source": [
    "con.to_excel('프로아이팔레트478_886.xlsx')"
   ]
  },
  {
   "cell_type": "code",
   "execution_count": null,
   "metadata": {},
   "outputs": [],
   "source": []
  },
  {
   "cell_type": "code",
   "execution_count": null,
   "metadata": {},
   "outputs": [],
   "source": []
  },
  {
   "cell_type": "code",
   "execution_count": null,
   "metadata": {},
   "outputs": [],
   "source": []
  },
  {
   "cell_type": "code",
   "execution_count": null,
   "metadata": {},
   "outputs": [],
   "source": []
  },
  {
   "cell_type": "code",
   "execution_count": null,
   "metadata": {},
   "outputs": [],
   "source": []
  },
  {
   "cell_type": "code",
   "execution_count": null,
   "metadata": {},
   "outputs": [],
   "source": []
  },
  {
   "cell_type": "code",
   "execution_count": null,
   "metadata": {},
   "outputs": [],
   "source": []
  }
 ],
 "metadata": {
  "kernelspec": {
   "display_name": "Python 3",
   "language": "python",
   "name": "python3"
  },
  "language_info": {
   "codemirror_mode": {
    "name": "ipython",
    "version": 3
   },
   "file_extension": ".py",
   "mimetype": "text/x-python",
   "name": "python",
   "nbconvert_exporter": "python",
   "pygments_lexer": "ipython3",
   "version": "3.7.3"
  }
 },
 "nbformat": 4,
 "nbformat_minor": 2
}
