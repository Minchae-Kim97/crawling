{
 "cells": [
  {
   "cell_type": "code",
   "execution_count": 1,
   "metadata": {},
   "outputs": [],
   "source": [
    "from selenium.webdriver import Chrome\n",
    "from selenium.common.exceptions import NoSuchElementException,StaleElementReferenceException, TimeoutException,NoSuchFrameException, WebDriverException, UnexpectedAlertPresentException\n",
    "import time\n",
    "import pandas as pd\n",
    "from tqdm.notebook import tqdm\n",
    "import numpy as np"
   ]
  },
  {
   "cell_type": "code",
   "execution_count": 3,
   "metadata": {
    "scrolled": true
   },
   "outputs": [
    {
     "data": {
      "text/html": [
       "<div>\n",
       "<style scoped>\n",
       "    .dataframe tbody tr th:only-of-type {\n",
       "        vertical-align: middle;\n",
       "    }\n",
       "\n",
       "    .dataframe tbody tr th {\n",
       "        vertical-align: top;\n",
       "    }\n",
       "\n",
       "    .dataframe thead th {\n",
       "        text-align: right;\n",
       "    }\n",
       "</style>\n",
       "<table border=\"1\" class=\"dataframe\">\n",
       "  <thead>\n",
       "    <tr style=\"text-align: right;\">\n",
       "      <th></th>\n",
       "      <th>대카테고리</th>\n",
       "      <th>카테고리</th>\n",
       "    </tr>\n",
       "  </thead>\n",
       "  <tbody>\n",
       "    <tr>\n",
       "      <th>0</th>\n",
       "      <td>기초 화장품</td>\n",
       "      <td>기초 화장품 세트</td>\n",
       "    </tr>\n",
       "    <tr>\n",
       "      <th>1</th>\n",
       "      <td>기초 화장품</td>\n",
       "      <td>마스크팩</td>\n",
       "    </tr>\n",
       "    <tr>\n",
       "      <th>2</th>\n",
       "      <td>기초 화장품</td>\n",
       "      <td>비누</td>\n",
       "    </tr>\n",
       "    <tr>\n",
       "      <th>3</th>\n",
       "      <td>기초 화장품</td>\n",
       "      <td>선크림</td>\n",
       "    </tr>\n",
       "    <tr>\n",
       "      <th>4</th>\n",
       "      <td>기초 화장품</td>\n",
       "      <td>세럼</td>\n",
       "    </tr>\n",
       "  </tbody>\n",
       "</table>\n",
       "</div>"
      ],
      "text/plain": [
       "    대카테고리       카테고리\n",
       "0  기초 화장품  기초 화장품 세트\n",
       "1  기초 화장품       마스크팩\n",
       "2  기초 화장품         비누\n",
       "3  기초 화장품        선크림\n",
       "4  기초 화장품         세럼"
      ]
     },
     "execution_count": 3,
     "metadata": {},
     "output_type": "execute_result"
    }
   ],
   "source": [
    "ca = pd.read_excel('1_이미용_카테고리2.xlsx')\n",
    "ca.head()"
   ]
  },
  {
   "cell_type": "code",
   "execution_count": 2,
   "metadata": {},
   "outputs": [],
   "source": [
    "# path 설정\n",
    "driver = Chrome('C:/Users/User/공공 빅데이터 인턴십_공영홈쇼핑/chromedriver.exe')"
   ]
  },
  {
   "cell_type": "markdown",
   "metadata": {},
   "source": [
    "## 1. 블로그 포스트 url"
   ]
  },
  {
   "cell_type": "code",
   "execution_count": 5,
   "metadata": {},
   "outputs": [],
   "source": [
    "url_list = []\n",
    "def get_url_list(category_input):    \n",
    "    # page\n",
    "    for page_num_input in tqdm(range(1,1001, 10)):\n",
    "        url = 'https://search.naver.com/search.naver?date_from=20190101&date_option=8&date_to=20200930&dup_remove=1&nso=p%3Afrom20190101to20200930&post_blogurl=&post_blogurl_without=&query={category}&sm=tab_pge&srchby=all&st=sim&where=post&start={page_num}'.format(category = category_input, page_num = page_num_input)\n",
    "        driver.get(url)\n",
    "        time.sleep(1)\n",
    "        \n",
    "        # 블로그 포스트 url 저장\n",
    "        blog_post_url = driver.find_elements_by_class_name('sh_blog_title._sp_each_url._sp_each_title')\n",
    "        for blog_post in blog_post_url:\n",
    "            url_list.append([category_input, blog_post.text, blog_post.get_attribute('href')])"
   ]
  },
  {
   "cell_type": "code",
   "execution_count": 6,
   "metadata": {
    "scrolled": true
   },
   "outputs": [
    {
     "data": {
      "application/vnd.jupyter.widget-view+json": {
       "model_id": "81d326caf85640ba984a3cb254ddc90e",
       "version_major": 2,
       "version_minor": 0
      },
      "text/plain": [
       "HBox(children=(FloatProgress(value=0.0, max=17.0), HTML(value='')))"
      ]
     },
     "metadata": {},
     "output_type": "display_data"
    },
    {
     "data": {
      "application/vnd.jupyter.widget-view+json": {
       "model_id": "73908d5b7eb64cf6aeddb159e40893ce",
       "version_major": 2,
       "version_minor": 0
      },
      "text/plain": [
       "HBox(children=(FloatProgress(value=0.0), HTML(value='')))"
      ]
     },
     "metadata": {},
     "output_type": "display_data"
    },
    {
     "name": "stdout",
     "output_type": "stream",
     "text": [
      "\n"
     ]
    },
    {
     "data": {
      "application/vnd.jupyter.widget-view+json": {
       "model_id": "95927573284e41a2ac0638186165486a",
       "version_major": 2,
       "version_minor": 0
      },
      "text/plain": [
       "HBox(children=(FloatProgress(value=0.0), HTML(value='')))"
      ]
     },
     "metadata": {},
     "output_type": "display_data"
    },
    {
     "name": "stdout",
     "output_type": "stream",
     "text": [
      "\n"
     ]
    },
    {
     "data": {
      "application/vnd.jupyter.widget-view+json": {
       "model_id": "d9af1c85a1e14e6491d699f18ac456f3",
       "version_major": 2,
       "version_minor": 0
      },
      "text/plain": [
       "HBox(children=(FloatProgress(value=0.0), HTML(value='')))"
      ]
     },
     "metadata": {},
     "output_type": "display_data"
    },
    {
     "name": "stdout",
     "output_type": "stream",
     "text": [
      "\n"
     ]
    },
    {
     "data": {
      "application/vnd.jupyter.widget-view+json": {
       "model_id": "7468f2df91384a49bd41d7a336504427",
       "version_major": 2,
       "version_minor": 0
      },
      "text/plain": [
       "HBox(children=(FloatProgress(value=0.0), HTML(value='')))"
      ]
     },
     "metadata": {},
     "output_type": "display_data"
    },
    {
     "name": "stdout",
     "output_type": "stream",
     "text": [
      "\n"
     ]
    },
    {
     "data": {
      "application/vnd.jupyter.widget-view+json": {
       "model_id": "a3107ab3603d47ee9d0139ab84fe3fa5",
       "version_major": 2,
       "version_minor": 0
      },
      "text/plain": [
       "HBox(children=(FloatProgress(value=0.0), HTML(value='')))"
      ]
     },
     "metadata": {},
     "output_type": "display_data"
    },
    {
     "name": "stdout",
     "output_type": "stream",
     "text": [
      "\n"
     ]
    },
    {
     "data": {
      "application/vnd.jupyter.widget-view+json": {
       "model_id": "982ad91a1cf4473d9ff01bbce794ff25",
       "version_major": 2,
       "version_minor": 0
      },
      "text/plain": [
       "HBox(children=(FloatProgress(value=0.0), HTML(value='')))"
      ]
     },
     "metadata": {},
     "output_type": "display_data"
    },
    {
     "name": "stdout",
     "output_type": "stream",
     "text": [
      "\n"
     ]
    },
    {
     "data": {
      "application/vnd.jupyter.widget-view+json": {
       "model_id": "b8adac6b0d544b97b66d5f6096be6545",
       "version_major": 2,
       "version_minor": 0
      },
      "text/plain": [
       "HBox(children=(FloatProgress(value=0.0), HTML(value='')))"
      ]
     },
     "metadata": {},
     "output_type": "display_data"
    },
    {
     "name": "stdout",
     "output_type": "stream",
     "text": [
      "\n"
     ]
    },
    {
     "data": {
      "application/vnd.jupyter.widget-view+json": {
       "model_id": "f455c40266cc4b0f9d4eb1b38f05c757",
       "version_major": 2,
       "version_minor": 0
      },
      "text/plain": [
       "HBox(children=(FloatProgress(value=0.0), HTML(value='')))"
      ]
     },
     "metadata": {},
     "output_type": "display_data"
    },
    {
     "name": "stdout",
     "output_type": "stream",
     "text": [
      "\n"
     ]
    },
    {
     "data": {
      "application/vnd.jupyter.widget-view+json": {
       "model_id": "7398f7c2761842aba6f93dd9afcc24c5",
       "version_major": 2,
       "version_minor": 0
      },
      "text/plain": [
       "HBox(children=(FloatProgress(value=0.0), HTML(value='')))"
      ]
     },
     "metadata": {},
     "output_type": "display_data"
    },
    {
     "name": "stdout",
     "output_type": "stream",
     "text": [
      "\n"
     ]
    },
    {
     "data": {
      "application/vnd.jupyter.widget-view+json": {
       "model_id": "a4e7251f643b4369a641609d6edde39e",
       "version_major": 2,
       "version_minor": 0
      },
      "text/plain": [
       "HBox(children=(FloatProgress(value=0.0), HTML(value='')))"
      ]
     },
     "metadata": {},
     "output_type": "display_data"
    },
    {
     "name": "stdout",
     "output_type": "stream",
     "text": [
      "\n"
     ]
    },
    {
     "data": {
      "application/vnd.jupyter.widget-view+json": {
       "model_id": "41b64a083918488a948b3f87710ef1cd",
       "version_major": 2,
       "version_minor": 0
      },
      "text/plain": [
       "HBox(children=(FloatProgress(value=0.0), HTML(value='')))"
      ]
     },
     "metadata": {},
     "output_type": "display_data"
    },
    {
     "name": "stdout",
     "output_type": "stream",
     "text": [
      "\n"
     ]
    },
    {
     "data": {
      "application/vnd.jupyter.widget-view+json": {
       "model_id": "d812e135a63a4281abdec5c1466a4ecf",
       "version_major": 2,
       "version_minor": 0
      },
      "text/plain": [
       "HBox(children=(FloatProgress(value=0.0), HTML(value='')))"
      ]
     },
     "metadata": {},
     "output_type": "display_data"
    },
    {
     "name": "stdout",
     "output_type": "stream",
     "text": [
      "\n"
     ]
    },
    {
     "data": {
      "application/vnd.jupyter.widget-view+json": {
       "model_id": "d3c2837227e84527995f73100e8e8947",
       "version_major": 2,
       "version_minor": 0
      },
      "text/plain": [
       "HBox(children=(FloatProgress(value=0.0), HTML(value='')))"
      ]
     },
     "metadata": {},
     "output_type": "display_data"
    },
    {
     "name": "stdout",
     "output_type": "stream",
     "text": [
      "\n"
     ]
    },
    {
     "data": {
      "application/vnd.jupyter.widget-view+json": {
       "model_id": "a148b246156047c8b90b5cfd45cc56e3",
       "version_major": 2,
       "version_minor": 0
      },
      "text/plain": [
       "HBox(children=(FloatProgress(value=0.0), HTML(value='')))"
      ]
     },
     "metadata": {},
     "output_type": "display_data"
    },
    {
     "name": "stdout",
     "output_type": "stream",
     "text": [
      "\n"
     ]
    },
    {
     "data": {
      "application/vnd.jupyter.widget-view+json": {
       "model_id": "720082d71bf843e0a7a2d64ecedd2f41",
       "version_major": 2,
       "version_minor": 0
      },
      "text/plain": [
       "HBox(children=(FloatProgress(value=0.0), HTML(value='')))"
      ]
     },
     "metadata": {},
     "output_type": "display_data"
    },
    {
     "name": "stdout",
     "output_type": "stream",
     "text": [
      "\n"
     ]
    },
    {
     "data": {
      "application/vnd.jupyter.widget-view+json": {
       "model_id": "22ea21f4d7284094883db8c37aebbcab",
       "version_major": 2,
       "version_minor": 0
      },
      "text/plain": [
       "HBox(children=(FloatProgress(value=0.0), HTML(value='')))"
      ]
     },
     "metadata": {},
     "output_type": "display_data"
    },
    {
     "name": "stdout",
     "output_type": "stream",
     "text": [
      "\n"
     ]
    },
    {
     "data": {
      "application/vnd.jupyter.widget-view+json": {
       "model_id": "ce06627232b24b44a08b27cdd0ff19ad",
       "version_major": 2,
       "version_minor": 0
      },
      "text/plain": [
       "HBox(children=(FloatProgress(value=0.0), HTML(value='')))"
      ]
     },
     "metadata": {},
     "output_type": "display_data"
    },
    {
     "name": "stdout",
     "output_type": "stream",
     "text": [
      "\n",
      "\n"
     ]
    }
   ],
   "source": [
    "from tqdm.notebook import tqdm\n",
    "\n",
    "for category in tqdm(ca['카테고리']):\n",
    "    get_url_list(category)"
   ]
  },
  {
   "cell_type": "code",
   "execution_count": 7,
   "metadata": {},
   "outputs": [
    {
     "data": {
      "text/plain": [
       "17000"
      ]
     },
     "execution_count": 7,
     "metadata": {},
     "output_type": "execute_result"
    }
   ],
   "source": [
    "blog_info = pd.DataFrame(url_list, columns = ['카테고리','제목', '링크'])\n",
    "len(blog_info)"
   ]
  },
  {
   "cell_type": "code",
   "execution_count": 8,
   "metadata": {},
   "outputs": [],
   "source": [
    "blog_info.to_excel('1_트렌드분석_블로그url2.xlsx', index = False)"
   ]
  },
  {
   "cell_type": "markdown",
   "metadata": {},
   "source": [
    "## 2. url접속 -> 내용 크롤링"
   ]
  },
  {
   "cell_type": "code",
   "execution_count": 4,
   "metadata": {},
   "outputs": [
    {
     "data": {
      "text/html": [
       "<div>\n",
       "<style scoped>\n",
       "    .dataframe tbody tr th:only-of-type {\n",
       "        vertical-align: middle;\n",
       "    }\n",
       "\n",
       "    .dataframe tbody tr th {\n",
       "        vertical-align: top;\n",
       "    }\n",
       "\n",
       "    .dataframe thead th {\n",
       "        text-align: right;\n",
       "    }\n",
       "</style>\n",
       "<table border=\"1\" class=\"dataframe\">\n",
       "  <thead>\n",
       "    <tr style=\"text-align: right;\">\n",
       "      <th></th>\n",
       "      <th>카테고리</th>\n",
       "      <th>제목</th>\n",
       "      <th>링크</th>\n",
       "    </tr>\n",
       "  </thead>\n",
       "  <tbody>\n",
       "    <tr>\n",
       "      <th>0</th>\n",
       "      <td>기초 화장품 세트</td>\n",
       "      <td>미스랩 갈락토미세스 기초화장품세트 할머니도 만족하셔요!</td>\n",
       "      <td>https://blog.naver.com/ik0726?Redirect=Log&amp;log...</td>\n",
       "    </tr>\n",
       "    <tr>\n",
       "      <th>1</th>\n",
       "      <td>기초 화장품 세트</td>\n",
       "      <td>기초화장품 세트 순하고 생기있어보여요</td>\n",
       "      <td>https://blog.naver.com/blood1226?Redirect=Log&amp;...</td>\n",
       "    </tr>\n",
       "    <tr>\n",
       "      <th>2</th>\n",
       "      <td>기초 화장품 세트</td>\n",
       "      <td>남자기초화장품 세트제품으로 한방에 관리</td>\n",
       "      <td>https://blog.naver.com/lsi9094?Redirect=Log&amp;lo...</td>\n",
       "    </tr>\n",
       "    <tr>\n",
       "      <th>3</th>\n",
       "      <td>기초 화장품 세트</td>\n",
       "      <td>기초화장품 내 피부에 딱 맞게 물들임 세트로 골랐어요</td>\n",
       "      <td>https://blog.naver.com/greenjbee?Redirect=Log&amp;...</td>\n",
       "    </tr>\n",
       "    <tr>\n",
       "      <th>4</th>\n",
       "      <td>기초 화장품 세트</td>\n",
       "      <td>기초화장품세트 건조함도 끄떡없지</td>\n",
       "      <td>https://kanalia250.blog.me/222098278149</td>\n",
       "    </tr>\n",
       "  </tbody>\n",
       "</table>\n",
       "</div>"
      ],
      "text/plain": [
       "        카테고리                              제목  \\\n",
       "0  기초 화장품 세트  미스랩 갈락토미세스 기초화장품세트 할머니도 만족하셔요!   \n",
       "1  기초 화장품 세트            기초화장품 세트 순하고 생기있어보여요   \n",
       "2  기초 화장품 세트           남자기초화장품 세트제품으로 한방에 관리   \n",
       "3  기초 화장품 세트   기초화장품 내 피부에 딱 맞게 물들임 세트로 골랐어요   \n",
       "4  기초 화장품 세트               기초화장품세트 건조함도 끄떡없지   \n",
       "\n",
       "                                                  링크  \n",
       "0  https://blog.naver.com/ik0726?Redirect=Log&log...  \n",
       "1  https://blog.naver.com/blood1226?Redirect=Log&...  \n",
       "2  https://blog.naver.com/lsi9094?Redirect=Log&lo...  \n",
       "3  https://blog.naver.com/greenjbee?Redirect=Log&...  \n",
       "4            https://kanalia250.blog.me/222098278149  "
      ]
     },
     "execution_count": 4,
     "metadata": {},
     "output_type": "execute_result"
    }
   ],
   "source": [
    "blog_info = pd.read_excel('1_트렌드분석_블로그url2.xlsx')\n",
    "blog_info.head()"
   ]
  },
  {
   "cell_type": "code",
   "execution_count": 5,
   "metadata": {},
   "outputs": [
    {
     "data": {
      "text/html": [
       "<div>\n",
       "<style scoped>\n",
       "    .dataframe tbody tr th:only-of-type {\n",
       "        vertical-align: middle;\n",
       "    }\n",
       "\n",
       "    .dataframe tbody tr th {\n",
       "        vertical-align: top;\n",
       "    }\n",
       "\n",
       "    .dataframe thead th {\n",
       "        text-align: right;\n",
       "    }\n",
       "</style>\n",
       "<table border=\"1\" class=\"dataframe\">\n",
       "  <thead>\n",
       "    <tr style=\"text-align: right;\">\n",
       "      <th></th>\n",
       "      <th>카테고리</th>\n",
       "      <th>제목</th>\n",
       "      <th>링크</th>\n",
       "      <th>내용</th>\n",
       "      <th>날짜</th>\n",
       "    </tr>\n",
       "  </thead>\n",
       "  <tbody>\n",
       "    <tr>\n",
       "      <th>0</th>\n",
       "      <td>기초 화장품 세트</td>\n",
       "      <td>미스랩 갈락토미세스 기초화장품세트 할머니도 만족하셔요!</td>\n",
       "      <td>https://blog.naver.com/ik0726?Redirect=Log&amp;log...</td>\n",
       "      <td>NaN</td>\n",
       "      <td>NaN</td>\n",
       "    </tr>\n",
       "    <tr>\n",
       "      <th>1</th>\n",
       "      <td>기초 화장품 세트</td>\n",
       "      <td>기초화장품 세트 순하고 생기있어보여요</td>\n",
       "      <td>https://blog.naver.com/blood1226?Redirect=Log&amp;...</td>\n",
       "      <td>NaN</td>\n",
       "      <td>NaN</td>\n",
       "    </tr>\n",
       "    <tr>\n",
       "      <th>2</th>\n",
       "      <td>기초 화장품 세트</td>\n",
       "      <td>남자기초화장품 세트제품으로 한방에 관리</td>\n",
       "      <td>https://blog.naver.com/lsi9094?Redirect=Log&amp;lo...</td>\n",
       "      <td>NaN</td>\n",
       "      <td>NaN</td>\n",
       "    </tr>\n",
       "    <tr>\n",
       "      <th>3</th>\n",
       "      <td>기초 화장품 세트</td>\n",
       "      <td>기초화장품 내 피부에 딱 맞게 물들임 세트로 골랐어요</td>\n",
       "      <td>https://blog.naver.com/greenjbee?Redirect=Log&amp;...</td>\n",
       "      <td>NaN</td>\n",
       "      <td>NaN</td>\n",
       "    </tr>\n",
       "    <tr>\n",
       "      <th>4</th>\n",
       "      <td>기초 화장품 세트</td>\n",
       "      <td>기초화장품세트 건조함도 끄떡없지</td>\n",
       "      <td>https://kanalia250.blog.me/222098278149</td>\n",
       "      <td>NaN</td>\n",
       "      <td>NaN</td>\n",
       "    </tr>\n",
       "  </tbody>\n",
       "</table>\n",
       "</div>"
      ],
      "text/plain": [
       "        카테고리                              제목  \\\n",
       "0  기초 화장품 세트  미스랩 갈락토미세스 기초화장품세트 할머니도 만족하셔요!   \n",
       "1  기초 화장품 세트            기초화장품 세트 순하고 생기있어보여요   \n",
       "2  기초 화장품 세트           남자기초화장품 세트제품으로 한방에 관리   \n",
       "3  기초 화장품 세트   기초화장품 내 피부에 딱 맞게 물들임 세트로 골랐어요   \n",
       "4  기초 화장품 세트               기초화장품세트 건조함도 끄떡없지   \n",
       "\n",
       "                                                  링크  내용  날짜  \n",
       "0  https://blog.naver.com/ik0726?Redirect=Log&log... NaN NaN  \n",
       "1  https://blog.naver.com/blood1226?Redirect=Log&... NaN NaN  \n",
       "2  https://blog.naver.com/lsi9094?Redirect=Log&lo... NaN NaN  \n",
       "3  https://blog.naver.com/greenjbee?Redirect=Log&... NaN NaN  \n",
       "4            https://kanalia250.blog.me/222098278149 NaN NaN  "
      ]
     },
     "execution_count": 5,
     "metadata": {},
     "output_type": "execute_result"
    }
   ],
   "source": [
    "blog_info2 = blog_info.copy()\n",
    "blog_info2['내용'] = np.nan\n",
    "blog_info2['날짜'] = np.nan\n",
    "blog_info2.head()"
   ]
  },
  {
   "cell_type": "code",
   "execution_count": 261,
   "metadata": {},
   "outputs": [
    {
     "data": {
      "text/plain": [
       "16000"
      ]
     },
     "execution_count": 261,
     "metadata": {},
     "output_type": "execute_result"
    }
   ],
   "source": [
    "# blog_info2 = blog_info2[blog_info2['카테고리']!='빗'].reset_index(drop = True)\n",
    "# len(blog_info2)"
   ]
  },
  {
   "cell_type": "code",
   "execution_count": 5,
   "metadata": {
    "collapsed": true
   },
   "outputs": [
    {
     "data": {
      "application/vnd.jupyter.widget-view+json": {
       "model_id": "8bc2a19073fd410398c4fc100efcd4b3",
       "version_major": 2,
       "version_minor": 0
      },
      "text/plain": [
       "HBox(children=(FloatProgress(value=0.0, max=16.0), HTML(value='')))"
      ]
     },
     "metadata": {},
     "output_type": "display_data"
    },
    {
     "name": "stdout",
     "output_type": "stream",
     "text": [
      "기초 화장품 세트\n"
     ]
    },
    {
     "data": {
      "application/vnd.jupyter.widget-view+json": {
       "model_id": "a4f16759a2444eadaaf21bf9864fc721",
       "version_major": 2,
       "version_minor": 0
      },
      "text/plain": [
       "HBox(children=(FloatProgress(value=0.0, max=1000.0), HTML(value='')))"
      ]
     },
     "metadata": {},
     "output_type": "display_data"
    },
    {
     "name": "stdout",
     "output_type": "stream",
     "text": [
      "\n",
      "\n"
     ]
    },
    {
     "ename": "KeyboardInterrupt",
     "evalue": "",
     "output_type": "error",
     "traceback": [
      "\u001b[1;31m---------------------------------------------------------------------------\u001b[0m",
      "\u001b[1;31mKeyboardInterrupt\u001b[0m                         Traceback (most recent call last)",
      "\u001b[1;32m<ipython-input-5-af8095ff2dd7>\u001b[0m in \u001b[0;36m<module>\u001b[1;34m\u001b[0m\n\u001b[0;32m     10\u001b[0m         \u001b[1;32mtry\u001b[0m\u001b[1;33m:\u001b[0m\u001b[1;33m\u001b[0m\u001b[1;33m\u001b[0m\u001b[0m\n\u001b[0;32m     11\u001b[0m             \u001b[0mdriver\u001b[0m\u001b[1;33m.\u001b[0m\u001b[0mget\u001b[0m\u001b[1;33m(\u001b[0m\u001b[0mlink\u001b[0m\u001b[1;33m)\u001b[0m\u001b[1;33m\u001b[0m\u001b[1;33m\u001b[0m\u001b[0m\n\u001b[1;32m---> 12\u001b[1;33m             \u001b[0mtime\u001b[0m\u001b[1;33m.\u001b[0m\u001b[0msleep\u001b[0m\u001b[1;33m(\u001b[0m\u001b[1;36m1\u001b[0m\u001b[1;33m)\u001b[0m\u001b[1;33m\u001b[0m\u001b[1;33m\u001b[0m\u001b[0m\n\u001b[0m\u001b[0;32m     13\u001b[0m             \u001b[1;32mtry\u001b[0m\u001b[1;33m:\u001b[0m\u001b[1;33m\u001b[0m\u001b[1;33m\u001b[0m\u001b[0m\n\u001b[0;32m     14\u001b[0m                 \u001b[0mdriver\u001b[0m\u001b[1;33m.\u001b[0m\u001b[0mswitch_to\u001b[0m\u001b[1;33m.\u001b[0m\u001b[0mframe\u001b[0m\u001b[1;33m(\u001b[0m\u001b[1;34m'mainFrame'\u001b[0m\u001b[1;33m)\u001b[0m\u001b[1;33m\u001b[0m\u001b[1;33m\u001b[0m\u001b[0m\n",
      "\u001b[1;31mKeyboardInterrupt\u001b[0m: "
     ]
    }
   ],
   "source": [
    "li = range(0,16000,1000) #1000개마다 저장하기 위한 인덱스 리스트\n",
    "\n",
    "for num in tqdm(li):\n",
    "    print(blog_info2['카테고리'][num])\n",
    "    df_1000 = blog_info2.iloc[num:num+1000,:].reset_index()\n",
    "    \n",
    "    for i in tqdm(range(len(df_1000))):\n",
    "        link = df_1000['링크'][i]   \n",
    "        \n",
    "        try: \n",
    "            driver.get(link)    \n",
    "            time.sleep(1)\n",
    "            try:\n",
    "                driver.switch_to.frame('mainFrame')\n",
    "\n",
    "                ################ case1 #################\n",
    "                try:\n",
    "                    try:\n",
    "                        text = driver.find_element_by_class_name('se-component.se-text.se-l-default')        \n",
    "                        texts = driver.find_elements_by_class_name('se-component.se-text.se-l-default')\n",
    "                        content_list = []\n",
    "\n",
    "                        for text in texts:\n",
    "                            content_list.append(text.text)\n",
    "                        content_str = ' '.join(content_list)\n",
    "\n",
    "                        df_1000['내용'][i] = content_str\n",
    "                        time.sleep(0.5)\n",
    "\n",
    "                        date_text = driver.find_element_by_class_name('se_publishDate.pcol2').text\n",
    "                        df_1000['날짜'][i] = date_text\n",
    "                    except NoSuchElementException:\n",
    "                        pass\n",
    "\n",
    "                ################ case2 #################\n",
    "                except:\n",
    "                    try:\n",
    "                        texts = driver.find_element_by_id('postViewArea').text\n",
    "\n",
    "                        df_1000['내용'][i] = texts\n",
    "                        time.sleep(0.5)\n",
    "\n",
    "                        date_text = driver.find_element_by_class_name('date.fil5.pcol2._postAddDate').text\n",
    "                        df_1000['날짜'][i] = date_text\n",
    "                    except NoSuchElementException:\n",
    "                        pass\n",
    "            except UnexpectedAlertPresentException:\n",
    "                pass            \n",
    "                  \n",
    "        except TimeoutException:\n",
    "            pass\n",
    "        except NoSuchFrameException:\n",
    "            pass\n",
    "        except WebDriverException:\n",
    "            pass\n",
    "\n",
    "    df_1000.to_excel('1_트렌드분석_블로그내용_{name}.xlsx'.format(name = df_1000['카테고리'][i]))"
   ]
  },
  {
   "cell_type": "markdown",
   "metadata": {},
   "source": [
    "### -----------------------------------------------------------------------------------------------------------------------------------------------------------"
   ]
  },
  {
   "cell_type": "code",
   "execution_count": null,
   "metadata": {},
   "outputs": [],
   "source": []
  },
  {
   "cell_type": "code",
   "execution_count": null,
   "metadata": {},
   "outputs": [],
   "source": []
  },
  {
   "cell_type": "code",
   "execution_count": null,
   "metadata": {},
   "outputs": [],
   "source": []
  }
 ],
 "metadata": {
  "kernelspec": {
   "display_name": "Python 3",
   "language": "python",
   "name": "python3"
  },
  "language_info": {
   "codemirror_mode": {
    "name": "ipython",
    "version": 3
   },
   "file_extension": ".py",
   "mimetype": "text/x-python",
   "name": "python",
   "nbconvert_exporter": "python",
   "pygments_lexer": "ipython3",
   "version": "3.8.3"
  }
 },
 "nbformat": 4,
 "nbformat_minor": 4
}
