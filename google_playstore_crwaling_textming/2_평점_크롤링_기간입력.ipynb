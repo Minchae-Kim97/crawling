{
 "cells": [
  {
   "cell_type": "code",
   "execution_count": 1,
   "metadata": {},
   "outputs": [],
   "source": [
    "import pandas as pd\n",
    "import numpy as np\n",
    "\n",
    "from selenium.webdriver import Chrome\n",
    "from selenium.common.exceptions import NoSuchElementException,StaleElementReferenceException, TimeoutException,NoSuchFrameException, WebDriverException, UnexpectedAlertPresentException\n",
    "from selenium.webdriver.common.keys import Keys # 스크롤\n",
    "\n",
    "import time\n",
    "import sys # 개수 업데이트\n",
    "import datetime\n",
    "\n",
    "from tqdm.notebook import tqdm\n",
    "\n",
    "import re"
   ]
  },
  {
   "cell_type": "code",
   "execution_count": 2,
   "metadata": {},
   "outputs": [],
   "source": [
    "# path 설정\n",
    "driver = Chrome('C:/Users/User/공공 빅데이터 인턴십_공영홈쇼핑/chromedriver.exe')"
   ]
  },
  {
   "cell_type": "markdown",
   "metadata": {},
   "source": [
    "## (1). 접속 -> 최신순"
   ]
  },
  {
   "cell_type": "code",
   "execution_count": 3,
   "metadata": {},
   "outputs": [],
   "source": [
    "url = 'https://play.google.com/store/apps/details?id=com.pub.fm&hl=ko&showAllReviews=true'"
   ]
  },
  {
   "cell_type": "code",
   "execution_count": 4,
   "metadata": {},
   "outputs": [],
   "source": [
    "driver.get(url)"
   ]
  },
  {
   "cell_type": "markdown",
   "metadata": {},
   "source": [
    "#### 현재: 관련도순 -> 최신순으로 바꾸기 위한 더보기 버튼 클릭"
   ]
  },
  {
   "cell_type": "code",
   "execution_count": 5,
   "metadata": {},
   "outputs": [],
   "source": [
    "more_button = driver.find_element_by_css_selector('div.MocG8c.UFSXYb.LMgvRb.KKjvXb')\n",
    "time.sleep(1)\n",
    "more_button.click()"
   ]
  },
  {
   "cell_type": "markdown",
   "metadata": {},
   "source": [
    "#### 최신순 클릭"
   ]
  },
  {
   "cell_type": "code",
   "execution_count": 11,
   "metadata": {
    "collapsed": true
   },
   "outputs": [
    {
     "ename": "NoSuchElementException",
     "evalue": "Message: no such element: Unable to locate element: {\"method\":\"xpath\",\"selector\":\"//*[@id=\"fcxH9b\"]/div[4]/c-wiz/div/div[2]/div/div/main/div/div[1]/div[2]/c-wiz/div[1]/div/div[2]/div[1]\"}\n  (Session info: chrome=86.0.4240.183)\n",
     "output_type": "error",
     "traceback": [
      "\u001b[1;31m---------------------------------------------------------------------------\u001b[0m",
      "\u001b[1;31mNoSuchElementException\u001b[0m                    Traceback (most recent call last)",
      "\u001b[1;32m<ipython-input-11-0d40ba43581f>\u001b[0m in \u001b[0;36m<module>\u001b[1;34m\u001b[0m\n\u001b[0;32m      1\u001b[0m \u001b[0mtime\u001b[0m\u001b[1;33m.\u001b[0m\u001b[0msleep\u001b[0m\u001b[1;33m(\u001b[0m\u001b[1;36m3\u001b[0m\u001b[1;33m)\u001b[0m\u001b[1;33m\u001b[0m\u001b[1;33m\u001b[0m\u001b[0m\n\u001b[1;32m----> 2\u001b[1;33m \u001b[0mlates_button\u001b[0m \u001b[1;33m=\u001b[0m \u001b[0mdriver\u001b[0m\u001b[1;33m.\u001b[0m\u001b[0mfind_element_by_xpath\u001b[0m\u001b[1;33m(\u001b[0m\u001b[1;34m'//*[@id=\"fcxH9b\"]/div[4]/c-wiz/div/div[2]/div/div/main/div/div[1]/div[2]/c-wiz/div[1]/div/div[2]/div[1]'\u001b[0m\u001b[1;33m)\u001b[0m\u001b[1;33m\u001b[0m\u001b[1;33m\u001b[0m\u001b[0m\n\u001b[0m\u001b[0;32m      3\u001b[0m \u001b[1;31m## 가끔씩 안먹을때가 있음 -> 안될때는 수동으로 최신순 클릭해야함.\u001b[0m\u001b[1;33m\u001b[0m\u001b[1;33m\u001b[0m\u001b[1;33m\u001b[0m\u001b[0m\n",
      "\u001b[1;32mC:\\ProgramData\\Anaconda3\\lib\\site-packages\\selenium\\webdriver\\remote\\webdriver.py\u001b[0m in \u001b[0;36mfind_element_by_xpath\u001b[1;34m(self, xpath)\u001b[0m\n\u001b[0;32m    392\u001b[0m             \u001b[0melement\u001b[0m \u001b[1;33m=\u001b[0m \u001b[0mdriver\u001b[0m\u001b[1;33m.\u001b[0m\u001b[0mfind_element_by_xpath\u001b[0m\u001b[1;33m(\u001b[0m\u001b[1;34m'//div/td[1]'\u001b[0m\u001b[1;33m)\u001b[0m\u001b[1;33m\u001b[0m\u001b[1;33m\u001b[0m\u001b[0m\n\u001b[0;32m    393\u001b[0m         \"\"\"\n\u001b[1;32m--> 394\u001b[1;33m         \u001b[1;32mreturn\u001b[0m \u001b[0mself\u001b[0m\u001b[1;33m.\u001b[0m\u001b[0mfind_element\u001b[0m\u001b[1;33m(\u001b[0m\u001b[0mby\u001b[0m\u001b[1;33m=\u001b[0m\u001b[0mBy\u001b[0m\u001b[1;33m.\u001b[0m\u001b[0mXPATH\u001b[0m\u001b[1;33m,\u001b[0m \u001b[0mvalue\u001b[0m\u001b[1;33m=\u001b[0m\u001b[0mxpath\u001b[0m\u001b[1;33m)\u001b[0m\u001b[1;33m\u001b[0m\u001b[1;33m\u001b[0m\u001b[0m\n\u001b[0m\u001b[0;32m    395\u001b[0m \u001b[1;33m\u001b[0m\u001b[0m\n\u001b[0;32m    396\u001b[0m     \u001b[1;32mdef\u001b[0m \u001b[0mfind_elements_by_xpath\u001b[0m\u001b[1;33m(\u001b[0m\u001b[0mself\u001b[0m\u001b[1;33m,\u001b[0m \u001b[0mxpath\u001b[0m\u001b[1;33m)\u001b[0m\u001b[1;33m:\u001b[0m\u001b[1;33m\u001b[0m\u001b[1;33m\u001b[0m\u001b[0m\n",
      "\u001b[1;32mC:\\ProgramData\\Anaconda3\\lib\\site-packages\\selenium\\webdriver\\remote\\webdriver.py\u001b[0m in \u001b[0;36mfind_element\u001b[1;34m(self, by, value)\u001b[0m\n\u001b[0;32m    974\u001b[0m                 \u001b[0mby\u001b[0m \u001b[1;33m=\u001b[0m \u001b[0mBy\u001b[0m\u001b[1;33m.\u001b[0m\u001b[0mCSS_SELECTOR\u001b[0m\u001b[1;33m\u001b[0m\u001b[1;33m\u001b[0m\u001b[0m\n\u001b[0;32m    975\u001b[0m                 \u001b[0mvalue\u001b[0m \u001b[1;33m=\u001b[0m \u001b[1;34m'[name=\"%s\"]'\u001b[0m \u001b[1;33m%\u001b[0m \u001b[0mvalue\u001b[0m\u001b[1;33m\u001b[0m\u001b[1;33m\u001b[0m\u001b[0m\n\u001b[1;32m--> 976\u001b[1;33m         return self.execute(Command.FIND_ELEMENT, {\n\u001b[0m\u001b[0;32m    977\u001b[0m             \u001b[1;34m'using'\u001b[0m\u001b[1;33m:\u001b[0m \u001b[0mby\u001b[0m\u001b[1;33m,\u001b[0m\u001b[1;33m\u001b[0m\u001b[1;33m\u001b[0m\u001b[0m\n\u001b[0;32m    978\u001b[0m             'value': value})['value']\n",
      "\u001b[1;32mC:\\ProgramData\\Anaconda3\\lib\\site-packages\\selenium\\webdriver\\remote\\webdriver.py\u001b[0m in \u001b[0;36mexecute\u001b[1;34m(self, driver_command, params)\u001b[0m\n\u001b[0;32m    319\u001b[0m         \u001b[0mresponse\u001b[0m \u001b[1;33m=\u001b[0m \u001b[0mself\u001b[0m\u001b[1;33m.\u001b[0m\u001b[0mcommand_executor\u001b[0m\u001b[1;33m.\u001b[0m\u001b[0mexecute\u001b[0m\u001b[1;33m(\u001b[0m\u001b[0mdriver_command\u001b[0m\u001b[1;33m,\u001b[0m \u001b[0mparams\u001b[0m\u001b[1;33m)\u001b[0m\u001b[1;33m\u001b[0m\u001b[1;33m\u001b[0m\u001b[0m\n\u001b[0;32m    320\u001b[0m         \u001b[1;32mif\u001b[0m \u001b[0mresponse\u001b[0m\u001b[1;33m:\u001b[0m\u001b[1;33m\u001b[0m\u001b[1;33m\u001b[0m\u001b[0m\n\u001b[1;32m--> 321\u001b[1;33m             \u001b[0mself\u001b[0m\u001b[1;33m.\u001b[0m\u001b[0merror_handler\u001b[0m\u001b[1;33m.\u001b[0m\u001b[0mcheck_response\u001b[0m\u001b[1;33m(\u001b[0m\u001b[0mresponse\u001b[0m\u001b[1;33m)\u001b[0m\u001b[1;33m\u001b[0m\u001b[1;33m\u001b[0m\u001b[0m\n\u001b[0m\u001b[0;32m    322\u001b[0m             response['value'] = self._unwrap_value(\n\u001b[0;32m    323\u001b[0m                 response.get('value', None))\n",
      "\u001b[1;32mC:\\ProgramData\\Anaconda3\\lib\\site-packages\\selenium\\webdriver\\remote\\errorhandler.py\u001b[0m in \u001b[0;36mcheck_response\u001b[1;34m(self, response)\u001b[0m\n\u001b[0;32m    240\u001b[0m                 \u001b[0malert_text\u001b[0m \u001b[1;33m=\u001b[0m \u001b[0mvalue\u001b[0m\u001b[1;33m[\u001b[0m\u001b[1;34m'alert'\u001b[0m\u001b[1;33m]\u001b[0m\u001b[1;33m.\u001b[0m\u001b[0mget\u001b[0m\u001b[1;33m(\u001b[0m\u001b[1;34m'text'\u001b[0m\u001b[1;33m)\u001b[0m\u001b[1;33m\u001b[0m\u001b[1;33m\u001b[0m\u001b[0m\n\u001b[0;32m    241\u001b[0m             \u001b[1;32mraise\u001b[0m \u001b[0mexception_class\u001b[0m\u001b[1;33m(\u001b[0m\u001b[0mmessage\u001b[0m\u001b[1;33m,\u001b[0m \u001b[0mscreen\u001b[0m\u001b[1;33m,\u001b[0m \u001b[0mstacktrace\u001b[0m\u001b[1;33m,\u001b[0m \u001b[0malert_text\u001b[0m\u001b[1;33m)\u001b[0m\u001b[1;33m\u001b[0m\u001b[1;33m\u001b[0m\u001b[0m\n\u001b[1;32m--> 242\u001b[1;33m         \u001b[1;32mraise\u001b[0m \u001b[0mexception_class\u001b[0m\u001b[1;33m(\u001b[0m\u001b[0mmessage\u001b[0m\u001b[1;33m,\u001b[0m \u001b[0mscreen\u001b[0m\u001b[1;33m,\u001b[0m \u001b[0mstacktrace\u001b[0m\u001b[1;33m)\u001b[0m\u001b[1;33m\u001b[0m\u001b[1;33m\u001b[0m\u001b[0m\n\u001b[0m\u001b[0;32m    243\u001b[0m \u001b[1;33m\u001b[0m\u001b[0m\n\u001b[0;32m    244\u001b[0m     \u001b[1;32mdef\u001b[0m \u001b[0m_value_or_default\u001b[0m\u001b[1;33m(\u001b[0m\u001b[0mself\u001b[0m\u001b[1;33m,\u001b[0m \u001b[0mobj\u001b[0m\u001b[1;33m,\u001b[0m \u001b[0mkey\u001b[0m\u001b[1;33m,\u001b[0m \u001b[0mdefault\u001b[0m\u001b[1;33m)\u001b[0m\u001b[1;33m:\u001b[0m\u001b[1;33m\u001b[0m\u001b[1;33m\u001b[0m\u001b[0m\n",
      "\u001b[1;31mNoSuchElementException\u001b[0m: Message: no such element: Unable to locate element: {\"method\":\"xpath\",\"selector\":\"//*[@id=\"fcxH9b\"]/div[4]/c-wiz/div/div[2]/div/div/main/div/div[1]/div[2]/c-wiz/div[1]/div/div[2]/div[1]\"}\n  (Session info: chrome=86.0.4240.183)\n"
     ]
    }
   ],
   "source": [
    "time.sleep(3)\n",
    "lates_button = driver.find_element_by_xpath('//*[@id=\"fcxH9b\"]/div[4]/c-wiz/div/div[2]/div/div/main/div/div[1]/div[2]/c-wiz/div[1]/div/div[2]/div[1]')\n",
    "## 가끔씩 안먹을때가 있음 -> 안될때는 수동으로 최신순 클릭해야함."
   ]
  },
  {
   "cell_type": "code",
   "execution_count": 7,
   "metadata": {},
   "outputs": [],
   "source": [
    "lates_button.click()"
   ]
  },
  {
   "cell_type": "markdown",
   "metadata": {},
   "source": [
    "## (2). 크롤링"
   ]
  },
  {
   "cell_type": "code",
   "execution_count": 8,
   "metadata": {},
   "outputs": [
    {
     "data": {
      "text/plain": [
       "4797"
      ]
     },
     "execution_count": 8,
     "metadata": {},
     "output_type": "execute_result"
    }
   ],
   "source": [
    "## 별점 개수\n",
    "review_counts = driver.find_element_by_css_selector('span.AYi5wd.TBRnV').text\n",
    "review_counts = re.sub(',', '', review_counts)\n",
    "review_counts = int(review_counts)\n",
    "review_counts"
   ]
  },
  {
   "cell_type": "code",
   "execution_count": 21,
   "metadata": {},
   "outputs": [],
   "source": [
    "## 원하는 날짜까지 스크롤하는 함수\n",
    "def appstore_scrawl(start_date):\n",
    "    batang = driver.find_element_by_css_selector('body')\n",
    "    while True:\n",
    "        dates = driver.find_elements_by_css_selector('div.d15Mdf.bAhLNe > div.xKpxId.zc7KVe > div.bAhLNe.kx8XBd > div > span.p2TkOb')\n",
    "        dates_list = list(map(lambda x: datetime.datetime.strptime(x.text, '%Y년 %m월 %d일').date(), dates))\n",
    "        \n",
    "        sys.stdout.write('\\rlast date is %s' %dates_list[-1]) # last date update\n",
    "        sys.stdout.flush()\n",
    "        time.sleep(0.5)\n",
    "\n",
    "        if dates_list[-1] < start_date:\n",
    "            break\n",
    "        else:\n",
    "            batang.send_keys(Keys.PAGE_DOWN)\n",
    "\n",
    "            ## 리뷰 더보기 버튼 클릭\n",
    "            try:\n",
    "                more_button = driver.find_element_by_css_selector('span.CwaK9')\n",
    "                more_button.click()\n",
    "                continue\n",
    "            except:\n",
    "                pass       "
   ]
  },
  {
   "cell_type": "code",
   "execution_count": 20,
   "metadata": {
    "scrolled": true
   },
   "outputs": [
    {
     "name": "stdout",
     "output_type": "stream",
     "text": [
      "last date is 2020-09-05"
     ]
    }
   ],
   "source": [
    "## input: 시작 날짜 입력\n",
    "start_date = datetime.date(2020,10,1)\n",
    "\n",
    "appstore_scrawl(start_date)"
   ]
  },
  {
   "cell_type": "code",
   "execution_count": 22,
   "metadata": {},
   "outputs": [],
   "source": [
    "## 내용이 긴 경우 -> 전체보기 버튼 클릭\n",
    "more_review_buttons = driver.find_elements_by_css_selector('button.LkLjZd.ScJHi.OzU4dc')\n",
    "for more_review_button in more_review_buttons:\n",
    "    try:\n",
    "        more_review_button.click()\n",
    "        time.sleep(1)\n",
    "    except:\n",
    "        pass"
   ]
  },
  {
   "cell_type": "code",
   "execution_count": 26,
   "metadata": {},
   "outputs": [
    {
     "name": "stdout",
     "output_type": "stream",
     "text": [
      "글 길이: 160\n",
      "날짜 길이: 160\n",
      "평점 길이: 160\n",
      "좋아요 길이: 160\n"
     ]
    }
   ],
   "source": [
    "review_texts = driver.find_elements_by_css_selector('div.UD7Dzf')\n",
    "dates = driver.find_elements_by_css_selector('div.d15Mdf.bAhLNe > div.xKpxId.zc7KVe > div.bAhLNe.kx8XBd > div > span.p2TkOb')\n",
    "stars = driver.find_elements_by_xpath(\"//span[@class='nt2C1d']/div[@class='pf5lIe']/div[@role='img']\")\n",
    "likes = driver.find_elements_by_xpath(\"//div[@aria-label='이 리뷰가 유용하다는 평가를 받은 횟수입니다.']\")   \n",
    "\n",
    "print('글 길이: {}'.format(len(review_texts)))\n",
    "print('날짜 길이: {}'.format(len(dates)))\n",
    "print('평점 길이: {}'.format(len(stars)))\n",
    "print('좋아요 길이: {}'.format(len(likes)))\n",
    "# 길이가 모두 같아야 함"
   ]
  },
  {
   "cell_type": "code",
   "execution_count": 28,
   "metadata": {},
   "outputs": [
    {
     "data": {
      "application/vnd.jupyter.widget-view+json": {
       "model_id": "819ce8c181324c6f90747bc0973501ca",
       "version_major": 2,
       "version_minor": 0
      },
      "text/plain": [
       "HBox(children=(FloatProgress(value=0.0, max=160.0), HTML(value='')))"
      ]
     },
     "metadata": {},
     "output_type": "display_data"
    },
    {
     "name": "stdout",
     "output_type": "stream",
     "text": [
      "\n"
     ]
    }
   ],
   "source": [
    "## 데이터프레임\n",
    "review_dict = []\n",
    "\n",
    "for i in tqdm(range(len(review_texts))):\n",
    "    review_dict.append({\n",
    "        'DATE' : dates[i].text,\n",
    "        'STAR' : stars[i].get_attribute('aria-label'),\n",
    "        'REVIEW' : review_texts[i].text,\n",
    "        'LIKE' : likes[i].text\n",
    "    })\n",
    "review_df = pd.DataFrame(review_dict)"
   ]
  },
  {
   "cell_type": "code",
   "execution_count": 35,
   "metadata": {},
   "outputs": [
    {
     "name": "stdout",
     "output_type": "stream",
     "text": [
      "길이:  160\n"
     ]
    },
    {
     "data": {
      "text/html": [
       "<div>\n",
       "<style scoped>\n",
       "    .dataframe tbody tr th:only-of-type {\n",
       "        vertical-align: middle;\n",
       "    }\n",
       "\n",
       "    .dataframe tbody tr th {\n",
       "        vertical-align: top;\n",
       "    }\n",
       "\n",
       "    .dataframe thead th {\n",
       "        text-align: right;\n",
       "    }\n",
       "</style>\n",
       "<table border=\"1\" class=\"dataframe\">\n",
       "  <thead>\n",
       "    <tr style=\"text-align: right;\">\n",
       "      <th></th>\n",
       "      <th>DATE</th>\n",
       "      <th>STAR</th>\n",
       "      <th>REVIEW</th>\n",
       "      <th>LIKE</th>\n",
       "    </tr>\n",
       "  </thead>\n",
       "  <tbody>\n",
       "    <tr>\n",
       "      <th>0</th>\n",
       "      <td>2020년 11월 10일</td>\n",
       "      <td>별표 5개 만점에 1개를 받았습니다.</td>\n",
       "      <td>와 앱......10번은 해야 들어가지네 ㅋㅋㅋ 계속 먹통이라니요</td>\n",
       "      <td></td>\n",
       "    </tr>\n",
       "    <tr>\n",
       "      <th>1</th>\n",
       "      <td>2020년 11월 10일</td>\n",
       "      <td>별표 5개 만점에 1개를 받았습니다.</td>\n",
       "      <td>회원가입후 로그인할려니 자꾸 아이디랑 비번 확인하라고해서 확인했더니 틀린게 없네요 ...</td>\n",
       "      <td></td>\n",
       "    </tr>\n",
       "    <tr>\n",
       "      <th>2</th>\n",
       "      <td>2020년 11월 10일</td>\n",
       "      <td>별표 5개 만점에 5개를 받았습니다.</td>\n",
       "      <td>상품 선택과 대금결제가 매우 편리하다.</td>\n",
       "      <td></td>\n",
       "    </tr>\n",
       "    <tr>\n",
       "      <th>3</th>\n",
       "      <td>2020년 11월 10일</td>\n",
       "      <td>별표 5개 만점에 1개를 받았습니다.</td>\n",
       "      <td>앱 실행후 홈황면 뜨면 먹통됩니다.</td>\n",
       "      <td></td>\n",
       "    </tr>\n",
       "    <tr>\n",
       "      <th>4</th>\n",
       "      <td>2020년 11월 10일</td>\n",
       "      <td>별표 5개 만점에 1개를 받았습니다.</td>\n",
       "      <td>먹통현상 때문에 물건을 살수가 없네요</td>\n",
       "      <td></td>\n",
       "    </tr>\n",
       "  </tbody>\n",
       "</table>\n",
       "</div>"
      ],
      "text/plain": [
       "            DATE                  STAR  \\\n",
       "0  2020년 11월 10일  별표 5개 만점에 1개를 받았습니다.   \n",
       "1  2020년 11월 10일  별표 5개 만점에 1개를 받았습니다.   \n",
       "2  2020년 11월 10일  별표 5개 만점에 5개를 받았습니다.   \n",
       "3  2020년 11월 10일  별표 5개 만점에 1개를 받았습니다.   \n",
       "4  2020년 11월 10일  별표 5개 만점에 1개를 받았습니다.   \n",
       "\n",
       "                                              REVIEW LIKE  \n",
       "0               와 앱......10번은 해야 들어가지네 ㅋㅋㅋ 계속 먹통이라니요       \n",
       "1  회원가입후 로그인할려니 자꾸 아이디랑 비번 확인하라고해서 확인했더니 틀린게 없네요 ...       \n",
       "2                              상품 선택과 대금결제가 매우 편리하다.       \n",
       "3                                앱 실행후 홈황면 뜨면 먹통됩니다.       \n",
       "4                               먹통현상 때문에 물건을 살수가 없네요       "
      ]
     },
     "execution_count": 35,
     "metadata": {},
     "output_type": "execute_result"
    }
   ],
   "source": [
    "print('길이: ', len(review_df))\n",
    "review_df.head()"
   ]
  },
  {
   "cell_type": "markdown",
   "metadata": {},
   "source": [
    "## (3).데이터 전처리"
   ]
  },
  {
   "cell_type": "code",
   "execution_count": 36,
   "metadata": {},
   "outputs": [
    {
     "name": "stdout",
     "output_type": "stream",
     "text": [
      "<class 'pandas.core.frame.DataFrame'>\n",
      "RangeIndex: 160 entries, 0 to 159\n",
      "Data columns (total 4 columns):\n",
      " #   Column  Non-Null Count  Dtype         \n",
      "---  ------  --------------  -----         \n",
      " 0   DATE    160 non-null    datetime64[ns]\n",
      " 1   STAR    160 non-null    object        \n",
      " 2   REVIEW  160 non-null    object        \n",
      " 3   LIKE    160 non-null    object        \n",
      "dtypes: datetime64[ns](1), object(3)\n",
      "memory usage: 5.1+ KB\n"
     ]
    }
   ],
   "source": [
    "## 날짜 형식으로 변환\n",
    "review_df['DATE'] = pd.to_datetime(review_df['DATE'], format='%Y년 %m월 %d일', errors='raise')\n",
    "review_df.info()"
   ]
  },
  {
   "cell_type": "code",
   "execution_count": 37,
   "metadata": {},
   "outputs": [
    {
     "data": {
      "text/html": [
       "<div>\n",
       "<style scoped>\n",
       "    .dataframe tbody tr th:only-of-type {\n",
       "        vertical-align: middle;\n",
       "    }\n",
       "\n",
       "    .dataframe tbody tr th {\n",
       "        vertical-align: top;\n",
       "    }\n",
       "\n",
       "    .dataframe thead th {\n",
       "        text-align: right;\n",
       "    }\n",
       "</style>\n",
       "<table border=\"1\" class=\"dataframe\">\n",
       "  <thead>\n",
       "    <tr style=\"text-align: right;\">\n",
       "      <th></th>\n",
       "      <th>DATE</th>\n",
       "      <th>STAR</th>\n",
       "      <th>REVIEW</th>\n",
       "      <th>LIKE</th>\n",
       "    </tr>\n",
       "  </thead>\n",
       "  <tbody>\n",
       "    <tr>\n",
       "      <th>0</th>\n",
       "      <td>2020-11-10</td>\n",
       "      <td>1</td>\n",
       "      <td>와 앱......10번은 해야 들어가지네 ㅋㅋㅋ 계속 먹통이라니요</td>\n",
       "      <td></td>\n",
       "    </tr>\n",
       "    <tr>\n",
       "      <th>1</th>\n",
       "      <td>2020-11-10</td>\n",
       "      <td>1</td>\n",
       "      <td>회원가입후 로그인할려니 자꾸 아이디랑 비번 확인하라고해서 확인했더니 틀린게 없네요 ...</td>\n",
       "      <td></td>\n",
       "    </tr>\n",
       "    <tr>\n",
       "      <th>2</th>\n",
       "      <td>2020-11-10</td>\n",
       "      <td>5</td>\n",
       "      <td>상품 선택과 대금결제가 매우 편리하다.</td>\n",
       "      <td></td>\n",
       "    </tr>\n",
       "    <tr>\n",
       "      <th>3</th>\n",
       "      <td>2020-11-10</td>\n",
       "      <td>1</td>\n",
       "      <td>앱 실행후 홈황면 뜨면 먹통됩니다.</td>\n",
       "      <td></td>\n",
       "    </tr>\n",
       "    <tr>\n",
       "      <th>4</th>\n",
       "      <td>2020-11-10</td>\n",
       "      <td>1</td>\n",
       "      <td>먹통현상 때문에 물건을 살수가 없네요</td>\n",
       "      <td></td>\n",
       "    </tr>\n",
       "  </tbody>\n",
       "</table>\n",
       "</div>"
      ],
      "text/plain": [
       "        DATE  STAR                                             REVIEW LIKE\n",
       "0 2020-11-10     1               와 앱......10번은 해야 들어가지네 ㅋㅋㅋ 계속 먹통이라니요     \n",
       "1 2020-11-10     1  회원가입후 로그인할려니 자꾸 아이디랑 비번 확인하라고해서 확인했더니 틀린게 없네요 ...     \n",
       "2 2020-11-10     5                              상품 선택과 대금결제가 매우 편리하다.     \n",
       "3 2020-11-10     1                                앱 실행후 홈황면 뜨면 먹통됩니다.     \n",
       "4 2020-11-10     1                               먹통현상 때문에 물건을 살수가 없네요     "
      ]
     },
     "execution_count": 37,
     "metadata": {},
     "output_type": "execute_result"
    }
   ],
   "source": [
    "## 별점만 추출\n",
    "review_df['STAR'] = review_df['STAR'].apply(lambda x: int(re.findall('[0-9]', x)[1]))\n",
    "review_df.head()"
   ]
  },
  {
   "cell_type": "code",
   "execution_count": 38,
   "metadata": {},
   "outputs": [
    {
     "name": "stderr",
     "output_type": "stream",
     "text": [
      "<ipython-input-38-57c8038e6713>:10: SettingWithCopyWarning: \n",
      "A value is trying to be set on a copy of a slice from a DataFrame\n",
      "\n",
      "See the caveats in the documentation: https://pandas.pydata.org/pandas-docs/stable/user_guide/indexing.html#returning-a-view-versus-a-copy\n",
      "  review_df['REVIEW'][i] = document\n"
     ]
    }
   ],
   "source": [
    "## 리뷰\n",
    "## 특수문자 제거\n",
    "import re\n",
    "\n",
    "#텍스트 정제 (특수기호 제거)\n",
    "for i, document in enumerate(review_df.REVIEW):\n",
    "    document = re.sub('[-=+,#/\\?:^$.@*\\\"※~&%ㆍ!』\\\\‘|\\(\\)\\[\\]\\<\\>`\\'…》]', '', document) #특수기호 제거, 정규 표현식     \n",
    "    document = re.sub('\\n', ' ', document)\n",
    "    document = re.sub('\\r', ' ', document)\n",
    "    review_df['REVIEW'][i] = document"
   ]
  },
  {
   "cell_type": "code",
   "execution_count": 77,
   "metadata": {},
   "outputs": [
    {
     "data": {
      "text/plain": [
       "0"
      ]
     },
     "execution_count": 77,
     "metadata": {},
     "output_type": "execute_result"
    }
   ],
   "source": [
    "## 좋아요\n",
    "review_df['LIKE'] = review_df['LIKE'].fillna(0)\n",
    "review_df['LIKE'].isna().sum()"
   ]
  },
  {
   "cell_type": "code",
   "execution_count": 78,
   "metadata": {},
   "outputs": [
    {
     "data": {
      "text/html": [
       "<div>\n",
       "<style scoped>\n",
       "    .dataframe tbody tr th:only-of-type {\n",
       "        vertical-align: middle;\n",
       "    }\n",
       "\n",
       "    .dataframe tbody tr th {\n",
       "        vertical-align: top;\n",
       "    }\n",
       "\n",
       "    .dataframe thead th {\n",
       "        text-align: right;\n",
       "    }\n",
       "</style>\n",
       "<table border=\"1\" class=\"dataframe\">\n",
       "  <thead>\n",
       "    <tr style=\"text-align: right;\">\n",
       "      <th></th>\n",
       "      <th>DATE</th>\n",
       "      <th>STAR</th>\n",
       "      <th>REVIEW</th>\n",
       "      <th>LIKE</th>\n",
       "      <th>year</th>\n",
       "      <th>month</th>\n",
       "    </tr>\n",
       "  </thead>\n",
       "  <tbody>\n",
       "    <tr>\n",
       "      <th>0</th>\n",
       "      <td>2020-11-10</td>\n",
       "      <td>1</td>\n",
       "      <td>와 앱10번은 해야 들어가지네 ㅋㅋㅋ 계속 먹통이라니요</td>\n",
       "      <td></td>\n",
       "      <td>2020</td>\n",
       "      <td>11</td>\n",
       "    </tr>\n",
       "    <tr>\n",
       "      <th>1</th>\n",
       "      <td>2020-11-10</td>\n",
       "      <td>1</td>\n",
       "      <td>회원가입후 로그인할려니 자꾸 아이디랑 비번 확인하라고해서 확인했더니 틀린게 없네요 ...</td>\n",
       "      <td></td>\n",
       "      <td>2020</td>\n",
       "      <td>11</td>\n",
       "    </tr>\n",
       "    <tr>\n",
       "      <th>2</th>\n",
       "      <td>2020-11-10</td>\n",
       "      <td>5</td>\n",
       "      <td>상품 선택과 대금결제가 매우 편리하다</td>\n",
       "      <td></td>\n",
       "      <td>2020</td>\n",
       "      <td>11</td>\n",
       "    </tr>\n",
       "    <tr>\n",
       "      <th>3</th>\n",
       "      <td>2020-11-10</td>\n",
       "      <td>1</td>\n",
       "      <td>앱 실행후 홈황면 뜨면 먹통됩니다</td>\n",
       "      <td></td>\n",
       "      <td>2020</td>\n",
       "      <td>11</td>\n",
       "    </tr>\n",
       "    <tr>\n",
       "      <th>4</th>\n",
       "      <td>2020-11-10</td>\n",
       "      <td>1</td>\n",
       "      <td>먹통현상 때문에 물건을 살수가 없네요</td>\n",
       "      <td></td>\n",
       "      <td>2020</td>\n",
       "      <td>11</td>\n",
       "    </tr>\n",
       "  </tbody>\n",
       "</table>\n",
       "</div>"
      ],
      "text/plain": [
       "        DATE  STAR                                             REVIEW LIKE  \\\n",
       "0 2020-11-10     1                     와 앱10번은 해야 들어가지네 ㅋㅋㅋ 계속 먹통이라니요        \n",
       "1 2020-11-10     1  회원가입후 로그인할려니 자꾸 아이디랑 비번 확인하라고해서 확인했더니 틀린게 없네요 ...        \n",
       "2 2020-11-10     5                               상품 선택과 대금결제가 매우 편리하다        \n",
       "3 2020-11-10     1                                 앱 실행후 홈황면 뜨면 먹통됩니다        \n",
       "4 2020-11-10     1                               먹통현상 때문에 물건을 살수가 없네요        \n",
       "\n",
       "   year  month  \n",
       "0  2020     11  \n",
       "1  2020     11  \n",
       "2  2020     11  \n",
       "3  2020     11  \n",
       "4  2020     11  "
      ]
     },
     "execution_count": 78,
     "metadata": {},
     "output_type": "execute_result"
    }
   ],
   "source": [
    "## 연도, 월 추출\n",
    "import datetime\n",
    "review_df['year'] = review_df['DATE'].dt.year\n",
    "review_df['month'] = review_df['DATE'].dt.month\n",
    "review_df.head()"
   ]
  },
  {
   "cell_type": "code",
   "execution_count": 80,
   "metadata": {},
   "outputs": [
    {
     "data": {
      "text/html": [
       "<div>\n",
       "<style scoped>\n",
       "    .dataframe tbody tr th:only-of-type {\n",
       "        vertical-align: middle;\n",
       "    }\n",
       "\n",
       "    .dataframe tbody tr th {\n",
       "        vertical-align: top;\n",
       "    }\n",
       "\n",
       "    .dataframe thead th {\n",
       "        text-align: right;\n",
       "    }\n",
       "</style>\n",
       "<table border=\"1\" class=\"dataframe\">\n",
       "  <thead>\n",
       "    <tr style=\"text-align: right;\">\n",
       "      <th></th>\n",
       "      <th>DATE</th>\n",
       "      <th>STAR</th>\n",
       "      <th>REVIEW</th>\n",
       "      <th>LIKE</th>\n",
       "      <th>year</th>\n",
       "      <th>month</th>\n",
       "    </tr>\n",
       "  </thead>\n",
       "  <tbody>\n",
       "    <tr>\n",
       "      <th>0</th>\n",
       "      <td>2020-10-01</td>\n",
       "      <td>1</td>\n",
       "      <td>무한 로그인시도뿐 살수가없네</td>\n",
       "      <td></td>\n",
       "      <td>2020</td>\n",
       "      <td>10</td>\n",
       "    </tr>\n",
       "    <tr>\n",
       "      <th>1</th>\n",
       "      <td>2020-10-04</td>\n",
       "      <td>1</td>\n",
       "      <td>로그인이안됨 비밀번호재설정5번이나새로해도 안되서 재설치하러옴</td>\n",
       "      <td></td>\n",
       "      <td>2020</td>\n",
       "      <td>10</td>\n",
       "    </tr>\n",
       "    <tr>\n",
       "      <th>2</th>\n",
       "      <td>2020-10-05</td>\n",
       "      <td>1</td>\n",
       "      <td>e쿠폰은 어디로 사라지게 하신건가요 복붙답변말고 이거에 대한 답좀 해주세요ㅋㅋ</td>\n",
       "      <td></td>\n",
       "      <td>2020</td>\n",
       "      <td>10</td>\n",
       "    </tr>\n",
       "    <tr>\n",
       "      <th>3</th>\n",
       "      <td>2020-10-06</td>\n",
       "      <td>5</td>\n",
       "      <td>오랜만에 다시 사용하는데 어플이 아주 빨라졌네요 굿굿 별 다섯개 드립니다</td>\n",
       "      <td>6</td>\n",
       "      <td>2020</td>\n",
       "      <td>10</td>\n",
       "    </tr>\n",
       "    <tr>\n",
       "      <th>4</th>\n",
       "      <td>2020-10-07</td>\n",
       "      <td>5</td>\n",
       "      <td>상품이 믿을만하다</td>\n",
       "      <td></td>\n",
       "      <td>2020</td>\n",
       "      <td>10</td>\n",
       "    </tr>\n",
       "  </tbody>\n",
       "</table>\n",
       "</div>"
      ],
      "text/plain": [
       "        DATE  STAR                                       REVIEW LIKE  year  \\\n",
       "0 2020-10-01     1                              무한 로그인시도뿐 살수가없네       2020   \n",
       "1 2020-10-04     1            로그인이안됨 비밀번호재설정5번이나새로해도 안되서 재설치하러옴       2020   \n",
       "2 2020-10-05     1  e쿠폰은 어디로 사라지게 하신건가요 복붙답변말고 이거에 대한 답좀 해주세요ㅋㅋ       2020   \n",
       "3 2020-10-06     5     오랜만에 다시 사용하는데 어플이 아주 빨라졌네요 굿굿 별 다섯개 드립니다    6  2020   \n",
       "4 2020-10-07     5                                    상품이 믿을만하다       2020   \n",
       "\n",
       "   month  \n",
       "0     10  \n",
       "1     10  \n",
       "2     10  \n",
       "3     10  \n",
       "4     10  "
      ]
     },
     "execution_count": 80,
     "metadata": {},
     "output_type": "execute_result"
    }
   ],
   "source": [
    "start_date = datetime.date(2020,10,1)\n",
    "last_date = datetime.date(2020,10,31)\n",
    "\n",
    "sel_df = review_df[review_df.DATE.apply(lambda x: x >= start_date and x <= last_date)].sort_values('DATE').reset_index(drop = True)\n",
    "sel_df.head()"
   ]
  },
  {
   "cell_type": "code",
   "execution_count": 82,
   "metadata": {},
   "outputs": [],
   "source": [
    "sel_df.to_excel('앱스토어_크롤링_{start}_{last}.xlsx'.format(start = start_date, last= last_date), index = False)"
   ]
  },
  {
   "cell_type": "code",
   "execution_count": 83,
   "metadata": {},
   "outputs": [],
   "source": [
    "sel_df.to_csv('앱스토어_크롤링_{start}_{last}.csv'.format(start = start_date, last= last_date) , index = False)"
   ]
  },
  {
   "cell_type": "code",
   "execution_count": 88,
   "metadata": {},
   "outputs": [
    {
     "data": {
      "text/html": [
       "<div>\n",
       "<style scoped>\n",
       "    .dataframe tbody tr th:only-of-type {\n",
       "        vertical-align: middle;\n",
       "    }\n",
       "\n",
       "    .dataframe tbody tr th {\n",
       "        vertical-align: top;\n",
       "    }\n",
       "\n",
       "    .dataframe thead th {\n",
       "        text-align: right;\n",
       "    }\n",
       "</style>\n",
       "<table border=\"1\" class=\"dataframe\">\n",
       "  <thead>\n",
       "    <tr style=\"text-align: right;\">\n",
       "      <th></th>\n",
       "      <th>DATE</th>\n",
       "      <th>STAR</th>\n",
       "      <th>REVIEW</th>\n",
       "      <th>LIKE</th>\n",
       "      <th>year</th>\n",
       "      <th>month</th>\n",
       "    </tr>\n",
       "  </thead>\n",
       "  <tbody>\n",
       "    <tr>\n",
       "      <th>0</th>\n",
       "      <td>2020-10-01</td>\n",
       "      <td>1</td>\n",
       "      <td>무한 로그인시도뿐 살수가없네</td>\n",
       "      <td>NaN</td>\n",
       "      <td>2020</td>\n",
       "      <td>10</td>\n",
       "    </tr>\n",
       "    <tr>\n",
       "      <th>1</th>\n",
       "      <td>2020-10-04</td>\n",
       "      <td>1</td>\n",
       "      <td>로그인이안됨 비밀번호재설정5번이나새로해도 안되서 재설치하러옴</td>\n",
       "      <td>NaN</td>\n",
       "      <td>2020</td>\n",
       "      <td>10</td>\n",
       "    </tr>\n",
       "    <tr>\n",
       "      <th>2</th>\n",
       "      <td>2020-10-05</td>\n",
       "      <td>1</td>\n",
       "      <td>e쿠폰은 어디로 사라지게 하신건가요 복붙답변말고 이거에 대한 답좀 해주세요ㅋㅋ</td>\n",
       "      <td>NaN</td>\n",
       "      <td>2020</td>\n",
       "      <td>10</td>\n",
       "    </tr>\n",
       "    <tr>\n",
       "      <th>3</th>\n",
       "      <td>2020-10-06</td>\n",
       "      <td>5</td>\n",
       "      <td>오랜만에 다시 사용하는데 어플이 아주 빨라졌네요 굿굿 별 다섯개 드립니다</td>\n",
       "      <td>6.0</td>\n",
       "      <td>2020</td>\n",
       "      <td>10</td>\n",
       "    </tr>\n",
       "    <tr>\n",
       "      <th>4</th>\n",
       "      <td>2020-10-07</td>\n",
       "      <td>5</td>\n",
       "      <td>상품이 믿을만하다</td>\n",
       "      <td>NaN</td>\n",
       "      <td>2020</td>\n",
       "      <td>10</td>\n",
       "    </tr>\n",
       "  </tbody>\n",
       "</table>\n",
       "</div>"
      ],
      "text/plain": [
       "         DATE  STAR                                       REVIEW  LIKE  year  \\\n",
       "0  2020-10-01     1                              무한 로그인시도뿐 살수가없네   NaN  2020   \n",
       "1  2020-10-04     1            로그인이안됨 비밀번호재설정5번이나새로해도 안되서 재설치하러옴   NaN  2020   \n",
       "2  2020-10-05     1  e쿠폰은 어디로 사라지게 하신건가요 복붙답변말고 이거에 대한 답좀 해주세요ㅋㅋ   NaN  2020   \n",
       "3  2020-10-06     5     오랜만에 다시 사용하는데 어플이 아주 빨라졌네요 굿굿 별 다섯개 드립니다   6.0  2020   \n",
       "4  2020-10-07     5                                    상품이 믿을만하다   NaN  2020   \n",
       "\n",
       "   month  \n",
       "0     10  \n",
       "1     10  \n",
       "2     10  \n",
       "3     10  \n",
       "4     10  "
      ]
     },
     "execution_count": 88,
     "metadata": {},
     "output_type": "execute_result"
    }
   ],
   "source": [
    "## 최종 데이터프레임\n",
    "review_df = pd.read_csv('앱스토어_크롤링_2020-10-01_2020-10-31.csv')\n",
    "review_df.head()"
   ]
  },
  {
   "cell_type": "markdown",
   "metadata": {},
   "source": [
    "## (4). 형태소 분석"
   ]
  },
  {
   "cell_type": "markdown",
   "metadata": {},
   "source": [
    "* 형태소 분석기"
   ]
  },
  {
   "cell_type": "code",
   "execution_count": 86,
   "metadata": {},
   "outputs": [],
   "source": [
    "import konlpy \n",
    "from konlpy.tag import Komoran  # 형태소 분석기 불러오기"
   ]
  },
  {
   "cell_type": "code",
   "execution_count": 87,
   "metadata": {},
   "outputs": [],
   "source": [
    "######## 사용: 명사, 형용사, 동사 ##########\n",
    "komoran = konlpy.tag.Komoran()\n",
    "\n",
    "def get_words(text):\n",
    "    clean_words = []\n",
    "    try:\n",
    "        for word in komoran.pos(text):\n",
    "            if word[1] in ['NNG', 'VA', 'VV', 'NNP']: #명사, 형용사, 동사, 고유명사\n",
    "                clean_words.append(word[0])\n",
    "        clean_words = [word for word in clean_words if len(word) > 1]\n",
    "        return clean_words\n",
    "    except:\n",
    "        return [\"error\"]"
   ]
  },
  {
   "cell_type": "markdown",
   "metadata": {},
   "source": [
    "* 카테고리별 tdm"
   ]
  },
  {
   "cell_type": "code",
   "execution_count": null,
   "metadata": {},
   "outputs": [],
   "source": [
    "from tqdm.notebook import tqdm\n",
    "from sklearn.feature_extraction.text import CountVectorizer\n",
    "import glob #자료묶기\n",
    "\n",
    "def category_tdm(df_column, folder_path):\n",
    "    for column_text in tqdm(df_column.unique()):\n",
    "        print(column_text)\n",
    "        df = review_df[df_column == column_text]\n",
    "        \n",
    "        cv = CountVectorizer(max_features=1000, tokenizer=get_words)\n",
    "        tdm = cv.fit_transform(df['REVIEW'])\n",
    "        \n",
    "        wordcount = pd.DataFrame({'text': column_text,'단어': cv.get_feature_names(),'빈도': tdm.sum(axis=0).flat}).sort_values('빈도', ascending = False)\n",
    "        wordcount.to_excel('./{folder}/2_평점크롤링_tdm_{name}.xlsx'.format(folder = folder_path, name = column_text), index=False)"
   ]
  },
  {
   "cell_type": "code",
   "execution_count": null,
   "metadata": {},
   "outputs": [],
   "source": [
    "category_tdm(review_df.year, 'tdm_연도별')  # 원하는 카테고리, 폴더명"
   ]
  },
  {
   "cell_type": "markdown",
   "metadata": {},
   "source": [
    "* 카테고리별 tdm 묶고 전처리"
   ]
  },
  {
   "cell_type": "code",
   "execution_count": null,
   "metadata": {},
   "outputs": [],
   "source": [
    "import glob #자료묶기\n",
    "\n",
    "def data_processing(folder_path, category_name):\n",
    "    # 자료 묶기\n",
    "    files = glob.glob('./{folder}/*.xlsx'.format(folder = folder_path))\n",
    "    dfs = (pd.read_excel(f, index_col=0) for f in files)\n",
    "    all_data = pd.concat(dfs, axis = 0)\n",
    "    df_tdm = all_data.reset_index()\n",
    "    \n",
    "    # 아이 -> 아이디\n",
    "    df_tdm = df_tdm.replace('아이', '아이디')\n",
    "    \n",
    "    # 제거할 단어\n",
    "    del_words = ['홈쇼핑', '쇼핑', '공영']\n",
    "    df_tdm = df_tdm[~df_tdm['단어'].isin(del_words)]\n",
    "    \n",
    "    df_tdm.to_excel('tdm_{category}_merge.xlsx'.format(category = category_name), index = False)"
   ]
  },
  {
   "cell_type": "code",
   "execution_count": null,
   "metadata": {},
   "outputs": [],
   "source": [
    "data_processing('tdm_연도별', '연도별') # 원하는 카테고리, 카테고리명"
   ]
  },
  {
   "cell_type": "code",
   "execution_count": null,
   "metadata": {},
   "outputs": [],
   "source": [
    "df_tdm = pd.read_excel('tdm_연도별_merge.xlsx')\n",
    "df_tdm.head()"
   ]
  },
  {
   "cell_type": "markdown",
   "metadata": {},
   "source": [
    "## (5). wordcloud"
   ]
  },
  {
   "cell_type": "code",
   "execution_count": null,
   "metadata": {},
   "outputs": [],
   "source": [
    "%matplotlib inline\n",
    "import matplotlib.pyplot as plt \n",
    "import matplotlib\n",
    "from wordcloud import WordCloud\n",
    "\n",
    "from matplotlib import font_manager, rc\n",
    "plt.rc('font', family='NanumGothic')"
   ]
  },
  {
   "cell_type": "code",
   "execution_count": null,
   "metadata": {},
   "outputs": [],
   "source": [
    "## word cloud\n",
    "wordcloud = WordCloud(font_path='NanumGothic',\n",
    "                      background_color='white',\n",
    "                      colormap = \"tab10\", \n",
    "                      width=1500, height=1000)"
   ]
  },
  {
   "cell_type": "code",
   "execution_count": null,
   "metadata": {},
   "outputs": [],
   "source": [
    "for word in df_tdm.text.unique():\n",
    "    print(word)\n",
    "    df = df_tdm[df_tdm['text'] == word]\n",
    "    \n",
    "    frequencies = df.set_index('단어').to_dict()['빈도']\n",
    "    keyword = wordcloud.generate_from_frequencies(frequencies) \n",
    "    array = keyword.to_array()\n",
    "    \n",
    "    plt.figure(figsize = (30,30))\n",
    "    plt.imshow(array) \n",
    "    plt.axis('off') \n",
    "    plt.show()"
   ]
  },
  {
   "cell_type": "markdown",
   "metadata": {},
   "source": [
    "## (6). top20"
   ]
  },
  {
   "cell_type": "code",
   "execution_count": null,
   "metadata": {},
   "outputs": [],
   "source": [
    "def top20(word):\n",
    "    print(word)\n",
    "    df = df_tdm[df_tdm['text'] == word]\n",
    "    \n",
    "    df2 = df.sort_values('빈도', ascending=False).reset_index(drop = True).iloc[:20,1:]\n",
    "    df2.index = df2.index + 1\n",
    "    display(df2)"
   ]
  },
  {
   "cell_type": "code",
   "execution_count": null,
   "metadata": {},
   "outputs": [],
   "source": [
    "for word in tqdm(df_tdm.text.unique()):\n",
    "    top20(word)"
   ]
  },
  {
   "cell_type": "code",
   "execution_count": null,
   "metadata": {},
   "outputs": [],
   "source": []
  },
  {
   "cell_type": "code",
   "execution_count": null,
   "metadata": {},
   "outputs": [],
   "source": []
  },
  {
   "cell_type": "code",
   "execution_count": null,
   "metadata": {},
   "outputs": [],
   "source": []
  },
  {
   "cell_type": "code",
   "execution_count": null,
   "metadata": {},
   "outputs": [],
   "source": []
  }
 ],
 "metadata": {
  "kernelspec": {
   "display_name": "Python 3",
   "language": "python",
   "name": "python3"
  },
  "language_info": {
   "codemirror_mode": {
    "name": "ipython",
    "version": 3
   },
   "file_extension": ".py",
   "mimetype": "text/x-python",
   "name": "python",
   "nbconvert_exporter": "python",
   "pygments_lexer": "ipython3",
   "version": "3.8.3"
  }
 },
 "nbformat": 4,
 "nbformat_minor": 4
}
